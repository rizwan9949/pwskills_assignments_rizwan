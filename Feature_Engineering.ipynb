{
  "nbformat": 4,
  "nbformat_minor": 0,
  "metadata": {
    "colab": {
      "provenance": []
    },
    "kernelspec": {
      "name": "python3",
      "display_name": "Python 3"
    },
    "language_info": {
      "name": "python"
    }
  },
  "cells": [
    {
      "cell_type": "markdown",
      "source": [
        "#1. What is a parameter?\n",
        "\n",
        "A parameter is a value that the model learns from the data during the training process. These are internal variables used by a machine learning algorithm to make predictions, such as the coefficients in a linear regression model."
      ],
      "metadata": {
        "id": "pfA4-1ANersP"
      }
    },
    {
      "cell_type": "markdown",
      "source": [
        "#2. What is correlation?\n",
        "\n",
        "**Correlation** is a statistical measure that expresses the strength and direction of the relationship between two variables. It ranges from -1 to 1:\n",
        "\n",
        "-> +1: Perfect positive correlation\n",
        "\n",
        "-> 0: No correlation\n",
        "\n",
        "-> -1: Perfect negative correlation\n",
        "\n"
      ],
      "metadata": {
        "id": "V_yGrYD8ev5x"
      }
    },
    {
      "cell_type": "markdown",
      "source": [
        "#3. What does negative correlation mean?\n",
        "\n",
        "Negative correlation means that as one variable increases, the other variable decreases, and vice versa. For example, an increase in temperature may lead to a decrease in heater usage."
      ],
      "metadata": {
        "id": "EDgwRfRchVft"
      }
    },
    {
      "cell_type": "markdown",
      "source": [
        "#4. Define Machine Learning. What are the main components in Machine Learning?\n",
        "\n",
        "Machine Learning is a branch of artificial intelligence where machines learn patterns from data to make decisions or predictions without being explicitly programmed.\n",
        "\n",
        "**Main components:**\n",
        "\n",
        "-> Data: The raw information used to train and test the model.\n",
        "\n",
        "-> Features: Attributes or variables used as input for the model.\n",
        "\n",
        "-> Model: The mathematical structure that learns patterns in data.\n",
        "\n",
        "-> Algorithm: The process or set of rules for training the model.\n",
        "\n",
        "-> Loss Function: Evaluates the difference between predicted and actual values.\n",
        "\n",
        "-> Optimization: Adjusts the parameters to minimize loss.\n"
      ],
      "metadata": {
        "id": "2TqHY_mdfE2b"
      }
    },
    {
      "cell_type": "markdown",
      "source": [
        "#5. How does loss value help in determining whether the model is good or not?\n",
        "\n",
        "Loss value quantifies the error between predicted and actual values.\n",
        "\n",
        "-> Low loss: The model performs well.\n",
        "\n",
        "-> High loss: The model needs improvement, indicating it is not fitting the data properly.\n",
        "\n"
      ],
      "metadata": {
        "id": "GLeEjP3sfVbe"
      }
    },
    {
      "cell_type": "markdown",
      "source": [
        "#6. What are continuous and categorical variables?\n",
        "\n",
        "-> Continuous variables: Numerical variables with an infinite range (e.g., height, temperature).\n",
        "\n",
        "-> Categorical variables: Variables representing discrete groups or categories (e.g., gender, color).\n"
      ],
      "metadata": {
        "id": "gcPJu41Ofe9a"
      }
    },
    {
      "cell_type": "markdown",
      "source": [
        "#7. How do we handle categorical variables in Machine Learning? What are the common techniques?\n",
        "\n",
        "Categorical variables are handled by converting them into numerical formats.\n",
        "\n",
        "Common techniques include:\n",
        "\n",
        "-> Label Encoding: Assigns a unique number to each category.\n",
        "\n",
        "-> One-Hot Encoding: Creates binary columns for each category.\n",
        "\n",
        "-> Ordinal Encoding: Assigns ordinal values to categories with order.\n"
      ],
      "metadata": {
        "id": "XNleFjLffmHy"
      }
    },
    {
      "cell_type": "markdown",
      "source": [
        "#8. What do you mean by training and testing a dataset?\n",
        "-> Training dataset: Used to train the machine learning model.\n",
        "\n",
        "-> Testing dataset: Used to evaluate the model’s performance on unseen data.\n",
        "\n"
      ],
      "metadata": {
        "id": "U1VkWmFlf0tL"
      }
    },
    {
      "cell_type": "markdown",
      "source": [
        "#9. What is sklearn.preprocessing?\n",
        "\n",
        "sklearn.preprocessing is a module in Scikit-learn that provides functions and tools for preprocessing data, such as scaling, encoding, and normalization.\n"
      ],
      "metadata": {
        "id": "mOkfGgS3f9DG"
      }
    },
    {
      "cell_type": "markdown",
      "source": [
        "#10. What is a Test set?\n",
        "\n",
        "A test set is a subset of the dataset used to evaluate the model's performance after it has been trained.\n",
        "\n"
      ],
      "metadata": {
        "id": "12Ct4-utgErK"
      }
    },
    {
      "cell_type": "markdown",
      "source": [
        "#11. How do we split data for model fitting (training and testing) in Python?\n",
        "\n",
        "Using train_test_split from Scikit-learn:\n"
      ],
      "metadata": {
        "id": "sckb0uCigJdC"
      }
    },
    {
      "cell_type": "code",
      "source": [
        "from sklearn.model_selection import train_test_split\n",
        "X_train, X_test, y_train, y_test = train_test_split(X, y, test_size=0.2, random_state=42)"
      ],
      "metadata": {
        "id": "_oLxKc2cgVwP"
      },
      "execution_count": null,
      "outputs": []
    },
    {
      "cell_type": "markdown",
      "source": [
        "#12. How do you approach a Machine Learning problem?\n",
        "-> Understand the problem and gather data.\n",
        "\n",
        "-> Perform Exploratory Data Analysis (EDA).\n",
        "\n",
        "-> Preprocess and clean the data.\n",
        "\n",
        "-> Choose an appropriate algorithm.\n",
        "\n",
        "-> Train the model and optimize.\n",
        "\n",
        "-> Evaluate the model using metrics.\n",
        "\n",
        "-> Deploy and monitor the model."
      ],
      "metadata": {
        "id": "djbD13FEgaWr"
      }
    },
    {
      "cell_type": "markdown",
      "source": [
        "#13. Why do we have to perform EDA before fitting a model to the data?\n",
        "EDA helps understand the dataset, detect anomalies, visualize patterns, and identify correlations between variables. This ensures better feature selection and preprocessing.\n",
        "\n"
      ],
      "metadata": {
        "id": "3_YXjR-ig1rO"
      }
    },
    {
      "cell_type": "markdown",
      "source": [
        "#14. What does negative correlation mean? (This question is repeated in Assignment questions)\n",
        "\n",
        "Negative correlation means that as one variable increases, the other variable decreases, and vice versa. For example, an increase in temperature may lead to a decrease in heater usage.\n",
        "\n"
      ],
      "metadata": {
        "id": "Qo8x80q7k5Ei"
      }
    },
    {
      "cell_type": "markdown",
      "source": [
        "#15. How can you find correlation between variables in Python?\n",
        "\n"
      ],
      "metadata": {
        "id": "l4XmN3Y-g67x"
      }
    },
    {
      "cell_type": "code",
      "source": [
        "import pandas as pd\n",
        "import seaborn as sns\n",
        "import matplotlib.pyplot as plt\n",
        "\n",
        "# Compute correlation matrix\n",
        "correlation_matrix = df.corr()\n",
        "\n",
        "# Visualize using heatmap\n",
        "sns.heatmap(correlation_matrix, annot=True)\n",
        "plt.show()"
      ],
      "metadata": {
        "id": "XcDKoPHgiKRg"
      },
      "execution_count": null,
      "outputs": []
    },
    {
      "cell_type": "markdown",
      "source": [
        "#16. What is causation? Explain difference between correlation and causation with an example.\n",
        "-> Correlation: A relationship where two variables move together.\n",
        "\n",
        "-> Causation: A relationship where one variable directly affects the other.\n",
        "\n",
        "**Example:**\n",
        "\n",
        "-> Correlation: Ice cream sales and shark attacks are positively correlated (both increase in summer).\n",
        "\n",
        "-> Causation: Drinking contaminated water causes illness.\n"
      ],
      "metadata": {
        "id": "uFFbk-sZiLdc"
      }
    },
    {
      "cell_type": "markdown",
      "source": [
        "#17. What is an Optimizer? What are different types of optimizers? Explain each with an example.\n",
        "An optimizer minimizes the loss function by updating model parameters.\n",
        "\n",
        "**Types of optimizers:**\n",
        "\n",
        "-> Gradient Descent: Updates parameters using the gradient of the loss function.\n",
        "\n",
        "-> Adam: Combines momentum and adaptive learning rate.\n",
        "\n",
        "->RMSprop: Adapts learning rate based on recent gradients.\n"
      ],
      "metadata": {
        "id": "V3i8s_xgiZY7"
      }
    },
    {
      "cell_type": "markdown",
      "source": [
        "#18. What is sklearn.linear_model ?\n",
        "\n",
        "It is a Scikit-learn module containing linear models like linear regression, logistic regression, and Ridge regression.\n",
        "\n",
        "\n"
      ],
      "metadata": {
        "id": "6vA4TjMIim69"
      }
    },
    {
      "cell_type": "markdown",
      "source": [
        "#19. What does model.fit() do? What arguments must be given?\n",
        "\n",
        "model.fit() trains the model using the training data.\n",
        "\n",
        "**Arguments:** Features (X) and target (y).\n",
        "\n"
      ],
      "metadata": {
        "id": "PS2pTiUzisbL"
      }
    },
    {
      "cell_type": "markdown",
      "source": [
        "#20. What does model.predict() do? What arguments must be given?\n",
        "\n",
        "model.predict() makes predictions on new data.\n",
        "\n",
        "**Arguments:** Features (X) of the data to predict."
      ],
      "metadata": {
        "id": "5W-vxX65i1DL"
      }
    },
    {
      "cell_type": "markdown",
      "source": [
        "#21. What is feature scaling? How does it help in Machine Learning?\n",
        "Feature scaling standardizes or normalizes features to a similar range. It ensures that no feature dominates others due to scale, improving model performance.\n",
        "\n",
        "\n",
        "\n"
      ],
      "metadata": {
        "id": "9yYTw9iFi9Nv"
      }
    },
    {
      "cell_type": "markdown",
      "source": [
        "#22. What are continuous and categorical variables? (This question is repeated in Assignment questions)\n",
        "-> Continuous variables: Numerical variables with an infinite range (e.g., height, temperature).\n",
        "\n",
        "-> Categorical variables: Variables representing discrete groups or categories (e.g., gender, color).\n"
      ],
      "metadata": {
        "id": "wSD87eOWjd5S"
      }
    },
    {
      "cell_type": "markdown",
      "source": [
        "#23. How do we perform scaling in Python?\n"
      ],
      "metadata": {
        "id": "nC71alObjSIf"
      }
    },
    {
      "cell_type": "code",
      "source": [
        "from sklearn.preprocessing import StandardScaler\n",
        "\n",
        "scaler = StandardScaler()\n",
        "X_scaled = scaler.fit_transform(X)"
      ],
      "metadata": {
        "id": "f-kliMbIjWmj"
      },
      "execution_count": null,
      "outputs": []
    },
    {
      "cell_type": "markdown",
      "source": [
        "#24. How do we split data for model fitting (training and testing) in Python?\n",
        "\n",
        "(This question is repeated in Assignment questions)"
      ],
      "metadata": {
        "id": "fFYNMzPUjuc6"
      }
    },
    {
      "cell_type": "code",
      "source": [
        "from sklearn.model_selection import train_test_split\n",
        "X_train, X_test, y_train, y_test = train_test_split(X, y, test_size=0.2, random_state=42)"
      ],
      "metadata": {
        "id": "c26F27Zkjyhg"
      },
      "execution_count": null,
      "outputs": []
    },
    {
      "cell_type": "markdown",
      "source": [
        "#25. Explain data encoding?\n",
        "\n",
        "Data encoding converts categorical variables into numerical formats.\n",
        "\n",
        "**Techniques include:**\n",
        "\n",
        "1. Label Encoding\n",
        "2. One-Hot Encoding\n",
        "3. Ordinal Encoding"
      ],
      "metadata": {
        "id": "c9NxcGmVkWOW"
      }
    }
  ]
}