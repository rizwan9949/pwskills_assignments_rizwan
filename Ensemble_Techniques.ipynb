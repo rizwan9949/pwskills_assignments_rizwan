{
  "cells": [
    {
      "cell_type": "markdown",
      "metadata": {
        "id": "fraZwrTVPW63"
      },
      "source": [
        "# Ensemble Learning Assignment - Theory\n",
        "\n",
        "## 1. Can we use Bagging for regression problems?\n",
        "Yes, Bagging can be used for regression problems. Bagging Regressor aggregates predictions from multiple regression models to reduce variance and improve stability.\n",
        "\n",
        "## 2. What is the difference between multiple model training and single model training?\n",
        "Single model training uses one algorithm to learn from data, while multiple model training (ensemble methods) combines multiple models to improve accuracy and generalization.\n",
        "\n",
        "## 3. Explain the concept of feature randomness in Random Forest.\n",
        "Random Forest introduces feature randomness by selecting a random subset of features for each decision tree split. This helps in reducing overfitting.\n",
        "\n",
        "## 4. What is OOB (Out-of-Bag) Score?\n",
        "OOB score is a performance measure in Bagging and Random Forest where each tree is evaluated on data samples that were **not** used in its training (out-of-bag samples).\n",
        "\n",
        "## 5. How can you measure the importance of features in a Random Forest model?\n",
        "Feature importance can be measured using the **Gini importance** (mean decrease in impurity) or by checking how much model accuracy drops when a feature is removed.\n",
        "\n",
        "## 6. Explain the working principle of a Bagging Classifier.\n",
        "Bagging Classifier trains multiple models on **different bootstrap samples** of the dataset and combines their predictions through majority voting.\n",
        "\n",
        "## 7. How do you evaluate a Bagging Classifier’s performance?\n",
        "Performance is evaluated using accuracy, precision, recall, F1-score, and ROC-AUC score, depending on the classification problem.\n",
        "\n",
        "## 8. How does a Bagging Regressor work?\n",
        "Bagging Regressor averages predictions from multiple base regressors trained on different subsets of the data.\n",
        "\n",
        "## 9. What is the main advantage of ensemble techniques?\n",
        "Ensemble techniques improve model **stability, accuracy, and generalization** by combining multiple weak models into a strong one.\n",
        "\n",
        "## 10. What is the main challenge of ensemble methods?\n",
        "The main challenge is **computational cost**, as multiple models must be trained and combined.\n",
        "\n",
        "## 11. Explain the key idea behind ensemble techniques.\n",
        "Ensemble learning combines predictions from multiple models to create a more robust final prediction.\n",
        "\n",
        "## 12. What is a Random Forest Classifier?\n",
        "A Random Forest Classifier is an ensemble learning method that creates multiple decision trees and combines their predictions using majority voting.\n",
        "\n",
        "## 13. What are the main types of ensemble techniques?\n",
        "The main types are **Bagging, Boosting, Stacking, and Voting.**\n",
        "\n",
        "## 14. What is ensemble learning in machine learning?\n",
        "Ensemble learning is a technique that combines multiple models to improve accuracy and reduce overfitting.\n",
        "\n",
        "## 15. When should we avoid using ensemble methods?\n",
        "Ensemble methods should be avoided when a **single model is already performing well** or when computational resources are limited.\n",
        "\n",
        "## 16. How does Bagging help in reducing overfitting?\n",
        "Bagging reduces overfitting by training models on different bootstrap samples and averaging their predictions.\n",
        "\n",
        "## 17. Why is Random Forest better than a single Decision Tree?\n",
        "Random Forest reduces overfitting by training multiple trees on different feature subsets and aggregating their predictions.\n",
        "\n",
        "## 18. What is the role of bootstrap sampling in Bagging?\n",
        "Bootstrap sampling creates multiple **random subsets** of data, allowing each model to learn from different variations of the dataset.\n",
        "\n",
        "## 19. What are some real-world applications of ensemble techniques?\n",
        "Ensemble techniques are used in **fraud detection, recommendation systems, medical diagnosis, and financial forecasting.**\n",
        "\n",
        "## 20. What is the difference between Bagging and Boosting?\n",
        "**Bagging reduces variance** by training models independently, while **Boosting reduces bias** by training models sequentially and focusing on misclassified instances.\n"
      ]
    },
    {
      "cell_type": "markdown",
      "source": [
        "# Ensemble Learning Assignment - Practical"
      ],
      "metadata": {
        "id": "G7jrLJaKT8XL"
      }
    },
    {
      "cell_type": "code",
      "source": [
        "import numpy as np\n",
        "import pandas as pd\n",
        "import joblib\n",
        "import matplotlib.pyplot as plt\n",
        "import seaborn as sns\n",
        "\n",
        "from sklearn.model_selection import train_test_split, GridSearchCV, cross_val_score\n",
        "from sklearn.ensemble import BaggingClassifier, BaggingRegressor, RandomForestClassifier, RandomForestRegressor, StackingClassifier\n",
        "from sklearn.svm import SVC\n",
        "from sklearn.linear_model import LogisticRegression\n",
        "from sklearn.tree import DecisionTreeClassifier, DecisionTreeRegressor\n",
        "from sklearn.metrics import accuracy_score, mean_squared_error, roc_auc_score, precision_score, recall_score, f1_score, confusion_matrix, precision_recall_curve\n",
        "from sklearn.preprocessing import StandardScaler\n",
        "from sklearn.datasets import load_breast_cancer, make_regression, make_classification"
      ],
      "metadata": {
        "id": "CShD_hTfUBRv"
      },
      "execution_count": 3,
      "outputs": []
    },
    {
      "cell_type": "code",
      "source": [
        "# 21. Train a Bagging Classifier using Decision Trees on a sample dataset and print model accuracy\n",
        "X, y = make_classification(n_samples=1000, n_features=20, random_state=42)\n",
        "X_train, X_test, y_train, y_test = train_test_split(X, y, test_size=0.2, random_state=42)\n",
        "\n",
        "bagging_clf = BaggingClassifier(estimator=DecisionTreeClassifier(), n_estimators=50, random_state=42)\n",
        "bagging_clf.fit(X_train, y_train)\n",
        "print(\"Model Accuracy:\", accuracy_score(y_test, bagging_clf.predict(X_test)))"
      ],
      "metadata": {
        "colab": {
          "base_uri": "https://localhost:8080/"
        },
        "id": "4jKroGlWUCok",
        "outputId": "8ef9093b-5512-4b02-db2c-afd25658e2cd"
      },
      "execution_count": 4,
      "outputs": [
        {
          "output_type": "stream",
          "name": "stdout",
          "text": [
            "Model Accuracy: 0.885\n"
          ]
        }
      ]
    },
    {
      "cell_type": "code",
      "source": [
        "# 22. Train a Bagging Regressor using Decision Trees and evaluate using Mean Squared Error (MSE)\n",
        "X, y = make_regression(n_samples=1000, n_features=20, noise=0.1, random_state=42)\n",
        "X_train, X_test, y_train, y_test = train_test_split(X, y, test_size=0.2, random_state=42)\n",
        "\n",
        "bagging_reg = BaggingRegressor(estimator=DecisionTreeRegressor(), n_estimators=50, random_state=42)\n",
        "bagging_reg.fit(X_train, y_train)\n",
        "print(\"Mean Squared Error:\", mean_squared_error(y_test, bagging_reg.predict(X_test)))"
      ],
      "metadata": {
        "colab": {
          "base_uri": "https://localhost:8080/"
        },
        "id": "qp2fiSRZUFIw",
        "outputId": "92a19bad-00b4-4663-ec97-52cd95055971"
      },
      "execution_count": 5,
      "outputs": [
        {
          "output_type": "stream",
          "name": "stdout",
          "text": [
            "Mean Squared Error: 7109.3878911872125\n"
          ]
        }
      ]
    },
    {
      "cell_type": "code",
      "source": [
        "# 23. Train a Random Forest Classifier on the Breast Cancer dataset and print feature importance scores\n",
        "data = load_breast_cancer()\n",
        "X, y = data.data, data.target\n",
        "X_train, X_test, y_train, y_test = train_test_split(X, y, test_size=0.2, random_state=42)\n",
        "\n",
        "rf_clf = RandomForestClassifier(n_estimators=100, random_state=42)\n",
        "rf_clf.fit(X_train, y_train)\n",
        "feature_importance = pd.DataFrame({'Feature': data.feature_names, 'Importance': rf_clf.feature_importances_}).sort_values(by='Importance', ascending=False)\n",
        "print(feature_importance.head())"
      ],
      "metadata": {
        "colab": {
          "base_uri": "https://localhost:8080/"
        },
        "id": "1ONdVaXyUHhu",
        "outputId": "dec98561-0ccd-446a-fa11-b482483061db"
      },
      "execution_count": 6,
      "outputs": [
        {
          "output_type": "stream",
          "name": "stdout",
          "text": [
            "                 Feature  Importance\n",
            "23            worst area    0.153892\n",
            "27  worst concave points    0.144663\n",
            "7    mean concave points    0.106210\n",
            "20          worst radius    0.077987\n",
            "6         mean concavity    0.068001\n"
          ]
        }
      ]
    },
    {
      "cell_type": "code",
      "source": [
        "# 24. Train a Random Forest Regressor and compare its performance with a single Decision Tree\n",
        "X, y = make_regression(n_samples=1000, n_features=20, noise=0.1, random_state=42)\n",
        "X_train, X_test, y_train, y_test = train_test_split(X, y, test_size=0.2, random_state=42)\n",
        "\n",
        "rf_reg = RandomForestRegressor(n_estimators=100, random_state=42)\n",
        "rf_reg.fit(X_train, y_train)\n",
        "dt_reg = DecisionTreeRegressor()\n",
        "dt_reg.fit(X_train, y_train)\n",
        "print(\"Random Forest MSE:\", mean_squared_error(y_test, rf_reg.predict(X_test)))\n",
        "print(\"Decision Tree MSE:\", mean_squared_error(y_test, dt_reg.predict(X_test)))"
      ],
      "metadata": {
        "colab": {
          "base_uri": "https://localhost:8080/"
        },
        "id": "bRubtHEJULBt",
        "outputId": "8990a7b9-af0f-40aa-fdb3-d4c415fa93c6"
      },
      "execution_count": 7,
      "outputs": [
        {
          "output_type": "stream",
          "name": "stdout",
          "text": [
            "Random Forest MSE: 7055.507694741972\n",
            "Decision Tree MSE: 18670.86197919355\n"
          ]
        }
      ]
    },
    {
      "cell_type": "code",
      "source": [
        "# 25. Compute the Out-of-Bag (OOB) Score for a Random Forest Classifier\n",
        "\n",
        "data = load_breast_cancer()\n",
        "X, y = data.data, data.target\n",
        "\n",
        "X_train, X_test, y_train, y_test = train_test_split(X, y, test_size=0.2, random_state=42)\n",
        "\n",
        "rf_clf_oob = RandomForestClassifier(n_estimators=100, oob_score=True, random_state=42)\n",
        "rf_clf_oob.fit(X_train, y_train)\n",
        "\n",
        "print(\"OOB Score:\", rf_clf_oob.oob_score_)"
      ],
      "metadata": {
        "colab": {
          "base_uri": "https://localhost:8080/"
        },
        "id": "TE8PySr1UNP8",
        "outputId": "76c3f09f-b248-4874-ea1c-c83d4a5a58e1"
      },
      "execution_count": 11,
      "outputs": [
        {
          "output_type": "stream",
          "name": "stdout",
          "text": [
            "OOB Score: 0.9560439560439561\n"
          ]
        }
      ]
    },
    {
      "cell_type": "code",
      "source": [
        "# 26. Train a Bagging Classifier using SVM as a base estimator and print accuracy\n",
        "bagging_svm = BaggingClassifier(estimator=SVC(), n_estimators=50, random_state=42)\n",
        "bagging_svm.fit(X_train, y_train)\n",
        "print(\"Bagging SVM Accuracy:\", accuracy_score(y_test, bagging_svm.predict(X_test)))"
      ],
      "metadata": {
        "colab": {
          "base_uri": "https://localhost:8080/"
        },
        "id": "st9h9AdfUPO2",
        "outputId": "f26b69f3-f3d5-40ee-80fe-88c2ac7faa32"
      },
      "execution_count": 12,
      "outputs": [
        {
          "output_type": "stream",
          "name": "stdout",
          "text": [
            "Bagging SVM Accuracy: 0.9473684210526315\n"
          ]
        }
      ]
    },
    {
      "cell_type": "code",
      "source": [
        "# 27. Train a Random Forest Classifier with different numbers of trees and compare accuracy\n",
        "for n_trees in [10, 50, 100]:\n",
        "    rf_clf = RandomForestClassifier(n_estimators=n_trees, random_state=42)\n",
        "    rf_clf.fit(X_train, y_train)\n",
        "    print(f\"Random Forest ({n_trees} trees) Accuracy:\", accuracy_score(y_test, rf_clf.predict(X_test)))"
      ],
      "metadata": {
        "colab": {
          "base_uri": "https://localhost:8080/"
        },
        "id": "2TQVeHLSUQ23",
        "outputId": "0064dc9b-ffed-40ec-8788-6bfe8898e004"
      },
      "execution_count": 13,
      "outputs": [
        {
          "output_type": "stream",
          "name": "stdout",
          "text": [
            "Random Forest (10 trees) Accuracy: 0.956140350877193\n",
            "Random Forest (50 trees) Accuracy: 0.9649122807017544\n",
            "Random Forest (100 trees) Accuracy: 0.9649122807017544\n"
          ]
        }
      ]
    },
    {
      "cell_type": "code",
      "source": [
        "# 28. Train a Bagging Classifier using Logistic Regression as a base estimator and print AUC score\n",
        "from sklearn.preprocessing import StandardScaler\n",
        "scaler = StandardScaler()\n",
        "X_train_scaled = scaler.fit_transform(X_train)\n",
        "X_test_scaled = scaler.transform(X_test)\n",
        "\n",
        "bagging_logreg = BaggingClassifier(estimator=LogisticRegression(max_iter=1000), n_estimators=50, random_state=42)\n",
        "bagging_logreg.fit(X_train_scaled, y_train)\n",
        "y_probs = bagging_logreg.predict_proba(X_test_scaled)[:, 1]\n",
        "print(\"Bagging Logistic Regression AUC Score:\", roc_auc_score(y_test, y_probs))"
      ],
      "metadata": {
        "colab": {
          "base_uri": "https://localhost:8080/"
        },
        "id": "zk2oBtosUTZk",
        "outputId": "1f61ceb4-c6e9-47b9-f309-5a5fea48b4a6"
      },
      "execution_count": 17,
      "outputs": [
        {
          "output_type": "stream",
          "name": "stdout",
          "text": [
            "Bagging Logistic Regression AUC Score: 0.99737962659679\n"
          ]
        }
      ]
    },
    {
      "cell_type": "code",
      "source": [
        "# 29. Train a Random Forest Regressor and analyze feature importance scores\n",
        "rf_reg.fit(X_train, y_train)\n",
        "feature_importance_rf = pd.DataFrame({'Feature': range(X.shape[1]), 'Importance': rf_reg.feature_importances_}).sort_values(by='Importance', ascending=False)\n",
        "print(feature_importance_rf.head())"
      ],
      "metadata": {
        "colab": {
          "base_uri": "https://localhost:8080/"
        },
        "id": "FGADxPJnUk4C",
        "outputId": "184e0bd0-6486-44db-9b74-408ac1c52599"
      },
      "execution_count": 15,
      "outputs": [
        {
          "output_type": "stream",
          "name": "stdout",
          "text": [
            "    Feature  Importance\n",
            "27       27    0.269936\n",
            "7         7    0.202781\n",
            "22       22    0.158947\n",
            "23       23    0.118171\n",
            "20       20    0.103470\n"
          ]
        }
      ]
    },
    {
      "cell_type": "code",
      "source": [
        "# 30. Train an ensemble model using both Bagging and Random Forest and compare accuracy\n",
        "bagging_clf.fit(X_train, y_train)\n",
        "rf_clf.fit(X_train, y_train)\n",
        "print(\"Bagging Classifier Accuracy:\", accuracy_score(y_test, bagging_clf.predict(X_test)))\n",
        "print(\"Random Forest Classifier Accuracy:\", accuracy_score(y_test, rf_clf.predict(X_test)))"
      ],
      "metadata": {
        "colab": {
          "base_uri": "https://localhost:8080/"
        },
        "id": "aUMSJegBUniI",
        "outputId": "309b9324-d78d-4a9c-c5df-e35ff66e7187"
      },
      "execution_count": 18,
      "outputs": [
        {
          "output_type": "stream",
          "name": "stdout",
          "text": [
            "Bagging Classifier Accuracy: 0.956140350877193\n",
            "Random Forest Classifier Accuracy: 0.9649122807017544\n"
          ]
        }
      ]
    },
    {
      "cell_type": "code",
      "source": [
        "# 31. Train a Random Forest Classifier and tune hyperparameters using GridSearchCV\n",
        "param_grid = {'n_estimators': [50, 100, 200], 'max_depth': [None, 10, 20]}\n",
        "grid_search = GridSearchCV(RandomForestClassifier(random_state=42), param_grid, cv=5)\n",
        "grid_search.fit(X_train, y_train)\n",
        "print(\"Best Parameters:\", grid_search.best_params_)"
      ],
      "metadata": {
        "colab": {
          "base_uri": "https://localhost:8080/"
        },
        "id": "QORxs_8jWMgr",
        "outputId": "e870c81d-ec44-4a01-85b6-764686749a46"
      },
      "execution_count": 19,
      "outputs": [
        {
          "output_type": "stream",
          "name": "stdout",
          "text": [
            "Best Parameters: {'max_depth': None, 'n_estimators': 200}\n"
          ]
        }
      ]
    },
    {
      "cell_type": "code",
      "source": [
        "# 32. Train a Bagging Regressor with different numbers of base estimators and compare performance\n",
        "for n_estimators in [10, 50, 100]:\n",
        "    bagging_reg = BaggingRegressor(estimator=DecisionTreeRegressor(), n_estimators=n_estimators, random_state=42)\n",
        "    bagging_reg.fit(X_train, y_train)\n",
        "    print(f\"Bagging Regressor ({n_estimators} estimators) MSE:\", mean_squared_error(y_test, bagging_reg.predict(X_test)))"
      ],
      "metadata": {
        "colab": {
          "base_uri": "https://localhost:8080/"
        },
        "id": "V4hSiqYeWRsl",
        "outputId": "e7402dad-c7b5-4ab3-cbc2-6a1ec9ed62f3"
      },
      "execution_count": 20,
      "outputs": [
        {
          "output_type": "stream",
          "name": "stdout",
          "text": [
            "Bagging Regressor (10 estimators) MSE: 0.037456140350877194\n",
            "Bagging Regressor (50 estimators) MSE: 0.03357543859649123\n",
            "Bagging Regressor (100 estimators) MSE: 0.03204298245614035\n"
          ]
        }
      ]
    },
    {
      "cell_type": "code",
      "source": [
        "# 33. Train a Random Forest Classifier and analyze misclassified samples\n",
        "rf_clf.fit(X_train, y_train)\n",
        "misclassified = X_test[y_test != rf_clf.predict(X_test)]\n",
        "print(\"Misclassified Samples:\", misclassified.shape[0])"
      ],
      "metadata": {
        "colab": {
          "base_uri": "https://localhost:8080/"
        },
        "id": "kPP1zxd9WSOR",
        "outputId": "e6826c30-c52e-46c7-f73e-4f7519b5bca0"
      },
      "execution_count": 21,
      "outputs": [
        {
          "output_type": "stream",
          "name": "stdout",
          "text": [
            "Misclassified Samples: 4\n"
          ]
        }
      ]
    },
    {
      "cell_type": "code",
      "source": [
        "# 34. Train a Bagging Classifier and compare its performance with a single Decision Tree Classifier\n",
        "dt_clf = DecisionTreeClassifier()\n",
        "dt_clf.fit(X_train, y_train)\n",
        "print(\"Decision Tree Accuracy:\", accuracy_score(y_test, dt_clf.predict(X_test)))\n",
        "print(\"Bagging Classifier Accuracy:\", accuracy_score(y_test, bagging_clf.predict(X_test)))"
      ],
      "metadata": {
        "colab": {
          "base_uri": "https://localhost:8080/"
        },
        "id": "oyJKXGwiWUYU",
        "outputId": "0a4f1edc-7593-4116-dc47-a38a0df097a9"
      },
      "execution_count": 23,
      "outputs": [
        {
          "output_type": "stream",
          "name": "stdout",
          "text": [
            "Decision Tree Accuracy: 0.9473684210526315\n",
            "Bagging Classifier Accuracy: 0.956140350877193\n"
          ]
        }
      ]
    },
    {
      "cell_type": "code",
      "source": [
        "# 35. Train a Random Forest Classifier and visualize the confusion matrix\n",
        "conf_matrix = confusion_matrix(y_test, rf_clf.predict(X_test))\n",
        "sns.heatmap(conf_matrix, annot=True, fmt='d', cmap='Blues')\n",
        "plt.xlabel('Predicted')\n",
        "plt.ylabel('Actual')\n",
        "plt.title('Confusion Matrix')\n",
        "plt.show()"
      ],
      "metadata": {
        "colab": {
          "base_uri": "https://localhost:8080/",
          "height": 472
        },
        "id": "t7EBTItrWWMu",
        "outputId": "1c20767d-a71a-4c3e-dd34-9cc0186a56b8"
      },
      "execution_count": 24,
      "outputs": [
        {
          "output_type": "display_data",
          "data": {
            "text/plain": [
              "<Figure size 640x480 with 2 Axes>"
            ],
            "image/png": "[encoded data removed]"
          },
          "metadata": {}
        }
      ]
    },
    {
      "cell_type": "code",
      "source": [
        "# 36. Train a Stacking Classifier using Decision Trees, SVM, and Logistic Regression, and compare accuracy\n",
        "estimators = [\n",
        "    ('dt', DecisionTreeClassifier()),\n",
        "    ('svm', SVC(probability=True)),\n",
        "    ('logreg', LogisticRegression(max_iter=1000, solver='liblinear'))\n",
        "]\n",
        "stacking_clf = StackingClassifier(estimators=estimators, final_estimator=LogisticRegression(max_iter=1000, solver='liblinear'))\n",
        "stacking_clf.fit(X_train, y_train)\n",
        "print(\"Stacking Classifier Accuracy:\", accuracy_score(y_test, stacking_clf.predict(X_test)))"
      ],
      "metadata": {
        "colab": {
          "base_uri": "https://localhost:8080/"
        },
        "id": "gnhVK76fWZOu",
        "outputId": "4a618bee-2b27-4c4f-fc9c-3100a297342d"
      },
      "execution_count": 38,
      "outputs": [
        {
          "output_type": "stream",
          "name": "stdout",
          "text": [
            "Stacking Classifier Accuracy: 0.9649122807017544\n"
          ]
        }
      ]
    },
    {
      "cell_type": "code",
      "source": [
        "# 37. Train a Random Forest Classifier and print the top 5 most important features\n",
        "feature_importance = pd.DataFrame({'Feature': range(X.shape[1]), 'Importance': rf_clf.feature_importances_}).sort_values(by='Importance', ascending=False)\n",
        "print(feature_importance.head())"
      ],
      "metadata": {
        "colab": {
          "base_uri": "https://localhost:8080/"
        },
        "id": "xvY0Xch5WbOi",
        "outputId": "235a834f-c112-4cba-c0ef-3daf7ac27ccc"
      },
      "execution_count": 26,
      "outputs": [
        {
          "output_type": "stream",
          "name": "stdout",
          "text": [
            "    Feature  Importance\n",
            "23       23    0.153892\n",
            "27       27    0.144663\n",
            "7         7    0.106210\n",
            "20       20    0.077987\n",
            "6         6    0.068001\n"
          ]
        }
      ]
    },
    {
      "cell_type": "code",
      "source": [
        "# 38. Train a Bagging Classifier and evaluate performance using Precision, Recall, and F1-score\n",
        "y_pred = bagging_clf.predict(X_test)\n",
        "print(\"Precision:\", precision_score(y_test, y_pred))\n",
        "print(\"Recall:\", recall_score(y_test, y_pred))\n",
        "print(\"F1-Score:\", f1_score(y_test, y_pred))"
      ],
      "metadata": {
        "colab": {
          "base_uri": "https://localhost:8080/"
        },
        "id": "9bd6YR4yWemK",
        "outputId": "7bee9ef7-598b-4889-86e9-2fe761ffa7a9"
      },
      "execution_count": 27,
      "outputs": [
        {
          "output_type": "stream",
          "name": "stdout",
          "text": [
            "Precision: 0.9583333333333334\n",
            "Recall: 0.971830985915493\n",
            "F1-Score: 0.965034965034965\n"
          ]
        }
      ]
    },
    {
      "cell_type": "code",
      "source": [
        "# 39. Train a Random Forest Classifier and analyze the effect of max_depth on accuracy\n",
        "for depth in [5, 10, None]:\n",
        "    rf_clf = RandomForestClassifier(max_depth=depth, random_state=42)\n",
        "    rf_clf.fit(X_train, y_train)\n",
        "    print(f\"Max Depth {depth} Accuracy:\", accuracy_score(y_test, rf_clf.predict(X_test)))"
      ],
      "metadata": {
        "colab": {
          "base_uri": "https://localhost:8080/"
        },
        "id": "Dxo4eFCEWgWf",
        "outputId": "7a72740a-4584-48cf-ba3c-5b703f85ec35"
      },
      "execution_count": 28,
      "outputs": [
        {
          "output_type": "stream",
          "name": "stdout",
          "text": [
            "Max Depth 5 Accuracy: 0.9649122807017544\n",
            "Max Depth 10 Accuracy: 0.9649122807017544\n",
            "Max Depth None Accuracy: 0.9649122807017544\n"
          ]
        }
      ]
    },
    {
      "cell_type": "code",
      "source": [
        "# 40. Train a Bagging Regressor using different base estimators (DecisionTree and KNeighbors) and compare performance\n",
        "from sklearn.neighbors import KNeighborsRegressor\n",
        "\n",
        "for estimator in [DecisionTreeRegressor(), KNeighborsRegressor()]:\n",
        "    bagging_reg = BaggingRegressor(estimator=estimator, n_estimators=50, random_state=42)\n",
        "    bagging_reg.fit(X_train, y_train)\n",
        "    print(f\"Bagging Regressor ({estimator.__class__.__name__}) MSE:\", mean_squared_error(y_test, bagging_reg.predict(X_test)))"
      ],
      "metadata": {
        "colab": {
          "base_uri": "https://localhost:8080/"
        },
        "id": "BdrpPYyRWiIp",
        "outputId": "13dff4dd-13b0-4589-a598-036ead7837ae"
      },
      "execution_count": 29,
      "outputs": [
        {
          "output_type": "stream",
          "name": "stdout",
          "text": [
            "Bagging Regressor (DecisionTreeRegressor) MSE: 0.03357543859649123\n",
            "Bagging Regressor (KNeighborsRegressor) MSE: 0.02909782456140351\n"
          ]
        }
      ]
    },
    {
      "cell_type": "code",
      "source": [
        "# 41. Train a Random Forest Classifier and evaluate its performance using ROC-AUC Score\n",
        "y_probs = rf_clf.predict_proba(X_test)[:, 1]\n",
        "print(\"ROC-AUC Score:\", roc_auc_score(y_test, y_probs))"
      ],
      "metadata": {
        "colab": {
          "base_uri": "https://localhost:8080/"
        },
        "id": "4JlAfNiQWkHR",
        "outputId": "08862d1d-a3d8-4bfa-fe4d-91b13ae6edc4"
      },
      "execution_count": 30,
      "outputs": [
        {
          "output_type": "stream",
          "name": "stdout",
          "text": [
            "ROC-AUC Score: 0.9952505732066819\n"
          ]
        }
      ]
    },
    {
      "cell_type": "code",
      "source": [
        "# 42. Train a Bagging Classifier and evaluate its performance using cross-validation\n",
        "scores = cross_val_score(bagging_clf, X, y, cv=5)\n",
        "print(\"Cross-validation Accuracy:\", scores.mean())"
      ],
      "metadata": {
        "colab": {
          "base_uri": "https://localhost:8080/"
        },
        "id": "nI7mRyt-Wluk",
        "outputId": "553ce4b9-e74e-4a0d-e3c9-405e91536651"
      },
      "execution_count": 31,
      "outputs": [
        {
          "output_type": "stream",
          "name": "stdout",
          "text": [
            "Cross-validation Accuracy: 0.9543859649122808\n"
          ]
        }
      ]
    },
    {
      "cell_type": "code",
      "source": [
        "# 43. Train a Random Forest Classifier and plot the Precision-Recall curve\n",
        "precision, recall, _ = precision_recall_curve(y_test, y_probs)\n",
        "plt.plot(recall, precision, marker='.', label='Precision-Recall Curve')\n",
        "plt.xlabel('Recall')\n",
        "plt.ylabel('Precision')\n",
        "plt.title('Precision-Recall Curve')\n",
        "plt.legend()\n",
        "plt.show()"
      ],
      "metadata": {
        "colab": {
          "base_uri": "https://localhost:8080/",
          "height": 472
        },
        "id": "ELgkH-7HWnca",
        "outputId": "7de762e0-8599-488d-98ac-a7062e9b07e6"
      },
      "execution_count": 32,
      "outputs": [
        {
          "output_type": "display_data",
          "data": {
            "text/plain": [
              "<Figure size 640x480 with 1 Axes>"
            ],
            "image/png": "[encoded data removed]"
          },
          "metadata": {}
        }
      ]
    },
    {
      "cell_type": "code",
      "source": [
        "# 44. Train a Stacking Classifier with Random Forest and Logistic Regression and compare accuracy\n",
        "estimators = [\n",
        "    ('rf', RandomForestClassifier(n_estimators=50, random_state=42)),\n",
        "    ('logreg', LogisticRegression(max_iter=1000, solver='liblinear'))\n",
        "]\n",
        "stacking_clf = StackingClassifier(estimators=estimators, final_estimator=LogisticRegression(max_iter=1000, solver='liblinear'))\n",
        "stacking_clf.fit(X_train, y_train)\n",
        "print(\"Stacking Classifier (RF & LogReg) Accuracy:\", accuracy_score(y_test, stacking_clf.predict(X_test)))"
      ],
      "metadata": {
        "colab": {
          "base_uri": "https://localhost:8080/"
        },
        "id": "NWhA7qcBWpP6",
        "outputId": "dc56a0f0-0d9c-43ae-92ff-0ad2197b7c51"
      },
      "execution_count": 39,
      "outputs": [
        {
          "output_type": "stream",
          "name": "stdout",
          "text": [
            "Stacking Classifier (RF & LogReg) Accuracy: 0.956140350877193\n"
          ]
        }
      ]
    },
    {
      "cell_type": "code",
      "source": [
        "# 45. Train a Bagging Regressor with different levels of bootstrap samples and compare performance\n",
        "for bootstrap in [True, False]:\n",
        "    bagging_reg = BaggingRegressor(estimator=DecisionTreeRegressor(), n_estimators=50, bootstrap=bootstrap, random_state=42)\n",
        "    bagging_reg.fit(X_train, y_train)\n",
        "    print(f\"Bagging Regressor (Bootstrap={bootstrap}) MSE:\", mean_squared_error(y_test, bagging_reg.predict(X_test)))"
      ],
      "metadata": {
        "colab": {
          "base_uri": "https://localhost:8080/"
        },
        "id": "K-IYdL4SWq8O",
        "outputId": "f1a08204-0ddf-4cc7-9d4c-3d93d4a4a05b"
      },
      "execution_count": 34,
      "outputs": [
        {
          "output_type": "stream",
          "name": "stdout",
          "text": [
            "Bagging Regressor (Bootstrap=True) MSE: 0.03357543859649123\n",
            "Bagging Regressor (Bootstrap=False) MSE: 0.05620350877192982\n"
          ]
        }
      ]
    }
  ],
  "metadata": {
    "colab": {
      "provenance": []
    },
    "kernelspec": {
      "display_name": "Python 3",
      "name": "python3"
    },
    "language_info": {
      "name": "python"
    }
  },
  "nbformat": 4,
  "nbformat_minor": 0
}