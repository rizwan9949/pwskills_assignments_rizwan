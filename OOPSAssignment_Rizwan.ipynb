{
  "nbformat": 4,
  "nbformat_minor": 0,
  "metadata": {
    "colab": {
      "provenance": []
    },
    "kernelspec": {
      "name": "python3",
      "display_name": "Python 3"
    },
    "language_info": {
      "name": "python"
    }
  },
  "cells": [
    {
      "cell_type": "markdown",
      "source": [
        "#1. What are the five key concepts of Object-Oriented Programming (OOP)?\n",
        "\n",
        "**The five key concepts of OOP are:**\n",
        "\n",
        "1. Encapsulation: Wrapping data (variables) and methods into a single unit (class) to protect them from outside interference.\n",
        "\n",
        "2. Inheritance: A class can inherit properties and behavior from another class.\n",
        "\n",
        "3. Polymorphism: The ability of different classes to be treated as the same type through shared interfaces, such as methods.\n",
        "\n",
        "4. Abstraction: Hiding the complex implementation details and exposing only the necessary functionality.\n",
        "\n",
        "5. Class and Objects: Classes are blueprints, and objects are instances created using these blueprints."
      ],
      "metadata": {
        "id": "BqJ4zEEZB9gz"
      }
    },
    {
      "cell_type": "markdown",
      "source": [
        "#2. Write a Python class for a `Car` with attributes for `make`, `model`, and `year`. Include a method to display the car's information."
      ],
      "metadata": {
        "id": "sj1wpb_eCW6d"
      }
    },
    {
      "cell_type": "code",
      "source": [
        "class Car:\n",
        "    def __init__(self, make, model, year):\n",
        "        self.make = make\n",
        "        self.model = model\n",
        "        self.year = year\n",
        "\n",
        "    def display_info(self):\n",
        "        print(f\"Car: {self.year} {self.make} {self.model}\")\n",
        "\n",
        "# Example usage:\n",
        "car1 = Car(\"Toyota\", \"Corolla\", 2020)\n",
        "car1.display_info()"
      ],
      "metadata": {
        "colab": {
          "base_uri": "https://localhost:8080/"
        },
        "id": "O8N6N5unCcx9",
        "outputId": "06beb72e-44e2-4779-8dac-5bbcede45594"
      },
      "execution_count": 1,
      "outputs": [
        {
          "output_type": "stream",
          "name": "stdout",
          "text": [
            "Car: 2020 Toyota Corolla\n"
          ]
        }
      ]
    },
    {
      "cell_type": "markdown",
      "source": [
        "#3. Explain the difference between instance methods and class methods. Provide an example of each.\n",
        "\n",
        "-> **Instance Methods:** These operate on individual objects of a class and use self to access instance-specific data.\n",
        "\n",
        "-> **Class Methods:** These work on the class itself rather than any object and use cls to access class-level data. They are defined with\n",
        "@classmethod.\n",
        "\n",
        "**Example:**"
      ],
      "metadata": {
        "id": "xqKxnEmCCi3p"
      }
    },
    {
      "cell_type": "code",
      "source": [
        "class Example:\n",
        "    class_variable = \"I am a class variable\"\n",
        "\n",
        "    def instance_method(self):\n",
        "        print(\"This is an instance method.\")\n",
        "\n",
        "    @classmethod\n",
        "    def class_method(cls):\n",
        "        print(f\"This is a class method. {cls.class_variable}\")\n",
        "\n",
        "obj = Example()\n",
        "obj.instance_method()\n",
        "Example.class_method()"
      ],
      "metadata": {
        "colab": {
          "base_uri": "https://localhost:8080/"
        },
        "id": "8rPbEqZgC1yx",
        "outputId": "f96fb43e-17ff-4f17-9676-b9bb8bbc7be1"
      },
      "execution_count": 2,
      "outputs": [
        {
          "output_type": "stream",
          "name": "stdout",
          "text": [
            "This is an instance method.\n",
            "This is a class method. I am a class variable\n"
          ]
        }
      ]
    },
    {
      "cell_type": "markdown",
      "source": [
        "#4. How does Python implement method overloading? Give an example.\n",
        "\n",
        "Python does not support method overloading directly. However, we can achieve it using default arguments.\n",
        "\n",
        "**Example:**"
      ],
      "metadata": {
        "id": "sC3-wfEmC4GV"
      }
    },
    {
      "cell_type": "code",
      "source": [
        "class Calculator:\n",
        "    def add(self, a, b=0):\n",
        "        return a + b\n",
        "\n",
        "calc = Calculator()\n",
        "print(calc.add(5))      # Output: 5\n",
        "print(calc.add(5, 10))  # Output: 15"
      ],
      "metadata": {
        "colab": {
          "base_uri": "https://localhost:8080/"
        },
        "id": "8EtbLQxeDBuZ",
        "outputId": "65c54a63-d8be-454e-8a3c-db964c9a5ebd"
      },
      "execution_count": 3,
      "outputs": [
        {
          "output_type": "stream",
          "name": "stdout",
          "text": [
            "5\n",
            "15\n"
          ]
        }
      ]
    },
    {
      "cell_type": "markdown",
      "source": [
        "#5. What are the three types of access modifiers in Python? How are they denoted?\n",
        "-> **Public:** Accessible everywhere. Denoted by normal variable names (var).\n",
        "\n",
        "-> **Protected:** Accessible within the class and its subclasses. Denoted by a single underscore (_var).\n",
        "\n",
        "-> **Private:** Accessible only within the class. Denoted by double underscores (__var).\n"
      ],
      "metadata": {
        "id": "IZ2segEPDFJ2"
      }
    },
    {
      "cell_type": "markdown",
      "source": [
        "#6. Describe the five types of inheritance in Python. Provide a simple example of multiple inheritance.\n",
        "\n",
        "**1. Single Inheritance:** One child class inherits from one parent class.\n",
        "\n",
        "**2. Multiple Inheritance:** A child class inherits from multiple parent classes.\n",
        "\n",
        "**3. Multilevel Inheritance:** A class inherits from a class that has already inherited from another class.\n",
        "\n",
        "**4. Hierarchical Inheritance:** Multiple child classes inherit from a single parent class.\n",
        "\n",
        "**5. Hybrid Inheritance:** A combination of two or more types of inheritance."
      ],
      "metadata": {
        "id": "Bu_mlHbLDaTx"
      }
    },
    {
      "cell_type": "code",
      "source": [
        "class A:\n",
        "    def method_a(self):\n",
        "        print(\"Method from Class A\")\n",
        "\n",
        "class B:\n",
        "    def method_b(self):\n",
        "        print(\"Method from Class B\")\n",
        "\n",
        "class C(A, B):\n",
        "    def method_c(self):\n",
        "        print(\"Method from Class C\")\n",
        "\n",
        "obj = C()\n",
        "obj.method_a()\n",
        "obj.method_b()\n",
        "obj.method_c()"
      ],
      "metadata": {
        "colab": {
          "base_uri": "https://localhost:8080/"
        },
        "id": "iQNyFq-jDxah",
        "outputId": "3f11eeef-1fc8-4f41-9255-4851a2b7189b"
      },
      "execution_count": 4,
      "outputs": [
        {
          "output_type": "stream",
          "name": "stdout",
          "text": [
            "Method from Class A\n",
            "Method from Class B\n",
            "Method from Class C\n"
          ]
        }
      ]
    },
    {
      "cell_type": "markdown",
      "source": [
        "#7. What is the Method Resolution Order (MRO) in Python? How can you retrieve it programmatically?\n",
        "MRO defines the order in which classes are searched for a method or attribute during inheritance. Python uses the C3 Linearization Algorithm.\n",
        "\n",
        "**Retrieve MRO:**"
      ],
      "metadata": {
        "id": "zCOT1AiGD3nY"
      }
    },
    {
      "cell_type": "code",
      "source": [
        "class A: pass\n",
        "class B(A): pass\n",
        "print(B.mro())"
      ],
      "metadata": {
        "colab": {
          "base_uri": "https://localhost:8080/"
        },
        "id": "GoLRwJuzD-To",
        "outputId": "a88ffc58-c802-4c17-96e4-bda900f29d49"
      },
      "execution_count": 5,
      "outputs": [
        {
          "output_type": "stream",
          "name": "stdout",
          "text": [
            "[<class '__main__.B'>, <class '__main__.A'>, <class 'object'>]\n"
          ]
        }
      ]
    },
    {
      "cell_type": "markdown",
      "source": [
        "#8. Create an abstract base class `Shape` with an abstract method `area()`. Then create two subclasses `Circle` and `Rectangle` that implement the `area()` method."
      ],
      "metadata": {
        "id": "3wiXwr55EAwE"
      }
    },
    {
      "cell_type": "code",
      "source": [
        "from abc import ABC, abstractmethod\n",
        "\n",
        "class Shape(ABC):\n",
        "    @abstractmethod\n",
        "    def area(self):\n",
        "        pass\n",
        "\n",
        "class Circle(Shape):\n",
        "    def __init__(self, radius):\n",
        "        self.radius = radius\n",
        "\n",
        "    def area(self):\n",
        "        return 3.14 * self.radius ** 2\n",
        "\n",
        "class Rectangle(Shape):\n",
        "    def __init__(self, length, width):\n",
        "        self.length = length\n",
        "        self.width = width\n",
        "\n",
        "    def area(self):\n",
        "        return self.length * self.width\n",
        "\n",
        "circle = Circle(5)\n",
        "rectangle = Rectangle(4, 6)\n",
        "print(circle.area())  # Output: 78.5\n",
        "print(rectangle.area())  # Output: 24"
      ],
      "metadata": {
        "colab": {
          "base_uri": "https://localhost:8080/"
        },
        "id": "1PRE232hEHBY",
        "outputId": "cc44e5d9-fa63-48ba-aea3-b489aa3aa641"
      },
      "execution_count": 6,
      "outputs": [
        {
          "output_type": "stream",
          "name": "stdout",
          "text": [
            "78.5\n",
            "24\n"
          ]
        }
      ]
    },
    {
      "cell_type": "markdown",
      "source": [
        "#9. Demonstrate polymorphism by creating a function that can work with different shape objects to calculate and print their areas.\n",
        "\n",
        "\n"
      ],
      "metadata": {
        "id": "sRS6nxgDEI5Y"
      }
    },
    {
      "cell_type": "code",
      "source": [
        "def print_area(shape):\n",
        "    print(f\"The area is: {shape.area()}\")\n",
        "\n",
        "circle = Circle(5)\n",
        "rectangle = Rectangle(4, 6)\n",
        "print_area(circle)\n",
        "print_area(rectangle)"
      ],
      "metadata": {
        "colab": {
          "base_uri": "https://localhost:8080/"
        },
        "id": "NSCeQljtENGA",
        "outputId": "5c3f692f-38ac-44ca-ad8a-ed18ba0598cb"
      },
      "execution_count": 7,
      "outputs": [
        {
          "output_type": "stream",
          "name": "stdout",
          "text": [
            "The area is: 78.5\n",
            "The area is: 24\n"
          ]
        }
      ]
    },
    {
      "cell_type": "markdown",
      "source": [
        "#10. Implement encapsulation in a `BankAccount` class with private attributes for `balance` and `account_number`. Include methods for deposit, withdrawal, and balance inquiry."
      ],
      "metadata": {
        "id": "w9MlDLVvEO7z"
      }
    },
    {
      "cell_type": "code",
      "source": [
        "class BankAccount:\n",
        "    def __init__(self, account_number):\n",
        "        self.__account_number = account_number\n",
        "        self.__balance = 0\n",
        "\n",
        "    def deposit(self, amount):\n",
        "        if amount > 0:\n",
        "            self.__balance += amount\n",
        "            print(f\"Deposited: {amount}\")\n",
        "        else:\n",
        "            print(\"Invalid deposit amount.\")\n",
        "\n",
        "    def withdraw(self, amount):\n",
        "        if 0 < amount <= self.__balance:\n",
        "            self.__balance -= amount\n",
        "            print(f\"Withdrew: {amount}\")\n",
        "        else:\n",
        "            print(\"Invalid withdrawal amount.\")\n",
        "\n",
        "    def get_balance(self):\n",
        "        return self.__balance\n",
        "\n",
        "account = BankAccount(12345)\n",
        "account.deposit(1000)\n",
        "account.withdraw(500)\n",
        "print(account.get_balance())"
      ],
      "metadata": {
        "colab": {
          "base_uri": "https://localhost:8080/"
        },
        "id": "7YVcfeC0EWkA",
        "outputId": "998a7952-123a-4bf5-ebfd-0d6755bdf5aa"
      },
      "execution_count": 8,
      "outputs": [
        {
          "output_type": "stream",
          "name": "stdout",
          "text": [
            "Deposited: 1000\n",
            "Withdrew: 500\n",
            "500\n"
          ]
        }
      ]
    },
    {
      "cell_type": "markdown",
      "source": [
        "#11. Write a class that overrides the `__str__` and `__add__` magic methods. What will these methods allow you to do?\n",
        "The __str__ method allows you to define a custom string representation for the class. The __add__ method lets you define how two objects of the class should be added together using the + operator."
      ],
      "metadata": {
        "id": "a2YYZa-bEYJA"
      }
    },
    {
      "cell_type": "code",
      "source": [
        "class CustomNumber:\n",
        "    def __init__(self, value):\n",
        "        self.value = value\n",
        "\n",
        "    def __str__(self):\n",
        "        return f\"CustomNumber({self.value})\"\n",
        "\n",
        "    def __add__(self, other):\n",
        "        if isinstance(other, CustomNumber):\n",
        "            return CustomNumber(self.value + other.value)\n",
        "        return NotImplemented\n",
        "\n",
        "# Example usage:\n",
        "num1 = CustomNumber(10)\n",
        "num2 = CustomNumber(20)\n",
        "print(num1)            # Output: CustomNumber(10)\n",
        "print(num1 + num2)     # Output: CustomNumber(30)"
      ],
      "metadata": {
        "colab": {
          "base_uri": "https://localhost:8080/"
        },
        "id": "-9RMSsBrEklg",
        "outputId": "c80bcdc9-b517-4641-a930-6aa31c4dce9d"
      },
      "execution_count": 9,
      "outputs": [
        {
          "output_type": "stream",
          "name": "stdout",
          "text": [
            "CustomNumber(10)\n",
            "CustomNumber(30)\n"
          ]
        }
      ]
    },
    {
      "cell_type": "markdown",
      "source": [
        "#12. Create a decorator that measures and prints the execution time of a function."
      ],
      "metadata": {
        "id": "UKeBfgoFEsNs"
      }
    },
    {
      "cell_type": "code",
      "source": [
        "import time\n",
        "\n",
        "def execution_time_decorator(func):\n",
        "    def wrapper(*args, **kwargs):\n",
        "        start_time = time.time()\n",
        "        result = func(*args, **kwargs)\n",
        "        end_time = time.time()\n",
        "        print(f\"Execution time: {end_time - start_time:.4f} seconds\")\n",
        "        return result\n",
        "    return wrapper\n",
        "\n",
        "# Example usage:\n",
        "@execution_time_decorator\n",
        "def sample_function():\n",
        "    time.sleep(2)\n",
        "    print(\"Function executed.\")\n",
        "\n",
        "sample_function()"
      ],
      "metadata": {
        "colab": {
          "base_uri": "https://localhost:8080/"
        },
        "id": "oefVd--GEwt0",
        "outputId": "94590f15-3df4-4f0d-87e9-e6bec548d0f7"
      },
      "execution_count": 10,
      "outputs": [
        {
          "output_type": "stream",
          "name": "stdout",
          "text": [
            "Function executed.\n",
            "Execution time: 2.0031 seconds\n"
          ]
        }
      ]
    },
    {
      "cell_type": "markdown",
      "source": [
        "#13. Explain the concept of the Diamond Problem in multiple inheritance. How does Python resolve it?\n",
        "\n",
        "The Diamond Problem occurs when a class inherits from two classes that have a common ancestor, leading to ambiguity about which parent class's method to inherit.\n",
        "\n",
        "Python Resolution: Python resolves it using the Method Resolution Order (MRO), which follows the C3 Linearization Algorithm. It ensures a deterministic order of method inheritance.\n",
        "\n",
        "**Example:**"
      ],
      "metadata": {
        "id": "Lw-59jy0EzVF"
      }
    },
    {
      "cell_type": "code",
      "source": [
        "class A:\n",
        "    def method(self):\n",
        "        print(\"Method from Class A\")\n",
        "\n",
        "class B(A):\n",
        "    def method(self):\n",
        "        print(\"Method from Class B\")\n",
        "\n",
        "class C(A):\n",
        "    def method(self):\n",
        "        print(\"Method from Class C\")\n",
        "\n",
        "class D(B, C):\n",
        "    pass\n",
        "\n",
        "d = D()\n",
        "d.method()  # Output: Method from Class B (based on MRO)\n",
        "print(D.mro())  # Output: [D, B, C, A, object]"
      ],
      "metadata": {
        "colab": {
          "base_uri": "https://localhost:8080/"
        },
        "id": "Qx2jdSihE9mM",
        "outputId": "ac349840-e937-4fac-a063-06a171201242"
      },
      "execution_count": 11,
      "outputs": [
        {
          "output_type": "stream",
          "name": "stdout",
          "text": [
            "Method from Class B\n",
            "[<class '__main__.D'>, <class '__main__.B'>, <class '__main__.C'>, <class '__main__.A'>, <class 'object'>]\n"
          ]
        }
      ]
    },
    {
      "cell_type": "markdown",
      "source": [
        "#14. Write a class method that keeps track of the number of instances created from a class."
      ],
      "metadata": {
        "id": "Y2QH3A0KFBUX"
      }
    },
    {
      "cell_type": "code",
      "source": [
        "class InstanceCounter:\n",
        "    count = 0\n",
        "\n",
        "    def __init__(self):\n",
        "        InstanceCounter.count += 1\n",
        "\n",
        "    @classmethod\n",
        "    def get_instance_count(cls):\n",
        "        return cls.count\n",
        "\n",
        "# Example usage:\n",
        "obj1 = InstanceCounter()\n",
        "obj2 = InstanceCounter()\n",
        "print(InstanceCounter.get_instance_count())  # Output: 2"
      ],
      "metadata": {
        "colab": {
          "base_uri": "https://localhost:8080/"
        },
        "id": "GjABrp-BFD0T",
        "outputId": "16dc362d-f493-4f76-ac0c-4ce4f9b0d354"
      },
      "execution_count": 12,
      "outputs": [
        {
          "output_type": "stream",
          "name": "stdout",
          "text": [
            "2\n"
          ]
        }
      ]
    },
    {
      "cell_type": "markdown",
      "source": [
        "#15. Implement a static method in a class that checks if a given year is a leap year."
      ],
      "metadata": {
        "id": "bwrpWaoWFFaH"
      }
    },
    {
      "cell_type": "code",
      "source": [
        "class YearChecker:\n",
        "    @staticmethod\n",
        "    def is_leap_year(year):\n",
        "        if (year % 4 == 0 and year % 100 != 0) or (year % 400 == 0):\n",
        "            return True\n",
        "        return False\n",
        "\n",
        "# Example usage:\n",
        "print(YearChecker.is_leap_year(2020))  # Output: True\n",
        "print(YearChecker.is_leap_year(2023))  # Output: False"
      ],
      "metadata": {
        "colab": {
          "base_uri": "https://localhost:8080/"
        },
        "id": "VDH6xvTvFJkU",
        "outputId": "044182c9-cc3d-4d34-a4b8-40ba9c6ce258"
      },
      "execution_count": 13,
      "outputs": [
        {
          "output_type": "stream",
          "name": "stdout",
          "text": [
            "True\n",
            "False\n"
          ]
        }
      ]
    }
  ]
}