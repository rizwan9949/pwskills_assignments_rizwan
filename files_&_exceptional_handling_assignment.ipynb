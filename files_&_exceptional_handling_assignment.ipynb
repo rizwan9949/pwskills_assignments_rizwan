{
  "nbformat": 4,
  "nbformat_minor": 0,
  "metadata": {
    "colab": {
      "provenance": []
    },
    "kernelspec": {
      "name": "python3",
      "display_name": "Python 3"
    },
    "language_info": {
      "name": "python"
    }
  },
  "cells": [
    {
      "cell_type": "markdown",
      "source": [
        "**Files, exceptional handling, logging and memory management Questions:**"
      ],
      "metadata": {
        "id": "SYA-1kvVZzCM"
      }
    },
    {
      "cell_type": "markdown",
      "source": [
        "#1. What is the difference between interpreted and compiled languages?\n",
        "**Interpreted languages** execute code line by line, e.g., Python.\n",
        "\n",
        "**Compiled languages** translate the entire code into machine language before execution, e.g., C++.\n",
        "\n",
        "Interpreted languages are slower but easier to debug. Compiled languages are faster but take longer to prepare.\n"
      ],
      "metadata": {
        "id": "LLyQmSwmVY0y"
      }
    },
    {
      "cell_type": "markdown",
      "source": [
        "#2. What is exception handling in Python?\n",
        "\n",
        "**Exception handling** in Python is a way to manage errors during program execution. It uses try, except, else, and finally blocks to catch and handle errors without crashing the program.\n"
      ],
      "metadata": {
        "id": "_-nyDhC0WIki"
      }
    },
    {
      "cell_type": "markdown",
      "source": [
        "#3. What is the purpose of the finally block in exception handling?\n",
        "\n",
        "The **finally block** is always executed, whether an exception occurs or not. It is used for cleanup tasks like closing files or releasing resources."
      ],
      "metadata": {
        "id": "zKYCQxd0WQc6"
      }
    },
    {
      "cell_type": "markdown",
      "source": [
        "#4. What is logging in Python?\n",
        "\n",
        "**Logging** is used to record events during program execution, like errors or warnings. It helps in debugging and monitoring program behavior."
      ],
      "metadata": {
        "id": "BhmoUC6yWYlp"
      }
    },
    {
      "cell_type": "markdown",
      "source": [
        "#5.  What is the significance of the __del__ method in Python?\n",
        "The __del__ method is a destructor that is called when an object is deleted. It is used to release resources or clean up."
      ],
      "metadata": {
        "id": "tQbNqVREWk9-"
      }
    },
    {
      "cell_type": "markdown",
      "source": [
        "#6.  What is the difference between import and from ... import in Python?\n",
        "\n",
        "**import** imports the entire module. Example: import math.\n",
        "\n",
        "**from ... import** imports specific functions or variables from a module. Example: from math import sqrt.\n"
      ],
      "metadata": {
        "id": "DYJJfIUZW1Um"
      }
    },
    {
      "cell_type": "markdown",
      "source": [
        "#7. How can you handle multiple exceptions in Python?\n",
        "Use multiple except blocks for different exceptions or a tuple to handle multiple exceptions in a single block:"
      ],
      "metadata": {
        "id": "XfVDOWPZXPk9"
      }
    },
    {
      "cell_type": "code",
      "source": [
        "try:\n",
        "    # Code\n",
        "except (TypeError, ValueError) as e:\n",
        "    print(e)"
      ],
      "metadata": {
        "id": "NH-1vavMXYE1"
      },
      "execution_count": null,
      "outputs": []
    },
    {
      "cell_type": "markdown",
      "source": [
        "#8. What is the purpose of the with statement when handling files in Python?\n",
        "\n",
        "The with statement automatically closes a file after its block is executed, even if an error occurs. It simplifies file handling and ensures proper resource management.\n"
      ],
      "metadata": {
        "id": "iYmMJsQdXZc1"
      }
    },
    {
      "cell_type": "markdown",
      "source": [
        "#9. What is the difference between multithreading and multiprocessing?\n",
        "\n",
        "**Multithreading** runs multiple threads within a process, sharing memory.\n",
        "\n",
        "**Multiprocessing** runs multiple processes, each with separate memory, allowing better CPU utilization for heavy tasks."
      ],
      "metadata": {
        "id": "ecVT_dnCXiwJ"
      }
    },
    {
      "cell_type": "markdown",
      "source": [
        "#10. What are the advantages of using logging in a program?\n",
        "-> Tracks errors and warnings.\n",
        "\n",
        "-> Helps in debugging.\n",
        "\n",
        "-> Records execution flow for analysis.\n",
        "\n",
        "-> Customizable levels (e.g., INFO, DEBUG, ERROR).\n"
      ],
      "metadata": {
        "id": "PdSrg7m3Xrj0"
      }
    },
    {
      "cell_type": "markdown",
      "source": [
        "#11. What is memory management in Python?\n",
        "\n",
        "**Memory management** in Python is done automatically using the garbage collection system. It manages object allocation and deallocation to optimize memory usage."
      ],
      "metadata": {
        "id": "NBVdIyGbX44c"
      }
    },
    {
      "cell_type": "markdown",
      "source": [
        "#12. What are the basic steps involved in exception handling in Python?\n",
        "-> Wrap risky code in a try block.\n",
        "\n",
        "-> Use except to handle exceptions.\n",
        "\n",
        "-> Optionally use else for code that runs if no exception occurs.\n",
        "\n",
        "-> Use finally for cleanup tasks."
      ],
      "metadata": {
        "id": "wDhzW8S6X_rY"
      }
    },
    {
      "cell_type": "markdown",
      "source": [
        "#13. Why is memory management important in Python?\n",
        "\n",
        "It ensures efficient use of memory, prevents memory leaks, and improves program performance."
      ],
      "metadata": {
        "id": "Ll1QO9AYYKrr"
      }
    },
    {
      "cell_type": "markdown",
      "source": [
        "#14.  What is the role of try and except in exception handling?\n",
        "\n",
        "-> try: Contains the code that might raise an exception.\n",
        "\n",
        "-> except: Handles the exception if one occurs."
      ],
      "metadata": {
        "id": "oVxFRGLqYQbk"
      }
    },
    {
      "cell_type": "markdown",
      "source": [
        "#15. How does Python's garbage collection system work?\n",
        "\n",
        "Python uses reference counting and a garbage collector to remove objects no longer in use. It automatically reclaims memory to avoid leaks."
      ],
      "metadata": {
        "id": "a9HFE_c-YZEU"
      }
    },
    {
      "cell_type": "markdown",
      "source": [
        "#16.  What is the purpose of the else block in exception handling?\n",
        "\n",
        "The else block runs code only if no exception occurs in the try block."
      ],
      "metadata": {
        "id": "CZgyHVWYYhbZ"
      }
    },
    {
      "cell_type": "markdown",
      "source": [
        "#17. What are the common logging levels in Python?\n",
        "1. DEBUG\n",
        "2. INFO\n",
        "3. WARNING\n",
        "4. ERROR\n",
        "5. CRITICAL"
      ],
      "metadata": {
        "id": "xr3tZh68YoQw"
      }
    },
    {
      "cell_type": "markdown",
      "source": [
        "#18. What is the difference between os.fork() and multiprocessing in Python?\n",
        "\n",
        "-> **os.fork():** Creates a child process directly (Linux/Unix only).\n",
        "\n",
        "-> **multiprocessing:** Cross-platform library for managing processes, safer and easier to use."
      ],
      "metadata": {
        "id": "kdskXihEYyKb"
      }
    },
    {
      "cell_type": "markdown",
      "source": [
        "#19. What is the importance of closing a file in Python?\n",
        "\n",
        "Closing a file ensures data is written to disk and releases system resources. Not closing files can lead to resource leaks."
      ],
      "metadata": {
        "id": "ErEatUnZY8Yb"
      }
    },
    {
      "cell_type": "markdown",
      "source": [
        "#20. What is the difference between file.read() and file.readline() in Python?\n",
        "\n",
        "-> **file.read():** Reads the entire file or a specified number of characters.\n",
        "\n",
        "-> **file.readline():** Reads one line from the file."
      ],
      "metadata": {
        "id": "oHsExwFwZBWw"
      }
    },
    {
      "cell_type": "markdown",
      "source": [
        "#21. What is the logging module in Python used for?\n",
        "\n",
        "The logging module is used to log messages for tracking and debugging purposes.\n",
        "\n"
      ],
      "metadata": {
        "id": "OuXQzBVQZMLb"
      }
    },
    {
      "cell_type": "markdown",
      "source": [
        "#22. What is the os module in Python used for in file handling?\n",
        "\n",
        "The os module helps interact with the operating system for tasks like file creation, deletion, and path manipulation"
      ],
      "metadata": {
        "id": "8rYgJSwWZRvM"
      }
    },
    {
      "cell_type": "markdown",
      "source": [
        "#23. What are the challenges associated with memory management in Python?\n",
        "\n",
        "-> Reference cycles can cause memory leaks.\n",
        "\n",
        "-> Managing large datasets can strain memory.\n",
        "\n",
        "-> Proper use of garbage collection is needed."
      ],
      "metadata": {
        "id": "ZATWBVfWZWh7"
      }
    },
    {
      "cell_type": "markdown",
      "source": [
        "#24.  How do you raise an exception manually in Python?\n",
        "\n",
        "Use the raise keyword:"
      ],
      "metadata": {
        "id": "0TXb-_pSZgGL"
      }
    },
    {
      "cell_type": "code",
      "source": [
        "raise ValueError(\"Custom error message\")"
      ],
      "metadata": {
        "id": "eYSU1xOFZkpj"
      },
      "execution_count": null,
      "outputs": []
    },
    {
      "cell_type": "markdown",
      "source": [
        "#25. Why is it important to use multithreading in certain applications?\n",
        "\n",
        "**Multithreading** improves application performance by allowing multiple tasks to run concurrently, especially for I/O-bound operations."
      ],
      "metadata": {
        "id": "hpAgc2k6ZmSU"
      }
    },
    {
      "cell_type": "markdown",
      "source": [
        "**Practical Questions:**"
      ],
      "metadata": {
        "id": "1qrkpznRZ89n"
      }
    },
    {
      "cell_type": "markdown",
      "source": [
        "#1. How can you open a file for writing in Python and write a string to it?"
      ],
      "metadata": {
        "id": "OpUfHVe9Z_jO"
      }
    },
    {
      "cell_type": "code",
      "source": [
        "# Open the file for writing\n",
        "with open(\"example.txt\", \"w\") as file:\n",
        "    file.write(\"This is a test string.\")"
      ],
      "metadata": {
        "id": "JaQDrgOeaNkI"
      },
      "execution_count": null,
      "outputs": []
    },
    {
      "cell_type": "markdown",
      "source": [
        "#2. Write a Python program to read the contents of a file and print each line."
      ],
      "metadata": {
        "id": "BagJIbU5aPZg"
      }
    },
    {
      "cell_type": "code",
      "source": [
        "# Open the file for reading\n",
        "with open(\"example.txt\", \"r\") as file:\n",
        "    for line in file:\n",
        "        print(line.strip())"
      ],
      "metadata": {
        "id": "zRHwN_I6aURy"
      },
      "execution_count": null,
      "outputs": []
    },
    {
      "cell_type": "markdown",
      "source": [
        "#3. How would you handle a case where the file doesn't exist while trying to open it for reading?"
      ],
      "metadata": {
        "id": "TDGJbiIwaVV2"
      }
    },
    {
      "cell_type": "code",
      "source": [
        "try:\n",
        "    with open(\"nonexistent.txt\", \"r\") as file:\n",
        "        content = file.read()\n",
        "except FileNotFoundError:\n",
        "    print(\"The file does not exist.\")"
      ],
      "metadata": {
        "id": "yC8svzbhaZMq"
      },
      "execution_count": null,
      "outputs": []
    },
    {
      "cell_type": "markdown",
      "source": [
        "#4. Write a Python script that reads from one file and writes its content to another file."
      ],
      "metadata": {
        "id": "12m91yjGaZ7_"
      }
    },
    {
      "cell_type": "code",
      "source": [
        "with open(\"source.txt\", \"r\") as source, open(\"destination.txt\", \"w\") as destination:\n",
        "    for line in source:\n",
        "        destination.write(line)"
      ],
      "metadata": {
        "id": "yIV8G13vafcK"
      },
      "execution_count": null,
      "outputs": []
    },
    {
      "cell_type": "markdown",
      "source": [
        "#5.  How would you catch and handle division by zero error in Python?\n",
        "\n"
      ],
      "metadata": {
        "id": "Ewu7hIH5agYC"
      }
    },
    {
      "cell_type": "code",
      "source": [
        "try:\n",
        "    result = 10 / 0\n",
        "except ZeroDivisionError:\n",
        "    print(\"Division by zero is not allowed.\")"
      ],
      "metadata": {
        "id": "83aaSUwcalRm"
      },
      "execution_count": null,
      "outputs": []
    },
    {
      "cell_type": "markdown",
      "source": [
        "#6. Write a Python program that logs an error message to a log file when a division by zero exception occurs."
      ],
      "metadata": {
        "id": "LYjyuDDvamU6"
      }
    },
    {
      "cell_type": "code",
      "source": [
        "import logging\n",
        "\n",
        "logging.basicConfig(filename=\"error.log\", level=logging.ERROR)\n",
        "\n",
        "try:\n",
        "    result = 10 / 0\n",
        "except ZeroDivisionError:\n",
        "    logging.error(\"Division by zero occurred!\")"
      ],
      "metadata": {
        "id": "sHNymsXkarMu"
      },
      "execution_count": null,
      "outputs": []
    },
    {
      "cell_type": "markdown",
      "source": [
        "#7. How do you log information at different levels (INFO, ERROR, WARNING) in Python using the logging module?"
      ],
      "metadata": {
        "id": "E-UoCAtxasNG"
      }
    },
    {
      "cell_type": "code",
      "source": [
        "import logging\n",
        "\n",
        "logging.basicConfig(level=logging.DEBUG, format=\"%(levelname)s: %(message)s\")\n",
        "logging.info(\"This is an INFO message.\")\n",
        "logging.warning(\"This is a WARNING message.\")\n",
        "logging.error(\"This is an ERROR message.\")"
      ],
      "metadata": {
        "id": "W0t_45w7axqq"
      },
      "execution_count": null,
      "outputs": []
    },
    {
      "cell_type": "markdown",
      "source": [
        "#8. Write a program to handle a file opening error using exception handling."
      ],
      "metadata": {
        "id": "111dz5ICazTi"
      }
    },
    {
      "cell_type": "code",
      "source": [
        "try:\n",
        "    with open(\"unknown.txt\", \"r\") as file:\n",
        "        print(file.read())\n",
        "except FileNotFoundError:\n",
        "    print(\"File not found. Please check the file name.\")"
      ],
      "metadata": {
        "id": "_xcVK4jGa3GS"
      },
      "execution_count": null,
      "outputs": []
    },
    {
      "cell_type": "markdown",
      "source": [
        "#9. How can you read a file line by line and store its content in a list in Python?"
      ],
      "metadata": {
        "id": "-Ra8XmhVa4iS"
      }
    },
    {
      "cell_type": "code",
      "source": [
        "with open(\"example.txt\", \"r\") as file:\n",
        "    lines = file.readlines()\n",
        "print(lines)"
      ],
      "metadata": {
        "id": "yJc_xAjYa8mW"
      },
      "execution_count": null,
      "outputs": []
    },
    {
      "cell_type": "markdown",
      "source": [
        "#10. How can you append data to an existing file in Python?"
      ],
      "metadata": {
        "id": "gwzIlpDBa-nC"
      }
    },
    {
      "cell_type": "code",
      "source": [
        "with open(\"example.txt\", \"a\") as file:\n",
        "    file.write(\"\\nThis is appended text.\")"
      ],
      "metadata": {
        "id": "q0d3SG3PbCZ-"
      },
      "execution_count": null,
      "outputs": []
    },
    {
      "cell_type": "markdown",
      "source": [
        "#11. Write a Python program that uses a try-except block to handle an error when attempting to access a dictionary key that doesn't exist."
      ],
      "metadata": {
        "id": "FU2xAtvubIxS"
      }
    },
    {
      "cell_type": "code",
      "source": [
        "data = {\"key1\": \"value1\"}\n",
        "\n",
        "try:\n",
        "    print(data[\"key2\"])\n",
        "except KeyError:\n",
        "    print(\"Key does not exist in the dictionary.\")"
      ],
      "metadata": {
        "id": "h4LP5YiibM4J"
      },
      "execution_count": null,
      "outputs": []
    },
    {
      "cell_type": "markdown",
      "source": [
        "#12.  Write a program that demonstrates using multiple except blocks to handle different types of exceptions."
      ],
      "metadata": {
        "id": "PsPb4mUebOli"
      }
    },
    {
      "cell_type": "code",
      "source": [
        "try:\n",
        "    result = 10 / 0\n",
        "    print(nonexistent_variable)\n",
        "except ZeroDivisionError:\n",
        "    print(\"Cannot divide by zero.\")\n",
        "except NameError:\n",
        "    print(\"Variable is not defined.\")"
      ],
      "metadata": {
        "id": "ahDw4qhGbR0S"
      },
      "execution_count": null,
      "outputs": []
    },
    {
      "cell_type": "markdown",
      "source": [
        "#13. How would you check if a file exists before attempting to read it in Python?"
      ],
      "metadata": {
        "id": "KBJK0-mCbTbO"
      }
    },
    {
      "cell_type": "code",
      "source": [
        "import os\n",
        "\n",
        "if os.path.exists(\"example.txt\"):\n",
        "    with open(\"example.txt\", \"r\") as file:\n",
        "        print(file.read())\n",
        "else:\n",
        "    print(\"File does not exist.\")"
      ],
      "metadata": {
        "id": "6xtihLZwbXB6"
      },
      "execution_count": null,
      "outputs": []
    },
    {
      "cell_type": "markdown",
      "source": [
        "#14. Write a program that uses the logging module to log both informational and error messages."
      ],
      "metadata": {
        "id": "XeMNJURJcZVN"
      }
    },
    {
      "cell_type": "code",
      "source": [
        "import logging\n",
        "\n",
        "logging.basicConfig(filename=\"app.log\", level=logging.DEBUG, format=\"%(levelname)s: %(message)s\")\n",
        "logging.info(\"This is an informational message.\")\n",
        "logging.error(\"This is an error message.\")"
      ],
      "metadata": {
        "id": "ushFVOphcdmV"
      },
      "execution_count": null,
      "outputs": []
    },
    {
      "cell_type": "markdown",
      "source": [
        "#15. Write a Python program that prints the content of a file and handles the case when the file is empty?"
      ],
      "metadata": {
        "id": "a1MlHLG9cfJt"
      }
    },
    {
      "cell_type": "code",
      "source": [
        "with open(\"example.txt\", \"r\") as file:\n",
        "    content = file.read()\n",
        "    if not content.strip():\n",
        "        print(\"The file is empty.\")\n",
        "    else:\n",
        "        print(content)"
      ],
      "metadata": {
        "id": "LanttR4JcmL9"
      },
      "execution_count": null,
      "outputs": []
    },
    {
      "cell_type": "markdown",
      "source": [
        "#16. Demonstrate how to use memory profiling to check the memory usage of a small program."
      ],
      "metadata": {
        "id": "G4qeX3-Hcm-p"
      }
    },
    {
      "cell_type": "code",
      "source": [
        "from memory_profiler import profile\n",
        "\n",
        "@profile\n",
        "def my_function():\n",
        "    data = [i for i in range(100000)]\n",
        "    return sum(data)\n",
        "\n",
        "my_function()"
      ],
      "metadata": {
        "id": "reX8YK0HcqYw"
      },
      "execution_count": null,
      "outputs": []
    },
    {
      "cell_type": "markdown",
      "source": [
        "#17. Write a Python program to create and write a list of numbers to a file, one number per line."
      ],
      "metadata": {
        "id": "ENZee5bLcr44"
      }
    },
    {
      "cell_type": "code",
      "source": [
        "numbers = [1, 2, 3, 4, 5]\n",
        "with open(\"numbers.txt\", \"w\") as file:\n",
        "    for num in numbers:\n",
        "        file.write(f\"{num}\\n\")"
      ],
      "metadata": {
        "id": "x3EvsacfcwSs"
      },
      "execution_count": null,
      "outputs": []
    },
    {
      "cell_type": "markdown",
      "source": [
        "#18.  How would you implement a basic logging setup that logs to a file with rotation after 1MB?"
      ],
      "metadata": {
        "id": "pqwjtORucxTg"
      }
    },
    {
      "cell_type": "code",
      "source": [
        "from logging.handlers import RotatingFileHandler\n",
        "import logging\n",
        "\n",
        "handler = RotatingFileHandler(\"app.log\", maxBytes=1_000_000, backupCount=3)\n",
        "logging.basicConfig(handlers=[handler], level=logging.INFO, format=\"%(levelname)s: %(message)s\")\n",
        "\n",
        "logging.info(\"This is a log message.\")"
      ],
      "metadata": {
        "id": "Kz5QWc5fc1LF"
      },
      "execution_count": null,
      "outputs": []
    },
    {
      "cell_type": "markdown",
      "source": [
        "#19. Write a program that handles both IndexError and KeyError using a try-except block."
      ],
      "metadata": {
        "id": "_Wpzx41Xc2xw"
      }
    },
    {
      "cell_type": "code",
      "source": [
        "try:\n",
        "    lst = [1, 2, 3]\n",
        "    print(lst[5])  # IndexError\n",
        "    dct = {\"a\": 1}\n",
        "    print(dct[\"b\"])  # KeyError\n",
        "except IndexError:\n",
        "    print(\"Index out of range.\")\n",
        "except KeyError:\n",
        "    print(\"Key not found.\")"
      ],
      "metadata": {
        "id": "TF4sKuf2c7t4"
      },
      "execution_count": null,
      "outputs": []
    },
    {
      "cell_type": "markdown",
      "source": [
        "#20.  How would you open a file and read its contents using a context manager in Python?"
      ],
      "metadata": {
        "id": "yz5HPPeDc9yk"
      }
    },
    {
      "cell_type": "code",
      "source": [
        "with open(\"example.txt\", \"r\") as file:\n",
        "    content = file.read()\n",
        "print(content)"
      ],
      "metadata": {
        "id": "zupPSnbidCGt"
      },
      "execution_count": null,
      "outputs": []
    },
    {
      "cell_type": "markdown",
      "source": [
        "#21. Write a Python program that reads a file and prints the number of occurrences of a specific word."
      ],
      "metadata": {
        "id": "fyz2r2CPdD-x"
      }
    },
    {
      "cell_type": "code",
      "source": [
        "word_to_count = \"test\"\n",
        "with open(\"example.txt\", \"r\") as file:\n",
        "    content = file.read()\n",
        "    print(content.lower().count(word_to_count.lower()))"
      ],
      "metadata": {
        "id": "ERt4u62WdH1E"
      },
      "execution_count": null,
      "outputs": []
    },
    {
      "cell_type": "markdown",
      "source": [
        "#22. How can you check if a file is empty before attempting to read its contents?"
      ],
      "metadata": {
        "id": "yNMCX2_2dKEg"
      }
    },
    {
      "cell_type": "code",
      "source": [
        "import os\n",
        "\n",
        "if os.path.getsize(\"example.txt\") == 0:\n",
        "    print(\"The file is empty.\")\n",
        "else:\n",
        "    with open(\"example.txt\", \"r\") as file:\n",
        "        print(file.read())"
      ],
      "metadata": {
        "id": "sKogt-FDdN5s"
      },
      "execution_count": null,
      "outputs": []
    },
    {
      "cell_type": "markdown",
      "source": [
        "#23. Write a Python program that writes to a log file when an error occurs during file handling."
      ],
      "metadata": {
        "id": "YsSSaPxsdQtE"
      }
    },
    {
      "cell_type": "code",
      "source": [
        "import logging\n",
        "\n",
        "logging.basicConfig(filename=\"file_error.log\", level=logging.ERROR)\n",
        "\n",
        "try:\n",
        "    with open(\"nonexistent.txt\", \"r\") as file:\n",
        "        print(file.read())\n",
        "except FileNotFoundError as e:\n",
        "    logging.error(f\"File error occurred: {e}\")"
      ],
      "metadata": {
        "id": "xzBTN44wdVVA"
      },
      "execution_count": null,
      "outputs": []
    }
  ]
}