{
  "nbformat": 4,
  "nbformat_minor": 0,
  "metadata": {
    "colab": {
      "provenance": []
    },
    "kernelspec": {
      "name": "python3",
      "display_name": "Python 3"
    },
    "language_info": {
      "name": "python"
    }
  },
  "cells": [
    {
      "cell_type": "markdown",
      "source": [
        "#1.Explain the key features of Python that make it a popular choice for programming.\n",
        "##Key Features of Python that Make It a Popular Choice for Programming\n",
        "1. Widely used in the Industry : Python is widely adopted across various sectors, including technology, finance, healthcare, and media.\n",
        "2. Extensive Libraries and Frameworks : Python has a large collection of libraries and frameworks, such as NumPy, pandas, Django, Flask, and TensorFlow.\n",
        "3. Easy to learn and use : Python has a simple and readable syntax, making it an ideal choice for beginners and experienced developers alike.\n",
        "4. Versatility : Python can be used for many different types of projects, like web development, data analysis, automation, and more.\n",
        "5. Large active community : Python has a vast and supportive community, which means there is ample documentation, tutorials, and resources available."
      ],
      "metadata": {
        "id": "_IqvTCUBYx2e"
      }
    },
    {
      "cell_type": "markdown",
      "source": [
        "#2.Describe the role of predefined keywords in Python and provide examples of how they are used in a program.\n",
        "##Role of Predefined Keywords in Python\n",
        "Predefined keywords in Python are special words that have specific meanings and cannot be used as variable names or function names. These keywords are essential for writing structured and organized code.\n",
        "\n",
        "Examples of Predefined Keywords in Python:\n",
        "\n",
        "In this section, I will provide examples of how the keywords print and for are used in Python programs.\n",
        "1. Using print:\n",
        "The print function is used to display messages or variables in the output.\n",
        "\n",
        "Here are some examples:"
      ],
      "metadata": {
        "id": "Cas9hvPJbOtb"
      }
    },
    {
      "cell_type": "code",
      "source": [
        "# Using print to display a message\n",
        "print(\"Hello, World!\")  # Outputs: Hello, World!\n",
        "\n",
        "# Using print with variables\n",
        "name = \"Rizwan\"\n",
        "print(\"Hello,\", name)  # Outputs: Hello, Rizwan\n",
        "\n",
        "#In this example, I assigned my name to the variable name and used print to display a greeting"
      ],
      "metadata": {
        "id": "BPtrrDLsxEWz"
      },
      "execution_count": null,
      "outputs": []
    },
    {
      "cell_type": "markdown",
      "source": [
        "2. Using for:\n",
        "The for keyword allows me to create loops that iterate over a sequence like a list or a range of numbers.\n",
        "\n",
        "Here are some examples:"
      ],
      "metadata": {
        "id": "IgIzoPtJxNWy"
      }
    },
    {
      "cell_type": "code",
      "source": [
        "# Using for loop to iterate over a list\n",
        "fruits = [\"apple\", \"banana\", \"cherry\"]\n",
        "for fruit in fruits:\n",
        "    print(fruit)\n",
        "# Outputs:\n",
        "# apple\n",
        "# banana\n",
        "# cherry\n",
        "\n",
        "#In this example, the for loop goes through each item in the fruits list and prints it.\n",
        "\n",
        "# Using for loop with range\n",
        "for i in range(3):\n",
        "    print(\"Iteration\", i)\n",
        "# Outputs:\n",
        "# Iteration 0\n",
        "# Iteration 1\n",
        "# Iteration 2\n",
        "\n",
        "#Here, the for loop iterates over the range of numbers from 0 to 2 and prints the current iteration."
      ],
      "metadata": {
        "id": "xLgRXA9ZxeOC"
      },
      "execution_count": null,
      "outputs": []
    },
    {
      "cell_type": "markdown",
      "source": [
        "#3.Compare and contrast mutable and immutable objects in Python with examples.\n",
        "##Comparing Mutable and Immutable Objects in Python\n",
        "In Python, understanding the difference between mutable and immutable objects is essential for writing effective code. Here’s a breakdown of these two types of objects.\n",
        "1. Mutable Objects:\n",
        "Mutable objects are those that can be changed after they are created. This means I can modify their contents without creating a new object. Some common examples of mutable objects are lists, dictionaries, and sets.\n",
        "\n",
        "For example, when I create a list, I can change it easily. Here’s a simple example:"
      ],
      "metadata": {
        "id": "91dCavADgEVS"
      }
    },
    {
      "cell_type": "code",
      "source": [
        "# Creating a mutable object: a list\n",
        "my_list = [1, 2, 3]\n",
        "print(\"Original list:\", my_list)\n",
        "\n",
        "# Modifying the list by adding an item\n",
        "my_list.append(4)\n",
        "print(\"Modified list:\", my_list)  # Outputs: [1, 2, 3, 4]\n",
        "\n",
        "#In this example, I added the number 4 to the original list without creating a new list."
      ],
      "metadata": {
        "id": "p3zD7iIdi49X"
      },
      "execution_count": null,
      "outputs": []
    },
    {
      "cell_type": "markdown",
      "source": [
        "2. Immutable Objects:\n",
        "On the other hand, immutable objects cannot be changed once they are created. If I want to modify an immutable object, I need to create a new one. Common examples of immutable objects are strings, tuples, and integers.\n",
        "\n",
        "For instance, when I work with a string, I cannot change it directly. Here’s an example:"
      ],
      "metadata": {
        "id": "_LRAUHJYjExn"
      }
    },
    {
      "cell_type": "code",
      "source": [
        "# Creating an immutable object: a string\n",
        "my_string = \"Hello\"\n",
        "print(\"Original string:\", my_string)\n",
        "\n",
        "# If I try to change the string, it won’t work\n",
        "# my_string[0] = \"h\"  # This will cause an error\n",
        "\n",
        "# Instead, I create a new string\n",
        "new_string = \"h\" + my_string[1:]\n",
        "print(\"Modified string:\", new_string)  # Outputs: hello\n"
      ],
      "metadata": {
        "colab": {
          "base_uri": "https://localhost:8080/"
        },
        "id": "LpZionf5jRp2",
        "outputId": "d72fc4b8-5468-4733-93fb-6f5446f4cb39"
      },
      "execution_count": null,
      "outputs": [
        {
          "output_type": "stream",
          "name": "stdout",
          "text": [
            "Original string: Hello\n",
            "Modified string: hello\n"
          ]
        }
      ]
    },
    {
      "cell_type": "markdown",
      "source": [
        "#4.Discuss the different types of operators in Python and provide examples of how they are used.\n",
        "##Types of Operators in Python\n",
        "In Python, operators are special symbols that perform operations on variables and values. In this assignment, I will discuss the different types of operators in Python, along with examples of how I use them in my code.\n",
        "1. Arithmetic Operators:\n",
        "Arithmetic operators are used to perform basic mathematical calculations such as addition, subtraction, multiplication, and division.\n",
        "\n",
        "Here are some examples:"
      ],
      "metadata": {
        "id": "qHCvvIqGjpmS"
      }
    },
    {
      "cell_type": "code",
      "source": [
        "# Arithmetic Operators\n",
        "a = 10\n",
        "b = 5\n",
        "\n",
        "# Addition\n",
        "print(\"Addition:\", a + b)        # Outputs: 15\n",
        "\n",
        "# Subtraction\n",
        "print(\"Subtraction:\", a - b)     # Outputs: 5\n",
        "\n",
        "# Multiplication\n",
        "print(\"Multiplication:\", a * b)  # Outputs: 50\n",
        "\n",
        "# Division\n",
        "print(\"Division:\", a / b)        # Outputs: 2.0\n",
        "\n",
        "#In this example, I perform various arithmetic operations on the numbers 10 and 5."
      ],
      "metadata": {
        "id": "oqRVZygFkXbu"
      },
      "execution_count": null,
      "outputs": []
    },
    {
      "cell_type": "markdown",
      "source": [
        "2. Comparison Operators:\n",
        "Comparison operators are used to compare two values. They return a boolean value, either True or False.\n",
        "\n",
        "Here are some examples:"
      ],
      "metadata": {
        "id": "V1jG5GwKkZ3-"
      }
    },
    {
      "cell_type": "code",
      "source": [
        "# Comparison Operators\n",
        "x = 10\n",
        "y = 20\n",
        "\n",
        "# Equal to\n",
        "print(\"Equal to:\", x == y)        # Outputs: False\n",
        "\n",
        "# Not equal to\n",
        "print(\"Not equal to:\", x != y)    # Outputs: True\n",
        "\n",
        "# Greater than\n",
        "print(\"Greater than:\", x > y)     # Outputs: False\n",
        "\n",
        "# Less than\n",
        "print(\"Less than:\", x < y)        # Outputs: True\n",
        "\n",
        "#In this case, I compare the values of x and y using different comparison operators."
      ],
      "metadata": {
        "id": "cAcNDtmWkeWN"
      },
      "execution_count": null,
      "outputs": []
    },
    {
      "cell_type": "markdown",
      "source": [
        "3. Logical Operators:\n",
        "Logical operators are used to combine conditional statements. The main logical operators are and, or, and not.\n",
        "\n",
        "Here’s how I use them:"
      ],
      "metadata": {
        "id": "_44fPiLqkisd"
      }
    },
    {
      "cell_type": "code",
      "source": [
        "# Logical Operators\n",
        "a = True\n",
        "b = False\n",
        "\n",
        "# AND Operator\n",
        "print(\"AND:\", a and b)  # Outputs: False\n",
        "\n",
        "# OR Operator\n",
        "print(\"OR:\", a or b)    # Outputs: True\n",
        "\n",
        "# NOT Operator\n",
        "print(\"NOT:\", not a)    # Outputs: False\n",
        "\n",
        "#These operators help me evaluate multiple conditions in my code."
      ],
      "metadata": {
        "id": "BukcO3oCk1d9"
      },
      "execution_count": null,
      "outputs": []
    },
    {
      "cell_type": "markdown",
      "source": [
        "4. Assignment Operators:\n",
        "Assignment operators are used to assign values to variables. They can also perform operations while assigning values.\n",
        "\n",
        "Here’s an example:"
      ],
      "metadata": {
        "id": "GgicHA8vk4xd"
      }
    },
    {
      "cell_type": "code",
      "source": [
        "# Assignment Operators\n",
        "c = 10\n",
        "print(\"Initial value of c:\", c)  # Outputs: 10\n",
        "\n",
        "# Add and assign\n",
        "c += 5  # Same as c = c + 5\n",
        "print(\"After += 5, c:\", c)  # Outputs: 15\n",
        "\n",
        "# Multiply and assign\n",
        "c *= 2  # Same as c = c * 2\n",
        "print(\"After *= 2, c:\", c)  # Outputs: 30\n",
        "\n",
        "#In this example, I demonstrate how to use assignment operators to update the value of c."
      ],
      "metadata": {
        "id": "a0mNouqxlAC1"
      },
      "execution_count": null,
      "outputs": []
    },
    {
      "cell_type": "markdown",
      "source": [
        "5. Identity Operators:\n",
        "Identity operators check whether two variables point to the same object in memory. The main identity operators are is and is not.\n",
        "\n",
        "Here’s how I use them:"
      ],
      "metadata": {
        "id": "cvIdpFRMlVaN"
      }
    },
    {
      "cell_type": "code",
      "source": [
        "# Identity Operators\n",
        "a = [1, 2, 3]\n",
        "b = a  # b points to the same list as a\n",
        "\n",
        "print(\"a is b:\", a is b)  # Outputs: True\n",
        "print(\"a is not b:\", a is not b)  # Outputs: False\n",
        "\n",
        "#This helps me determine if two variables are actually referring to the same object."
      ],
      "metadata": {
        "id": "mUlrMSJOlgao"
      },
      "execution_count": null,
      "outputs": []
    },
    {
      "cell_type": "markdown",
      "source": [
        "6. Membership Operators:Membership operators check if a value is present in a sequence, such as a list or string. The main membership operators are in and not in.\n",
        "\n",
        "Here’s an example:"
      ],
      "metadata": {
        "id": "C1EnU1ZYlp01"
      }
    },
    {
      "cell_type": "code",
      "source": [
        "# Membership Operators\n",
        "my_list = [1, 2, 3, 4, 5]\n",
        "\n",
        "print(\"2 in my_list:\", 2 in my_list)       # Outputs: True\n",
        "print(\"6 not in my_list:\", 6 not in my_list)  # Outputs: True\n",
        "\n",
        "#These operators allow me to check the existence of elements in a list."
      ],
      "metadata": {
        "id": "BX8OxkX8lwIo"
      },
      "execution_count": null,
      "outputs": []
    },
    {
      "cell_type": "markdown",
      "source": [
        "#5.Explain the concept of type casting in Python with examples.\n",
        "##Type Casting in Python\n",
        "In Python, type casting is the process of converting one data type into another. This is important when I need to perform operations with different types of data. There are two main types of type casting: implicit and explicit. In this assignment, I will explain both with examples.\n",
        "1. Implicit Type Casting:\n",
        "Implicit type casting happens automatically when Python converts one data type to another without me having to do anything. This usually occurs when I perform operations on different data types. For example, if I add an integer and a float, Python will automatically convert the integer to a float.\n",
        "\n",
        "Example:"
      ],
      "metadata": {
        "id": "trmxg_WwmRuv"
      }
    },
    {
      "cell_type": "code",
      "source": [
        "# Implicit Type Casting\n",
        "num_int = 10      # This is an integer\n",
        "num_float = 5.5   # This is a float\n",
        "\n",
        "# Adding an integer and a float\n",
        "result = num_int + num_float\n",
        "print(\"Result of addition:\", result)  # Outputs: 15.5\n",
        "print(\"Type of result:\", type(result))  # Outputs: <class 'float'>\n",
        "\n",
        "#In this example, when I add the integer 10 and the float 5.5, Python converts 10 to 10.0 (a float) before performing the addition. This gives me a result of 15.5."
      ],
      "metadata": {
        "id": "3LetAuWOm99c"
      },
      "execution_count": null,
      "outputs": []
    },
    {
      "cell_type": "markdown",
      "source": [
        "2. Explicit Type Casting:\n",
        "Explicit type casting is when I manually convert one data type to another using built-in functions. Some common functions I can use are int(), float(), and str().\n",
        "\n",
        "Example:"
      ],
      "metadata": {
        "id": "eWTxo9eXnRL6"
      }
    },
    {
      "cell_type": "code",
      "source": [
        "# Explicit Type Casting\n",
        "num_float = 7.9  # This is a float\n",
        "num_int = int(num_float)  # Converting float to integer\n",
        "\n",
        "print(\"Converted integer:\", num_int)  # Outputs: 7\n",
        "\n",
        "#Here, I convert the float 7.9 to an integer using the int() function. The result is 7, and the decimal part is removed."
      ],
      "metadata": {
        "id": "oQD0Hq4pnb4G"
      },
      "execution_count": null,
      "outputs": []
    },
    {
      "cell_type": "markdown",
      "source": [
        "\n",
        "#6.How do conditional statements work in Python? Illustrate with examples.\n",
        "##How Conditional Statements Work in Python\n",
        "Conditional statements in Python are used to make decisions in my code. They help me execute certain blocks of code based on whether a condition is true or false. The main types of conditional statements are if, elif, and else. In this assignment, I will explain how these work with examples.\n",
        "1. if Statement:\n",
        "The if statement checks a condition. If the condition is true, the code block under it runs.\n",
        "\n",
        "Example:"
      ],
      "metadata": {
        "id": "ZzGpxdDnnmoy"
      }
    },
    {
      "cell_type": "code",
      "source": [
        "# Using the if statement\n",
        "age = 18\n",
        "\n",
        "if age >= 18:\n",
        "    print(\"You are an adult.\")  # This message will be printed\n",
        "\n",
        "#In this example, I check if age is 18 or older. Since this is true, the program prints \"You are an adult.\""
      ],
      "metadata": {
        "id": "0s3PCKYjoQwr"
      },
      "execution_count": null,
      "outputs": []
    },
    {
      "cell_type": "markdown",
      "source": [
        "2. else Statement:\n",
        "The else statement provides an alternative action if the if condition is false.\n",
        "\n",
        "Example:"
      ],
      "metadata": {
        "id": "T8Vdx1w6oXje"
      }
    },
    {
      "cell_type": "code",
      "source": [
        "# Using the if and else statements\n",
        "age = 16\n",
        "\n",
        "if age >= 18:\n",
        "    print(\"You are an adult.\")\n",
        "else:\n",
        "    print(\"You are a minor.\")  # This message will be printed\n",
        "\n",
        "#Here, since age is 16, the program doesn't print \"You are an adult.\" Instead, it prints \"You are a minor.\""
      ],
      "metadata": {
        "id": "WrKN1uAgod56"
      },
      "execution_count": null,
      "outputs": []
    },
    {
      "cell_type": "markdown",
      "source": [
        "3. elif Statement:\n",
        "The elif statement stands for \"else if.\" It allows me to check multiple conditions.\n",
        "\n",
        "Example:"
      ],
      "metadata": {
        "id": "IvnYNr1Uoq5K"
      }
    },
    {
      "cell_type": "code",
      "source": [
        "# Using if, elif, and else statements\n",
        "grade = 85\n",
        "\n",
        "if grade >= 90:\n",
        "    print(\"You got an A.\")\n",
        "elif grade >= 80:\n",
        "    print(\"You got a B.\")  # This message will be printed\n",
        "elif grade >= 70:\n",
        "    print(\"You got a C.\")\n",
        "else:\n",
        "    print(\"You need to improve.\")\n",
        "\n",
        "#In this case, the program checks the grade. It finds that the grade is 85, so it prints \"You got a B.\""
      ],
      "metadata": {
        "id": "Eh9QoWAVo2ap"
      },
      "execution_count": null,
      "outputs": []
    },
    {
      "cell_type": "markdown",
      "source": [
        "#7.Describe the different types of loops in Python and their use cases with examples.\n",
        "##Different Types of Loops in Python\n",
        "In Python, loops are used to repeat a block of code multiple times. This is useful when I want to perform the same action several times. The two main types of loops in Python are the for loop and the while loop. In this assignment, I will explain each type of loop with examples.\n",
        "\n",
        "1. for Loop:\n",
        "The for loop is used to go through items in a list, tuple, or string. It lets me run a block of code for each item in the sequence.\n",
        "\n",
        "Example:"
      ],
      "metadata": {
        "id": "rhZB1Bruo8G6"
      }
    },
    {
      "cell_type": "code",
      "source": [
        "# Using a for loop\n",
        "fruits = [\"apple\", \"banana\", \"cherry\"]\n",
        "\n",
        "for fruit in fruits:\n",
        "    print(\"I like\", fruit)  # This prints each fruit\n",
        "\n",
        "#In this example, I have a list of fruits. The for loop goes through each fruit and prints \"I like\" followed by the fruit name.\n",
        "#Use Case: I use a for loop when I want to process items in a collection, like displaying all the names in a list."
      ],
      "metadata": {
        "id": "7klpOyKHpTCe"
      },
      "execution_count": null,
      "outputs": []
    },
    {
      "cell_type": "markdown",
      "source": [
        "2. while Loop:\n",
        "The while loop runs as long as a condition is true. This is helpful when I don't know how many times I need to repeat the code beforehand.\n",
        "\n",
        "Example:"
      ],
      "metadata": {
        "id": "TvG9FQ64pfYh"
      }
    },
    {
      "cell_type": "code",
      "source": [
        "# Using a while loop\n",
        "count = 0\n",
        "\n",
        "while count < 5:\n",
        "    print(\"Count is:\", count)\n",
        "    count += 1  # Increase count by 1\n",
        "\n",
        "#In this example, the while loop continues to run as long as count is less than 5. It prints the current count and then adds 1 to it each time.\n",
        "#Use Case: I use a while loop when I want to repeat something until a certain condition is met, like counting up to a number."
      ],
      "metadata": {
        "id": "FiyqQMXDpkNM"
      },
      "execution_count": null,
      "outputs": []
    },
    {
      "cell_type": "markdown",
      "source": [
        "##Conclusion\n",
        "In this assignment, I have explored several fundamental concepts of Python programming, including its key features, predefined keywords, mutable and immutable objects, types of operators, type casting, conditional statements, and loops.\n",
        "\n",
        "1. I learned that Python's readability and rich libraries make it a popular choice among developers.\n",
        "2. I understood the significance of keywords and how they structure the code.\n",
        "3. I compared mutable and immutable objects, recognizing their distinct behaviors.\n",
        "4. I gained insight into various operators and how they facilitate different operations in Python.\n",
        "5. I also learned how conditional statements and loops control the flow of a program, making it dynamic and efficient.\n",
        "\n",
        "These concepts are essential for anyone looking to become proficient in Python. I feel more confident in my ability to use these features in future programming tasks and projects.\n",
        "\n"
      ],
      "metadata": {
        "id": "z3s7zMdd0Vcy"
      }
    }
  ]
}