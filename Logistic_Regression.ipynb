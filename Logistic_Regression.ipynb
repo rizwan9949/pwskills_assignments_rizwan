{
  "nbformat": 4,
  "nbformat_minor": 0,
  "metadata": {
    "colab": {
      "provenance": []
    },
    "kernelspec": {
      "name": "python3",
      "display_name": "Python 3"
    },
    "language_info": {
      "name": "python"
    }
  },
  "cells": [
    {
      "cell_type": "markdown",
      "source": [
        "# Logistic Regression - Theoretical Answers\n",
        "\n",
        "## 1. What is Logistic Regression, and how does it differ from Linear Regression?\n",
        "Logistic Regression is a classification algorithm used to predict categorical outcomes. Unlike Linear Regression, which predicts continuous values, Logistic Regression outputs probabilities and uses the **sigmoid function** to map predictions between 0 and 1.\n",
        "\n",
        "## 2. What is the mathematical equation of Logistic Regression?\n",
        "The equation for Logistic Regression is:  \n",
        "**P(Y=1) = 1 / (1 + e^-(b0 + b1X1 + b2X2 + ... + bnXn))**  \n",
        "where `b0` is the intercept and `b1, b2, ..., bn` are the feature coefficients.\n",
        "\n",
        "## 3. Why do we use the Sigmoid function in Logistic Regression?\n",
        "The sigmoid function maps any input value to a probability range (0 to 1), making it suitable for binary classification.\n",
        "\n",
        "## 4. What is the cost function of Logistic Regression?\n",
        "Logistic Regression uses the **log loss (cross-entropy loss)** function to measure prediction errors.\n",
        "\n",
        "## 5. What is Regularization in Logistic Regression? Why is it needed?\n",
        "Regularization prevents overfitting by adding penalty terms to the loss function.  \n",
        "- **L1 (Lasso) Regularization:** Shrinks coefficients and sets some to zero.  \n",
        "- **L2 (Ridge) Regularization:** Shrinks coefficients but keeps all features.  \n",
        "\n",
        "## 6. Explain the difference between Lasso, Ridge, and Elastic Net regression.\n",
        "- **Lasso (L1)**: Shrinks coefficients and can set some to zero.  \n",
        "- **Ridge (L2)**: Shrinks coefficients but keeps all features.  \n",
        "- **Elastic Net**: Combines both L1 and L2 penalties.\n",
        "\n",
        "## 7. When should we use Elastic Net instead of Lasso or Ridge?\n",
        "Elastic Net is useful when dealing with **correlated features** and **high-dimensional data**.\n",
        "\n",
        "## 8. What is the impact of the regularization parameter (λ) in Logistic Regression?\n",
        "Higher **λ** values increase regularization, reducing overfitting but potentially leading to underfitting.\n",
        "\n",
        "## 9. What are the key assumptions of Logistic Regression?\n",
        "- No multicollinearity.  \n",
        "- Linear relationship between predictors & log-odds.  \n",
        "- Independent observations.\n",
        "\n",
        "## 10. What are some alternatives to Logistic Regression for classification tasks?\n",
        "- Decision Trees  \n",
        "- Random Forest  \n",
        "- Support Vector Machines (SVM)  \n",
        "- Naive Bayes  \n",
        "- Neural Networks  \n",
        "\n",
        "## 11. What are Classification Evaluation Metrics?\n",
        "Common classification metrics include:  \n",
        "- **Accuracy**  \n",
        "- **Precision & Recall**  \n",
        "- **F1-Score**  \n",
        "- **ROC-AUC Score**  \n",
        "- **Confusion Matrix**  \n",
        "\n",
        "## 12. How does class imbalance affect Logistic Regression?\n",
        "Class imbalance can bias the model towards the majority class, leading to poor performance for minority class predictions. **Class weights** or **resampling techniques** can address this.\n",
        "\n",
        "## 13. What is Hyperparameter Tuning in Logistic Regression?\n",
        "Hyperparameter tuning involves adjusting model parameters (like `C`, `penalty`, and `solver`) to find the best-performing configuration.\n",
        "\n",
        "## 14. What are different solvers in Logistic Regression? Which one should be used?\n",
        "- **liblinear** → Small datasets, L1/L2 regularization.  \n",
        "- **lbfgs** → Multiclass, large datasets.  \n",
        "- **saga** → Large-scale problems with L1/L2 regularization.  \n",
        "\n",
        "## 15. How is Logistic Regression extended for multiclass classification?\n",
        "- **One-vs-Rest (OvR):** Trains one classifier per class.  \n",
        "- **Softmax Regression:** Generalizes logistic regression for multiple classes.\n",
        "\n",
        "## 16. What are the advantages and disadvantages of Logistic Regression?\n",
        "**Advantages:**  \n",
        "- Easy to implement and interpret.  \n",
        "- Works well for linearly separable data.  \n",
        "\n",
        "**Disadvantages:**  \n",
        "- Poor performance on complex, non-linear problems.  \n",
        "- Assumes independent features.\n",
        "\n",
        "## 17. What are some use cases of Logistic Regression?\n",
        "- Medical diagnosis  \n",
        "- Fraud detection  \n",
        "- Email spam classification  \n",
        "\n",
        "## 18. What is the difference between Softmax Regression and Logistic Regression?\n",
        "- **Softmax Regression:** Used for multiclass classification (assigns probabilities to multiple categories).  \n",
        "- **Logistic Regression:** Used for binary classification.\n",
        "\n",
        "## 19. How do we choose between One-vs-Rest (OvR) and Softmax for multiclass classification?\n",
        "- **OvR:** Works well for small datasets.  \n",
        "- **Softmax:** Preferred for multiclass problems with large datasets.\n",
        "\n",
        "## 20. How do we interpret coefficients in Logistic Regression?\n",
        "Each coefficient represents the **log-odds change** of the dependent variable when a predictor changes by one unit.\n"
      ],
      "metadata": {
        "id": "p7W7YKNqQqBB"
      }
    },
    {
      "cell_type": "markdown",
      "source": [
        "# Logistic Regression - Practical Answers"
      ],
      "metadata": {
        "id": "LEa8vpEiQz88"
      }
    },
    {
      "cell_type": "code",
      "source": [
        "import numpy as np\n",
        "import pandas as pd\n",
        "from sklearn.model_selection import train_test_split, GridSearchCV\n",
        "from sklearn.linear_model import LogisticRegression\n",
        "from sklearn.metrics import accuracy_score, confusion_matrix, classification_report, roc_auc_score, matthews_corrcoef, cohen_kappa_score, precision_recall_curve\n",
        "from sklearn.preprocessing import StandardScaler\n",
        "from sklearn.datasets import load_iris\n",
        "import joblib\n",
        "import matplotlib.pyplot as plt"
      ],
      "metadata": {
        "id": "BbpSd7_aRAHy"
      },
      "execution_count": 2,
      "outputs": []
    },
    {
      "cell_type": "code",
      "source": [
        "# 1. Load dataset, split into train/test, apply Logistic Regression, print accuracy\n",
        "data = load_iris()\n",
        "X, y = data.data, data.target\n",
        "X_train, X_test, y_train, y_test = train_test_split(X, y, test_size=0.2, random_state=42)\n",
        "model = LogisticRegression(max_iter=200)\n",
        "model.fit(X_train, y_train)\n",
        "y_pred = model.predict(X_test)\n",
        "print(\"Model Accuracy:\", accuracy_score(y_test, y_pred))"
      ],
      "metadata": {
        "colab": {
          "base_uri": "https://localhost:8080/"
        },
        "id": "Lwcf90brR1FG",
        "outputId": "1020a768-5c60-4330-935b-0a8e4381be85"
      },
      "execution_count": 74,
      "outputs": [
        {
          "output_type": "stream",
          "name": "stdout",
          "text": [
            "Model Accuracy: 1.0\n"
          ]
        }
      ]
    },
    {
      "cell_type": "code",
      "source": [
        "# 2. Apply L1 regularization (Lasso) and print accuracy\n",
        "model = LogisticRegression(penalty='l1', solver='liblinear')\n",
        "model.fit(X_train, y_train)\n",
        "print(\"L1 Regularization Accuracy:\", model.score(X_test, y_test))"
      ],
      "metadata": {
        "colab": {
          "base_uri": "https://localhost:8080/"
        },
        "id": "EVuvKywnR4Rh",
        "outputId": "91a1e841-7b34-4377-977a-1d492164d617"
      },
      "execution_count": 73,
      "outputs": [
        {
          "output_type": "stream",
          "name": "stdout",
          "text": [
            "L1 Regularization Accuracy: 0.4\n"
          ]
        }
      ]
    },
    {
      "cell_type": "code",
      "source": [
        "# 3. Apply L2 regularization (Ridge) and print accuracy\n",
        "model = LogisticRegression(penalty='l2', solver='lbfgs')\n",
        "model.fit(X_train, y_train)\n",
        "print(\"L2 Regularization Accuracy:\", model.score(X_test, y_test))"
      ],
      "metadata": {
        "colab": {
          "base_uri": "https://localhost:8080/"
        },
        "id": "MA88v56yR6z1",
        "outputId": "c349df7d-4433-41cb-8048-6c9d7a545a66"
      },
      "execution_count": 72,
      "outputs": [
        {
          "output_type": "stream",
          "name": "stdout",
          "text": [
            "L2 Regularization Accuracy: 0.5\n"
          ]
        }
      ]
    },
    {
      "cell_type": "code",
      "source": [
        "from sklearn.linear_model import ElasticNet, LogisticRegression\n",
        "from sklearn.multiclass import OneVsRestClassifier\n",
        "from sklearn.model_selection import train_test_split\n",
        "from sklearn.metrics import accuracy_score\n",
        "\n",
        "X_train, X_test, y_train, y_test = train_test_split(X, y, test_size=0.2, random_state=42)\n",
        "\n",
        "# 4. Elastic Net Regression\n",
        "elastic_net = ElasticNet(alpha=1.0, l1_ratio=0.5, max_iter=10000)\n",
        "elastic_net.fit(X_train, y_train)\n",
        "elastic_net_pred = elastic_net.predict(X_test)\n",
        "elastic_net_acc = accuracy_score(y_test, elastic_net_pred.round())\n",
        "\n",
        "print(\"Elastic Net Accuracy:\", round(elastic_net_acc, 2))"
      ],
      "metadata": {
        "colab": {
          "base_uri": "https://localhost:8080/"
        },
        "id": "ZqptuARZR9Pn",
        "outputId": "1c7faa2e-1fef-4e8f-d988-724dce28827d"
      },
      "execution_count": 47,
      "outputs": [
        {
          "output_type": "stream",
          "name": "stdout",
          "text": [
            "Elastic Net Accuracy: 0.7\n"
          ]
        }
      ]
    },
    {
      "cell_type": "code",
      "source": [
        "# 5. One-vs-Rest (OvR) Logistic Regression\n",
        "log_reg = LogisticRegression(solver='saga', penalty='l1', C=1.0, max_iter=5000)\n",
        "ovr = OneVsRestClassifier(log_reg)\n",
        "ovr.fit(X_train, y_train)\n",
        "ovr_pred = ovr.predict(X_test)\n",
        "ovr_acc = accuracy_score(y_test, ovr_pred)\n",
        "\n",
        "print(\"One-vs-Rest (OvR) Accuracy:\", round(ovr_acc, 2))"
      ],
      "metadata": {
        "colab": {
          "base_uri": "https://localhost:8080/"
        },
        "id": "qY8GXLtBR__q",
        "outputId": "5926b8f0-a5b5-4983-93b0-77815694744c"
      },
      "execution_count": 71,
      "outputs": [
        {
          "output_type": "stream",
          "name": "stdout",
          "text": [
            "One-vs-Rest (OvR) Accuracy: 0.55\n"
          ]
        }
      ]
    },
    {
      "cell_type": "code",
      "source": [
        "# 6. Tune hyperparameters using GridSearchCV\n",
        "param_grid = {'C': [0.1, 1, 10], 'penalty': ['l1', 'l2'], 'solver': ['liblinear']}\n",
        "grid = GridSearchCV(LogisticRegression(), param_grid, cv=5)\n",
        "grid.fit(X_train, y_train)\n",
        "print(\"Best Parameters:\", grid.best_params_)"
      ],
      "metadata": {
        "colab": {
          "base_uri": "https://localhost:8080/"
        },
        "id": "EJyQF9PISBmJ",
        "outputId": "fc89dfb5-74e6-4c2d-e4d8-2a4bdd685f6f"
      },
      "execution_count": 70,
      "outputs": [
        {
          "output_type": "stream",
          "name": "stdout",
          "text": [
            "Best Parameters: {'C': 10, 'penalty': 'l2', 'solver': 'liblinear'}\n"
          ]
        }
      ]
    },
    {
      "cell_type": "code",
      "source": [
        "from sklearn.linear_model import LogisticRegression\n",
        "from sklearn.model_selection import cross_val_score\n",
        "from sklearn.multiclass import OneVsRestClassifier\n",
        "\n",
        "model = LogisticRegression(solver='saga', penalty='l1', C=1.0, max_iter=5000)\n",
        "\n",
        "if len(set(y_train)) > 2:\n",
        "    model = OneVsRestClassifier(model)\n",
        "\n",
        "cv_scores = cross_val_score(model, X_train, y_train, cv=5)\n",
        "\n",
        "print(\"Cross-Validation Accuracy:\", round(cv_scores.mean(), 2))"
      ],
      "metadata": {
        "colab": {
          "base_uri": "https://localhost:8080/"
        },
        "id": "PROQSllNSDML",
        "outputId": "a9964b91-663e-4d73-8875-6777d1da39eb"
      },
      "execution_count": 69,
      "outputs": [
        {
          "output_type": "stream",
          "name": "stdout",
          "text": [
            "Cross-Validation Accuracy: 0.51\n"
          ]
        }
      ]
    },
    {
      "cell_type": "code",
      "source": [
        "# 8. Load dataset from CSV, apply Logistic Regression, evaluate accuracy\n",
        "data = {'feature1': np.random.rand(100),\n",
        "        'feature2': np.random.rand(100),\n",
        "        'target': np.random.randint(0, 2, 100)}\n",
        "df = pd.DataFrame(data)\n",
        "df.to_csv('sample.csv', index=False)\n",
        "\n",
        "df = pd.read_csv(\"sample.csv\")\n",
        "X, y = df.iloc[:, :-1], df.iloc[:, -1]\n",
        "X_train, X_test, y_train, y_test = train_test_split(X, y, test_size=0.2, random_state=42)\n",
        "model = LogisticRegression()\n",
        "model.fit(X_train, y_train)\n",
        "print(\"CSV Data Accuracy:\", model.score(X_test, y_test))"
      ],
      "metadata": {
        "colab": {
          "base_uri": "https://localhost:8080/"
        },
        "id": "WZle1E9-SFKj",
        "outputId": "02b2077e-b46e-4da7-c9bb-509b8163a87b"
      },
      "execution_count": 68,
      "outputs": [
        {
          "output_type": "stream",
          "name": "stdout",
          "text": [
            "CSV Data Accuracy: 0.5\n"
          ]
        }
      ]
    },
    {
      "cell_type": "code",
      "source": [
        "from sklearn.preprocessing import StandardScaler\n",
        "from sklearn.linear_model import LogisticRegression\n",
        "from sklearn.model_selection import RandomizedSearchCV\n",
        "\n",
        "scaler = StandardScaler()\n",
        "X_train_scaled = scaler.fit_transform(X_train)\n",
        "X_test_scaled = scaler.transform(X_test)\n",
        "\n",
        "best_params = {'solver': 'saga', 'penalty': 'l1', 'C': 1.0}\n",
        "model = LogisticRegression(**best_params, max_iter=5000)\n",
        "model.fit(X_train_scaled, y_train)\n",
        "\n",
        "print(\"Model trained successfully with the best parameters:\", best_params)"
      ],
      "metadata": {
        "colab": {
          "base_uri": "https://localhost:8080/"
        },
        "id": "lAn7lJy5SHPO",
        "outputId": "22ce5aab-aa89-41f4-aaaa-48a0b41694bb"
      },
      "execution_count": 45,
      "outputs": [
        {
          "output_type": "stream",
          "name": "stdout",
          "text": [
            "Model trained successfully with the best parameters: {'solver': 'saga', 'penalty': 'l1', 'C': 1.0}\n"
          ]
        }
      ]
    },
    {
      "cell_type": "code",
      "source": [
        "# 10. Train One-vs-One (OvO) Multiclass Logistic Regression\n",
        "from sklearn.multiclass import OneVsOneClassifier\n",
        "model = LogisticRegression(solver='lbfgs')\n",
        "ovo_model = OneVsOneClassifier(model)\n",
        "ovo_model.fit(X_train, y_train)\n",
        "print(\"One-vs-One (OvO) Accuracy:\", ovo_model.score(X_test, y_test))"
      ],
      "metadata": {
        "colab": {
          "base_uri": "https://localhost:8080/"
        },
        "id": "EgPpehNwSMoV",
        "outputId": "892f6411-c954-48f2-9e25-3db2d0d9d3d8"
      },
      "execution_count": 66,
      "outputs": [
        {
          "output_type": "stream",
          "name": "stdout",
          "text": [
            "One-vs-One (OvO) Accuracy: 0.6756756756756757\n"
          ]
        }
      ]
    },
    {
      "cell_type": "code",
      "source": [
        "# 11. Train and visualize confusion matrix for binary classification\n",
        "\n",
        "data = load_iris()\n",
        "X, y = data.data, data.target\n",
        "X_train, X_test, y_train, y_test = train_test_split(X, y, test_size=0.2, random_state=42)\n",
        "\n",
        "model = LogisticRegression(max_iter=200)\n",
        "model.fit(X_train, y_train)\n",
        "\n",
        "y_pred = model.predict(X_test)\n",
        "\n",
        "cm = confusion_matrix(y_test, y_pred)\n",
        "sns.heatmap(cm, annot=True, fmt='d', cmap='Blues')\n",
        "plt.title('Confusion Matrix')\n",
        "plt.xlabel('Predicted')\n",
        "plt.ylabel('Actual')\n",
        "plt.show()"
      ],
      "metadata": {
        "colab": {
          "base_uri": "https://localhost:8080/",
          "height": 472
        },
        "id": "brmM_ZDxSq3C",
        "outputId": "a70db81a-d762-4ab0-abb6-78a42e1ab5e6"
      },
      "execution_count": 19,
      "outputs": [
        {
          "output_type": "display_data",
          "data": {
            "text/plain": [
              "<Figure size 640x480 with 2 Axes>"
            ],
            "image/png": "[encoded data removed]"
          },
          "metadata": {}
        }
      ]
    },
    {
      "cell_type": "code",
      "source": [
        "# 12. Train and evaluate Precision, Recall, F1-Score\n",
        "print(\"Precision, Recall, F1-Score:\")\n",
        "print(classification_report(y_test, y_pred))"
      ],
      "metadata": {
        "colab": {
          "base_uri": "https://localhost:8080/"
        },
        "id": "hJ7hEPXSStSr",
        "outputId": "b895a1ac-b420-42b8-e09d-8a5cfd7a72dc"
      },
      "execution_count": 65,
      "outputs": [
        {
          "output_type": "stream",
          "name": "stdout",
          "text": [
            "Precision, Recall, F1-Score:\n",
            "              precision    recall  f1-score   support\n",
            "\n",
            "           0       0.48      0.85      0.61        13\n",
            "           1       0.86      0.50      0.63        24\n",
            "\n",
            "    accuracy                           0.62        37\n",
            "   macro avg       0.67      0.67      0.62        37\n",
            "weighted avg       0.72      0.62      0.62        37\n",
            "\n"
          ]
        }
      ]
    },
    {
      "cell_type": "code",
      "source": [
        "# 13. Train Logistic Regression on imbalanced data using class weights\n",
        "from sklearn.preprocessing import StandardScaler\n",
        "from sklearn.linear_model import LogisticRegression\n",
        "from sklearn.model_selection import train_test_split\n",
        "from sklearn.metrics import accuracy_score\n",
        "\n",
        "scaler = StandardScaler()\n",
        "X_train_scaled = scaler.fit_transform(X_train)\n",
        "X_test_scaled = scaler.transform(X_test)\n",
        "\n",
        "model = LogisticRegression(class_weight='balanced', solver='saga', max_iter=5000)  # Increased iterations and changed solver\n",
        "model.fit(X_train_scaled, y_train)\n",
        "\n",
        "y_pred = model.predict(X_test_scaled)\n",
        "accuracy = accuracy_score(y_test, y_pred)\n",
        "\n",
        "print(\"Class-weighted Accuracy:\", round(accuracy, 2))\n"
      ],
      "metadata": {
        "colab": {
          "base_uri": "https://localhost:8080/"
        },
        "id": "ljB3wS2VTGET",
        "outputId": "fd76a902-8d91-45b7-e912-5730f0010d91"
      },
      "execution_count": 64,
      "outputs": [
        {
          "output_type": "stream",
          "name": "stdout",
          "text": [
            "Class-weighted Accuracy: 0.62\n"
          ]
        }
      ]
    },
    {
      "cell_type": "code",
      "source": [
        "# 14. Train Logistic Regression on Titanic dataset\n",
        "titanic_df = sns.load_dataset(\"titanic\").dropna()\n",
        "\n",
        "X = titanic_df[['pclass', 'sex', 'age', 'fare']]\n",
        "X = pd.get_dummies(X, columns=['sex'], drop_first=True)\n",
        "y = titanic_df['survived']\n",
        "\n",
        "from sklearn.model_selection import train_test_split\n",
        "from sklearn.linear_model import LogisticRegression\n",
        "\n",
        "X_train, X_test, y_train, y_test = train_test_split(X, y, test_size=0.2, random_state=42)\n",
        "model = LogisticRegression()\n",
        "model.fit(X_train, y_train)\n",
        "\n",
        "print(\"Titanic Dataset Accuracy:\", model.score(X_test, y_test))"
      ],
      "metadata": {
        "colab": {
          "base_uri": "https://localhost:8080/"
        },
        "id": "JMFStPSPTILR",
        "outputId": "44d0bf20-af19-4021-a847-612815109310"
      },
      "execution_count": 63,
      "outputs": [
        {
          "output_type": "stream",
          "name": "stdout",
          "text": [
            "Titanic Dataset Accuracy: 0.6756756756756757\n"
          ]
        }
      ]
    },
    {
      "cell_type": "code",
      "source": [
        "# 15. Plot ROC Curve and Calculate AUC Score\n",
        "from sklearn.metrics import roc_curve, auc\n",
        "import seaborn as sns\n",
        "\n",
        "data = load_iris()\n",
        "X, y = data.data, data.target\n",
        "\n",
        "X_binary = X[y != 2]\n",
        "y_binary = y[y != 2]\n",
        "\n",
        "X_train, X_test, y_train, y_test = train_test_split(X_binary, y_binary, test_size=0.2, random_state=42)\n",
        "\n",
        "model = LogisticRegression()\n",
        "model.fit(X_train, y_train)\n",
        "\n",
        "\n",
        "y_prob = model.predict_proba(X_test)[:, 1]\n",
        "\n",
        "fpr, tpr, _ = roc_curve(y_test, y_prob)\n",
        "roc_auc = auc(fpr, tpr)\n",
        "\n",
        "plt.figure()\n",
        "plt.plot(fpr, tpr, color='blue', label='ROC curve (area = %0.2f)' % roc_auc)\n",
        "plt.plot([0, 1], [0, 1], color='gray', linestyle='--')\n",
        "plt.xlabel('False Positive Rate')\n",
        "plt.ylabel('True Positive Rate')\n",
        "plt.title('Receiver Operating Characteristic (ROC) Curve')\n",
        "plt.legend(loc=\"lower right\")\n",
        "plt.show()\n",
        "\n",
        "print(\"15. AUC Score:\", roc_auc)\n",
        "\n",
        "#Confusion matrix for the binary classification\n",
        "y_pred = model.predict(X_test)\n",
        "cm = confusion_matrix(y_test, y_pred)\n",
        "sns.heatmap(cm, annot=True, fmt='d', cmap='Blues')\n",
        "plt.title('Confusion Matrix')\n",
        "plt.xlabel('Predicted')\n",
        "plt.ylabel('Actual')\n",
        "plt.show()"
      ],
      "metadata": {
        "colab": {
          "base_uri": "https://localhost:8080/",
          "height": 944
        },
        "id": "_ABCD6AuTMIe",
        "outputId": "93ebcdc8-925f-4773-f0e7-27f0090dbfed"
      },
      "execution_count": 58,
      "outputs": [
        {
          "output_type": "display_data",
          "data": {
            "text/plain": [
              "<Figure size 640x480 with 1 Axes>"
            ],
            "image/png": "[encoded data removed]"
          },
          "metadata": {}
        },
        {
          "output_type": "stream",
          "name": "stdout",
          "text": [
            "15. AUC Score: 1.0\n"
          ]
        },
        {
          "output_type": "display_data",
          "data": {
            "text/plain": [
              "<Figure size 640x480 with 2 Axes>"
            ],
            "image/png": "[encoded data removed]"
          },
          "metadata": {}
        }
      ]
    },
    {
      "cell_type": "code",
      "source": [
        "# 16. Implement Feature Scaling and Evaluate Performance\n",
        "scaler = StandardScaler()\n",
        "X_train_scaled = scaler.fit_transform(X_train)\n",
        "X_test_scaled = scaler.transform(X_test)\n",
        "\n",
        "model.fit(X_train_scaled, y_train)\n",
        "print(\"Accuracy with Feature Scaling:\", model.score(X_test_scaled, y_test))"
      ],
      "metadata": {
        "colab": {
          "base_uri": "https://localhost:8080/"
        },
        "id": "eusNHnm5TpfZ",
        "outputId": "c5468724-34e4-47e0-cf31-f56f5a608ebb"
      },
      "execution_count": 57,
      "outputs": [
        {
          "output_type": "stream",
          "name": "stdout",
          "text": [
            "Accuracy with Feature Scaling: 1.0\n"
          ]
        }
      ]
    },
    {
      "cell_type": "code",
      "source": [
        "# 17. Extract and Interpret Coefficients\n",
        "coefficients = model.coef_\n",
        "features = df.columns[:-1]\n",
        "print(\"17. Model Coefficients:\")\n",
        "for feature, coef in zip(features, coefficients[0]):\n",
        "    print(f\"{feature}: {coef:.4f}\")"
      ],
      "metadata": {
        "colab": {
          "base_uri": "https://localhost:8080/"
        },
        "id": "CSLi0blETuzw",
        "outputId": "f0be09a3-0434-41a6-9f02-b66b3eef4b2e"
      },
      "execution_count": 27,
      "outputs": [
        {
          "output_type": "stream",
          "name": "stdout",
          "text": [
            "17. Model Coefficients:\n",
            "feature1: 0.4625\n",
            "feature2: -0.8445\n"
          ]
        }
      ]
    },
    {
      "cell_type": "code",
      "source": [
        "# 18. Compare Performance on Different Datasets\n",
        "# Load the iris dataset\n",
        "iris = load_iris()\n",
        "\n",
        "if os.path.exists(\"titanic.csv\"):\n",
        "    titanic_df = pd.read_csv(\"titanic.csv\")\n",
        "\n",
        "    imputer = SimpleImputer(strategy='mean')\n",
        "    titanic_df.iloc[:, :-1] = imputer.fit_transform(titanic_df.iloc[:, :-1])\n",
        "\n",
        "    titanic_X, titanic_y = titanic_df.iloc[:, :-1], titanic_df.iloc[:, -1]\n",
        "\n",
        "    datasets = {\"Iris\": (iris.data, iris.target), \"Titanic\": (titanic_X, titanic_y)}\n",
        "\n",
        "\n",
        "else:\n",
        "    print(\"Warning: titanic.csv not found. Using only iris dataset\")\n",
        "    datasets = {\"Iris\": (iris.data, iris.target)}\n",
        "\n",
        "\n",
        "for name, (X, y) in datasets.items():\n",
        "    X_train, X_test, y_train, y_test = train_test_split(X, y, test_size=0.2, random_state=42)\n",
        "    model = LogisticRegression(max_iter = 200)\n",
        "    model.fit(X_train, y_train)\n",
        "    print(f\"{name} Dataset Accuracy:\", model.score(X_test, y_test))"
      ],
      "metadata": {
        "colab": {
          "base_uri": "https://localhost:8080/"
        },
        "id": "9UghFyZxT5ea",
        "outputId": "37087e77-0b20-40c9-bfdc-d41aa59661ad"
      },
      "execution_count": 59,
      "outputs": [
        {
          "output_type": "stream",
          "name": "stdout",
          "text": [
            "Warning: titanic.csv not found. Using only iris dataset\n",
            "Iris Dataset Accuracy: 1.0\n"
          ]
        }
      ]
    },
    {
      "cell_type": "code",
      "source": [
        "# 19. Perform Outlier Detection and Remove Outliers\n",
        "from scipy.stats import zscore\n",
        "\n",
        "z_scores = np.abs(zscore(X))\n",
        "X_cleaned = X[(z_scores < 3).all(axis=1)]\n",
        "y_cleaned = y[(z_scores < 3).all(axis=1)]\n",
        "\n",
        "X_train, X_test, y_train, y_test = train_test_split(X_cleaned, y_cleaned, test_size=0.2, random_state=42)\n",
        "model.fit(X_train, y_train)\n",
        "print(\"Accuracy after Outlier Removal:\", model.score(X_test, y_test))"
      ],
      "metadata": {
        "colab": {
          "base_uri": "https://localhost:8080/"
        },
        "id": "PUt6oH9WT8YO",
        "outputId": "98ceb0c9-3150-4871-c1cd-1c310f1497c8"
      },
      "execution_count": 55,
      "outputs": [
        {
          "output_type": "stream",
          "name": "stdout",
          "text": [
            "Accuracy after Outlier Removal: 0.9\n"
          ]
        }
      ]
    },
    {
      "cell_type": "code",
      "source": [
        "# 20. Implement Matthews Correlation Coefficient (MCC) and Cohen’s Kappa Score\n",
        "y_pred = model.predict(X_test)\n",
        "mcc = matthews_corrcoef(y_test, y_pred)\n",
        "kappa = cohen_kappa_score(y_test, y_pred)\n",
        "print(\"Matthews Correlation Coefficient:\", mcc)\n",
        "print(\"Cohen's Kappa Score:\", kappa)"
      ],
      "metadata": {
        "colab": {
          "base_uri": "https://localhost:8080/"
        },
        "id": "Nw4C2G7cUPxd",
        "outputId": "b909c4b5-74e5-4de2-9ce9-83d134af433d"
      },
      "execution_count": 60,
      "outputs": [
        {
          "output_type": "stream",
          "name": "stdout",
          "text": [
            "Matthews Correlation Coefficient: 1.0\n",
            "Cohen's Kappa Score: 1.0\n"
          ]
        }
      ]
    },
    {
      "cell_type": "code",
      "source": [
        "# 21. Implement Precision-Recall Curve\n",
        "from sklearn.metrics import precision_recall_curve\n",
        "import matplotlib.pyplot as plt\n",
        "import numpy as np\n",
        "\n",
        "from scipy.stats import zscore\n",
        "from sklearn.model_selection import train_test_split\n",
        "from sklearn.linear_model import LogisticRegression\n",
        "from sklearn.datasets import load_iris\n",
        "\n",
        "\n",
        "data = load_iris()\n",
        "X, y = data.data, data.target\n",
        "\n",
        "z_scores = np.abs(zscore(X))\n",
        "X_cleaned = X[(z_scores < 3).all(axis=1)]\n",
        "y_cleaned = y[(z_scores < 3).all(axis=1)]\n",
        "\n",
        "X_train, X_test, y_train, y_test = train_test_split(X_cleaned, y_cleaned, test_size=0.2, random_state=42)\n",
        "model = LogisticRegression(max_iter = 200)\n",
        "model.fit(X_train, y_train)\n",
        "\n",
        "y_prob = model.predict_proba(X_test)\n",
        "\n",
        "n_classes = len(np.unique(y_test))\n",
        "precision = {}\n",
        "recall = {}\n",
        "f1_scores = []\n",
        "\n",
        "for i in range(n_classes):\n",
        "    precision[i], recall[i], _ = precision_recall_curve(y_test == i, y_prob[:, i])\n",
        "    f1_scores.append((2 * (precision[i] * recall[i]) / (precision[i] + recall[i])).mean())\n",
        "\n",
        "plt.figure()\n",
        "colors = ['blue', 'green', 'red']\n",
        "for i in range(n_classes):\n",
        "    plt.plot(recall[i], precision[i], marker='.', color=colors[i], label=f\"Class {i}\")\n",
        "plt.xlabel('Recall')\n",
        "plt.ylabel('Precision')\n",
        "plt.title('Precision-Recall Curve')\n",
        "plt.legend()\n",
        "plt.show()\n",
        "\n",
        "print(\"Average F1 Score:\", np.mean(f1_scores))"
      ],
      "metadata": {
        "colab": {
          "base_uri": "https://localhost:8080/",
          "height": 489
        },
        "id": "EwKW-imGURtZ",
        "outputId": "f8ff14de-3971-4363-bcb3-cd618c7eb28c"
      },
      "execution_count": 61,
      "outputs": [
        {
          "output_type": "display_data",
          "data": {
            "text/plain": [
              "<Figure size 640x480 with 1 Axes>"
            ],
            "image/png": "[encoded data removed]"
          },
          "metadata": {}
        },
        {
          "output_type": "stream",
          "name": "stdout",
          "text": [
            "Average F1 Score: 0.6516989551586753\n"
          ]
        }
      ]
    },
    {
      "cell_type": "code",
      "source": [
        "# 22. Save and Load Model using Joblib\n",
        "joblib.dump(model, \"logistic_regression_model.pkl\")\n",
        "loaded_model = joblib.load(\"logistic_regression_model.pkl\")\n",
        "print(\"Loaded Model Accuracy:\", loaded_model.score(X_test, y_test))"
      ],
      "metadata": {
        "colab": {
          "base_uri": "https://localhost:8080/"
        },
        "id": "0Z_S_xrMUWRj",
        "outputId": "edbaa0b3-fb3d-4714-80d8-957ea48d3f86"
      },
      "execution_count": 54,
      "outputs": [
        {
          "output_type": "stream",
          "name": "stdout",
          "text": [
            "Loaded Model Accuracy: 0.9\n"
          ]
        }
      ]
    },
    {
      "cell_type": "code",
      "source": [
        "from sklearn.preprocessing import PolynomialFeatures, StandardScaler\n",
        "from sklearn.linear_model import LogisticRegression\n",
        "from sklearn.pipeline import Pipeline\n",
        "from sklearn.model_selection import train_test_split\n",
        "from sklearn.metrics import accuracy_score\n",
        "\n",
        "# Splitting data\n",
        "X_train, X_test, y_train, y_test = train_test_split(X, y, test_size=0.2, random_state=42)\n",
        "\n",
        "# 23. Polynomial Features + Logistic Regression\n",
        "poly_pipeline = Pipeline([\n",
        "    (\"poly\", PolynomialFeatures(degree=2)),\n",
        "    (\"scaler\", StandardScaler()),\n",
        "    (\"log_reg\", LogisticRegression(solver='lbfgs', max_iter=5000))\n",
        "])\n",
        "\n",
        "poly_pipeline.fit(X_train, y_train)\n",
        "poly_pred = poly_pipeline.predict(X_test)\n",
        "poly_acc = accuracy_score(y_test, poly_pred)\n",
        "\n",
        "print(\"Polynomial Features Accuracy:\", round(poly_acc, 2))\n"
      ],
      "metadata": {
        "colab": {
          "base_uri": "https://localhost:8080/"
        },
        "id": "-CxQZbftU2MN",
        "outputId": "171f431b-10b3-4bbd-c457-f85d6ef97166"
      },
      "execution_count": 51,
      "outputs": [
        {
          "output_type": "stream",
          "name": "stdout",
          "text": [
            "Polynomial Features Accuracy: 1.0\n"
          ]
        }
      ]
    },
    {
      "cell_type": "code",
      "source": [
        "# 24. Implement Recursive Feature Elimination (RFE)\n",
        "from sklearn.feature_selection import RFE\n",
        "from sklearn.datasets import load_iris\n",
        "from sklearn.model_selection import train_test_split\n",
        "from sklearn.linear_model import LogisticRegression\n",
        "import numpy as np\n",
        "\n",
        "data = load_iris()\n",
        "X, y = data.data, data.target\n",
        "\n",
        "X_train, X_test, y_train, y_test = train_test_split(X, y, test_size=0.2, random_state=42)\n",
        "\n",
        "model = LogisticRegression(max_iter=200)\n",
        "model.fit(X_train, y_train)\n",
        "\n",
        "selector = RFE(model, n_features_to_select=2, step=1)\n",
        "selector.fit(X_train, y_train)\n",
        "selected_features = np.array(data.feature_names)[selector.support_] #Use the feature names from the iris data instead of the df\n",
        "print(\"Selected Features:\", selected_features)"
      ],
      "metadata": {
        "colab": {
          "base_uri": "https://localhost:8080/"
        },
        "id": "v-ED_iXbU4r4",
        "outputId": "69cc5ce9-c66f-4b87-91f4-09f6b5eefb52"
      },
      "execution_count": 50,
      "outputs": [
        {
          "output_type": "stream",
          "name": "stdout",
          "text": [
            "Selected Features: ['petal length (cm)' 'petal width (cm)']\n"
          ]
        }
      ]
    },
    {
      "cell_type": "code",
      "source": [
        "# 25. Implement Logistic Regression using SGD (Stochastic Gradient Descent)\n",
        "from sklearn.linear_model import SGDClassifier\n",
        "\n",
        "sgd_model = SGDClassifier(loss=\"log_loss\", max_iter=1000, tol=1e-3)\n",
        "sgd_model.fit(X_train, y_train)\n",
        "print(\"SGD Classifier Accuracy:\", sgd_model.score(X_test, y_test))"
      ],
      "metadata": {
        "colab": {
          "base_uri": "https://localhost:8080/"
        },
        "id": "byyajw3uU7ny",
        "outputId": "fe52aad4-70ea-46d7-f53b-95792225be66"
      },
      "execution_count": 49,
      "outputs": [
        {
          "output_type": "stream",
          "name": "stdout",
          "text": [
            "SGD Classifier Accuracy: 0.5333333333333333\n"
          ]
        }
      ]
    },
    {
      "cell_type": "code",
      "source": [],
      "metadata": {
        "id": "b_WuQ82FVGT8"
      },
      "execution_count": null,
      "outputs": []
    }
  ]
}