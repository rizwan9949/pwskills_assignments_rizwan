{
  "nbformat": 4,
  "nbformat_minor": 0,
  "metadata": {
    "colab": {
      "provenance": []
    },
    "kernelspec": {
      "name": "python3",
      "display_name": "Python 3"
    },
    "language_info": {
      "name": "python"
    }
  },
  "cells": [
    {
      "cell_type": "markdown",
      "source": [
        "**Theory Questions & Answers**"
      ],
      "metadata": {
        "id": "aVT7J2KLdZqL"
      }
    },
    {
      "cell_type": "markdown",
      "source": [
        "1. What is Logistic Regression, and how does it differ from Linear Regression?\n",
        "   - Logistic Regression is a classification algorithm used to predict categorical outcomes (binary or multiclass).\n",
        "     It models the probability of an event occurring using the sigmoid function.\n",
        "   - Linear Regression predicts continuous numerical values and assumes a linear relationship between input features and the target variable.\n",
        "\n",
        "2. What is the mathematical equation of Logistic Regression?\n",
        "   - P(y=1 | X) = 1 / (1 + e^(-z)), where z = w1*x1 + w2*x2 + ... + b\n",
        "\n",
        "3. Why do we use the Sigmoid function in Logistic Regression?\n",
        "   - The sigmoid function maps any real-valued number into the range [0, 1], which allows us to interpret the output as a probability.\n",
        "\n",
        "4. What is the cost function of Logistic Regression?\n",
        "   - The cost function is the log loss (or binary cross-entropy):\n",
        "     J(w) = -1/m * Σ [y*log(ŷ) + (1-y)*log(1-ŷ)]\n",
        "\n",
        "5. What is Regularization in Logistic Regression? Why is it needed?\n",
        "   - Regularization adds a penalty term to the cost function to prevent overfitting. It helps reduce model complexity by shrinking coefficients.\n",
        "\n",
        "6. Explain the difference between Lasso, Ridge, and Elastic Net regression.\n",
        "   - Lasso (L1): Adds absolute value of coefficients as penalty. Can shrink some coefficients to zero (feature selection).\n",
        "   - Ridge (L2): Adds squared magnitude of coefficients as penalty. Shrinks coefficients but doesn't make them zero.\n",
        "   - Elastic Net: Combines both L1 and L2 penalties.\n",
        "\n",
        "7. When should we use Elastic Net instead of Lasso or Ridge?\n",
        "   - Use Elastic Net when there are multiple correlated features, as it combines the benefits of both L1 and L2 regularization.\n",
        "\n",
        "8. What is the impact of the regularization parameter (λ) in Logistic Regression?\n",
        "   - Higher λ increases regularization strength, shrinking coefficients more aggressively. Lower λ reduces regularization, allowing the model to fit the data more closely.\n",
        "\n",
        "9. What are the key assumptions of Logistic Regression?\n",
        "   - Binary or multiclass target variable.\n",
        "   - No multicollinearity among features.\n",
        "   - Linear relationship between log-odds and independent variables.\n",
        "\n",
        "10. What are some alternatives to Logistic Regression for classification tasks?\n",
        "    - Alternatives include Decision Trees, Random Forests, Support Vector Machines (SVM), K-Nearest Neighbors (KNN), and Neural Networks.\n",
        "\n",
        "11. What are Classification Evaluation Metrics?\n",
        "    - Metrics include Accuracy, Precision, Recall, F1-Score, ROC-AUC, and Confusion Matrix.\n",
        "\n",
        "12. How does class imbalance affect Logistic Regression?\n",
        "    - Class imbalance can lead to biased predictions favoring the majority class. Techniques like class weighting or resampling can help.\n",
        "\n",
        "13. What is Hyperparameter Tuning in Logistic Regression?\n",
        "    - Hyperparameter tuning involves optimizing parameters like C (regularization strength) and penalty type (L1/L2) to improve model performance.\n",
        "\n",
        "14. What are different solvers in Logistic Regression? Which one should be used?\n",
        "    - Solvers include 'liblinear', 'lbfgs', 'saga', etc. 'liblinear' is good for small datasets, while 'saga' supports elastic net.\n",
        "\n",
        "15. How is Logistic Regression extended for multiclass classification?\n",
        "    - Using One-vs-Rest (OvR) or Softmax (multinomial) approaches.\n",
        "\n",
        "16. What are the advantages and disadvantages of Logistic Regression?\n",
        "    - Advantages: Simple, interpretable, works well with linearly separable data.\n",
        "    - Disadvantages: Assumes linearity, struggles with complex relationships.\n",
        "\n",
        "17. What are some use cases of Logistic Regression?\n",
        "    - Spam detection, credit scoring, medical diagnosis, etc.\n",
        "\n",
        "18. What is the difference between Softmax Regression and Logistic Regression?\n",
        "    - Logistic Regression is for binary classification, while Softmax extends it to multiclass classification.\n",
        "\n",
        "19. How do we choose between One-vs-Rest (OvR) and Softmax for multiclass classification?\n",
        "    - OvR trains separate classifiers for each class, while Softmax trains a single classifier. Choose based on dataset size and complexity.\n",
        "\n",
        "20. How do we interpret coefficients in Logistic Regression?\n",
        "    - Coefficients indicate the change in log-odds of the outcome for a unit change in the feature."
      ],
      "metadata": {
        "id": "rLCnqXuGZ0bV"
      }
    },
    {
      "cell_type": "markdown",
      "source": [
        "**Practical Questions & Answers**"
      ],
      "metadata": {
        "id": "4nwJfcgsi2or"
      }
    },
    {
      "cell_type": "code",
      "source": [
        "import numpy as np\n",
        "import pandas as pd\n",
        "from sklearn.model_selection import train_test_split, GridSearchCV, StratifiedKFold, RandomizedSearchCV\n",
        "from sklearn.linear_model import LogisticRegression\n",
        "from sklearn.metrics import accuracy_score, confusion_matrix, classification_report, roc_auc_score, precision_recall_curve, PrecisionRecallDisplay\n",
        "from sklearn.preprocessing import StandardScaler\n",
        "from sklearn.datasets import load_breast_cancer, load_iris\n",
        "import matplotlib.pyplot as plt\n",
        "import joblib"
      ],
      "metadata": {
        "id": "3XUNTno6l45Y"
      },
      "execution_count": 87,
      "outputs": []
    },
    {
      "cell_type": "code",
      "source": [
        "# 1. Write a Python program that loads a dataset, splits it into training and testing sets, applies Logistic Regression, and prints the model accuracy\n",
        "data = load_breast_cancer()\n",
        "X, y = data.data, data.target\n",
        "X_train, X_test, y_train, y_test = train_test_split(X, y, test_size=0.2, random_state=42)\n",
        "\n",
        "model = LogisticRegression(max_iter=10000)\n",
        "model.fit(X_train, y_train)\n",
        "y_pred = model.predict(X_test)\n",
        "print(f\"Logistic Regression Accuracy: {accuracy_score(y_test, y_pred):.2f}\")"
      ],
      "metadata": {
        "colab": {
          "base_uri": "https://localhost:8080/"
        },
        "id": "uAB2_ZG-nCws",
        "outputId": "95ecf9a1-0bf4-4206-9901-3bec7cbac314"
      },
      "execution_count": 55,
      "outputs": [
        {
          "output_type": "stream",
          "name": "stdout",
          "text": [
            "Logistic Regression Accuracy: 0.96\n"
          ]
        }
      ]
    },
    {
      "cell_type": "code",
      "source": [
        "# 2. Write a Python program to apply L1 regularization (Lasso) on a dataset using LogisticRegression(penalty='l1') and print the model accuracy\n",
        "lasso_model = LogisticRegression(penalty='l1', solver='liblinear', max_iter=10000)\n",
        "lasso_model.fit(X_train, y_train)\n",
        "y_pred_lasso = lasso_model.predict(X_test)\n",
        "print(f\"L1 Regularization (Lasso) Accuracy: {accuracy_score(y_test, y_pred_lasso):.2f}\")"
      ],
      "metadata": {
        "colab": {
          "base_uri": "https://localhost:8080/"
        },
        "id": "Kogu4TMTnFzl",
        "outputId": "41524bdd-763e-4804-d3b0-75d70492dd5b"
      },
      "execution_count": 56,
      "outputs": [
        {
          "output_type": "stream",
          "name": "stdout",
          "text": [
            "L1 Regularization (Lasso) Accuracy: 0.96\n"
          ]
        }
      ]
    },
    {
      "cell_type": "code",
      "source": [
        "# 3. Write a Python program to train Logistic Regression with L2 regularization (Ridge) using LogisticRegression(penalty='l2'). Print model accuracy and coefficients\n",
        "ridge_model = LogisticRegression(penalty='l2', max_iter=10000)\n",
        "ridge_model.fit(X_train, y_train)\n",
        "y_pred_ridge = ridge_model.predict(X_test)\n",
        "print(f\"L2 Regularization (Ridge) Accuracy: {accuracy_score(y_test, y_pred_ridge):.2f}\")\n",
        "print(\"Coefficients:\", ridge_model.coef_)"
      ],
      "metadata": {
        "colab": {
          "base_uri": "https://localhost:8080/"
        },
        "id": "evDFA1sinLAO",
        "outputId": "6dde0542-c918-45ce-d020-6eab901c0ff6"
      },
      "execution_count": 57,
      "outputs": [
        {
          "output_type": "stream",
          "name": "stdout",
          "text": [
            "L2 Regularization (Ridge) Accuracy: 0.96\n",
            "Coefficients: [[ 0.98060078  0.22681812 -0.36807616  0.02627772 -0.1521029  -0.23288815\n",
            "  -0.51821369 -0.27135831 -0.22223997 -0.0370472  -0.09364186  1.40092214\n",
            "  -0.16140779 -0.08952574 -0.021555    0.04162094 -0.04789659 -0.03125384\n",
            "  -0.03432778  0.01071906  0.09718192 -0.51589261 -0.01691194 -0.01652987\n",
            "  -0.30021135 -0.77298739 -1.41292275 -0.49327465 -0.72966298 -0.10215442]]\n"
          ]
        }
      ]
    },
    {
      "cell_type": "code",
      "source": [
        "# 4. Write a Python program to train Logistic Regression with Elastic Net Regularization (penalty='elasticnet')\n",
        "elastic_net_model = LogisticRegression(penalty='elasticnet', solver='saga', l1_ratio=0.5, max_iter=10000)\n",
        "elastic_net_model.fit(X_train, y_train)\n",
        "y_pred_elastic = elastic_net_model.predict(X_test)\n",
        "print(f\"Elastic Net Regularization Accuracy: {accuracy_score(y_test, y_pred_elastic):.2f}\")"
      ],
      "metadata": {
        "colab": {
          "base_uri": "https://localhost:8080/"
        },
        "id": "VJuXgYXvnN-V",
        "outputId": "2bea9e38-bd23-4a87-da52-c1827227aac0"
      },
      "execution_count": 59,
      "outputs": [
        {
          "output_type": "stream",
          "name": "stdout",
          "text": [
            "Elastic Net Regularization Accuracy: 0.97\n"
          ]
        }
      ]
    },
    {
      "cell_type": "code",
      "source": [
        "# 5. Write a Python program to train a Logistic Regression model for multiclass classification using multi_class='ovr'\n",
        "data = load_breast_cancer()\n",
        "X, y = data.data, data.target\n",
        "X_train, X_test, y_train, y_test = train_test_split(X, y, test_size=0.2, random_state=42)\n",
        "\n",
        "ovr_model = OneVsRestClassifier(LogisticRegression(max_iter=10000))\n",
        "ovr_model.fit(X_train, y_train)\n",
        "y_pred_ovr = ovr_model.predict(X_test)\n",
        "print(f\"Multiclass OvR Accuracy: {accuracy_score(y_test, y_pred_ovr):.2f}\")"
      ],
      "metadata": {
        "colab": {
          "base_uri": "https://localhost:8080/"
        },
        "id": "oRmKQbvCnRGB",
        "outputId": "6e6b567e-f008-4cd4-de61-7965d6e58d13"
      },
      "execution_count": 88,
      "outputs": [
        {
          "output_type": "stream",
          "name": "stdout",
          "text": [
            "Multiclass OvR Accuracy: 0.96\n"
          ]
        }
      ]
    },
    {
      "cell_type": "code",
      "source": [
        "# 6. Write a Python program to apply GridSearchCV to tune the hyperparameters (C and penalty) of Logistic Regression. Print the best parameters and accuracy\n",
        "param_grid = {'C': [0.1, 1, 10], 'penalty': ['l1', 'l2']}\n",
        "grid_search = GridSearchCV(LogisticRegression(solver='liblinear', max_iter=10000), param_grid, cv=5)\n",
        "grid_search.fit(X_train, y_train)\n",
        "print(f\"Best Parameters: {grid_search.best_params_}\")\n",
        "print(f\"GridSearchCV Best Accuracy: {grid_search.best_score_:.2f}\")"
      ],
      "metadata": {
        "colab": {
          "base_uri": "https://localhost:8080/"
        },
        "id": "vXtAW9EhnaB8",
        "outputId": "a25bb6c2-5f50-4821-8caa-bfd5978a667d"
      },
      "execution_count": 61,
      "outputs": [
        {
          "output_type": "stream",
          "name": "stdout",
          "text": [
            "Best Parameters: {'C': 10, 'penalty': 'l2'}\n",
            "GridSearchCV Best Accuracy: 0.96\n"
          ]
        }
      ]
    },
    {
      "cell_type": "code",
      "source": [
        "# 7. Write a Python program to evaluate Logistic Regression using Stratified K-Fold Cross-Validation. Print the average accuracy\n",
        "skf = StratifiedKFold(n_splits=5, shuffle=True, random_state=42)\n",
        "scores = []\n",
        "for train_idx, test_idx in skf.split(X, y):\n",
        "    X_train_cv, X_test_cv = X[train_idx], X[test_idx]\n",
        "    y_train_cv, y_test_cv = y[train_idx], y[test_idx]\n",
        "    model_cv = LogisticRegression(max_iter=10000)\n",
        "    model_cv.fit(X_train_cv, y_train_cv)\n",
        "    scores.append(accuracy_score(y_test_cv, model_cv.predict(X_test_cv)))\n",
        "print(f\"Stratified K-Fold Average Accuracy: {np.mean(scores):.2f}\")"
      ],
      "metadata": {
        "colab": {
          "base_uri": "https://localhost:8080/"
        },
        "id": "CWDgHAbwnctB",
        "outputId": "d2e29e6c-7da7-4b45-8d6b-14feb5bf7913"
      },
      "execution_count": 62,
      "outputs": [
        {
          "output_type": "stream",
          "name": "stdout",
          "text": [
            "Stratified K-Fold Average Accuracy: 0.95\n"
          ]
        }
      ]
    },
    {
      "cell_type": "code",
      "source": [
        "# 8. Write a Python program to load a dataset from a CSV file, apply Logistic Regression, and evaluate its accuracy.\n",
        "# Example: Load Iris dataset\n",
        "iris_data = load_iris()\n",
        "X_iris, y_iris = iris_data.data, iris_data.target\n",
        "X_train_iris, X_test_iris, y_train_iris, y_test_iris = train_test_split(X_iris, y_iris, test_size=0.2, random_state=42)\n",
        "\n",
        "model_iris = LogisticRegression(max_iter=10000)\n",
        "model_iris.fit(X_train_iris, y_train_iris)\n",
        "y_pred_iris = model_iris.predict(X_test_iris)\n",
        "print(f\"Iris Dataset Accuracy: {accuracy_score(y_test_iris, y_pred_iris):.2f}\")"
      ],
      "metadata": {
        "colab": {
          "base_uri": "https://localhost:8080/"
        },
        "id": "eJRxVYupnhU-",
        "outputId": "ee1df12e-871c-4bb8-e743-bde21496fed6"
      },
      "execution_count": 63,
      "outputs": [
        {
          "output_type": "stream",
          "name": "stdout",
          "text": [
            "Iris Dataset Accuracy: 1.00\n"
          ]
        }
      ]
    },
    {
      "cell_type": "code",
      "source": [
        "# 9. Write a Python program to apply RandomizedSearchCV for tuning hyperparameters (C, penalty, solver) in Logistic Regression. Print the best parameters and accuracy\n",
        "param_dist = {'C': [0.1, 1, 10], 'penalty': ['l1', 'l2'], 'solver': ['liblinear', 'saga']}\n",
        "random_search = RandomizedSearchCV(LogisticRegression(max_iter=10000), param_distributions=param_dist, n_iter=5, cv=5)\n",
        "random_search.fit(X_train, y_train)\n",
        "print(f\"RandomizedSearchCV Best Parameters: {random_search.best_params_}\")\n",
        "print(f\"RandomizedSearchCV Best Accuracy: {random_search.best_score_:.2f}\")"
      ],
      "metadata": {
        "colab": {
          "base_uri": "https://localhost:8080/"
        },
        "id": "DpzbRQ-3ntyS",
        "outputId": "c6a37ac0-d70f-4a50-d269-d7165944c42c"
      },
      "execution_count": 64,
      "outputs": [
        {
          "output_type": "stream",
          "name": "stdout",
          "text": [
            "RandomizedSearchCV Best Parameters: {'solver': 'liblinear', 'penalty': 'l2', 'C': 10}\n",
            "RandomizedSearchCV Best Accuracy: 0.96\n"
          ]
        }
      ]
    },
    {
      "cell_type": "code",
      "source": [
        "# 10. Write a Python program to implement One-vs-One (OvO) Multiclass Logistic Regression and print accuracy\n",
        "ovo_model = OneVsOneClassifier(LogisticRegression(max_iter=10000))\n",
        "ovo_model.fit(X_train, y_train)\n",
        "y_pred_ovo = ovo_model.predict(X_test)\n",
        "print(f\"One-vs-One Multiclass Accuracy: {accuracy_score(y_test, y_pred_ovo):.2f}\")"
      ],
      "metadata": {
        "colab": {
          "base_uri": "https://localhost:8080/"
        },
        "id": "HCaxjxJUnwUR",
        "outputId": "95c7207c-9094-4d56-e3ba-d1c5334542df"
      },
      "execution_count": 84,
      "outputs": [
        {
          "output_type": "stream",
          "name": "stdout",
          "text": [
            "One-vs-One Multiclass Accuracy: 0.96\n"
          ]
        }
      ]
    },
    {
      "cell_type": "code",
      "source": [
        "# 11. Write a Python program to train a Logistic Regression model and visualize the confusion matrix for binary classification\n",
        "conf_matrix = confusion_matrix(y_test, y_pred)\n",
        "plt.figure(figsize=(6, 4))\n",
        "plt.title(\"Confusion Matrix\")\n",
        "plt.imshow(conf_matrix, cmap='Blues')\n",
        "plt.colorbar()\n",
        "plt.show()"
      ],
      "metadata": {
        "colab": {
          "base_uri": "https://localhost:8080/",
          "height": 391
        },
        "id": "LxN95YTqnyVi",
        "outputId": "180d8d2a-60c1-4fb4-a35c-5148ff38291b"
      },
      "execution_count": 66,
      "outputs": [
        {
          "output_type": "display_data",
          "data": {
            "text/plain": [
              "<Figure size 600x400 with 2 Axes>"
            ],
            "image/png": "[encoded data removed]"
          },
          "metadata": {}
        }
      ]
    },
    {
      "cell_type": "code",
      "source": [
        "# 12. Write a Python program to train a Logistic Regression model and evaluate its performance using Precision, Recall, and F1-Score\n",
        "print(classification_report(y_test, y_pred))"
      ],
      "metadata": {
        "colab": {
          "base_uri": "https://localhost:8080/"
        },
        "id": "XYA0ojkln0N4",
        "outputId": "9a6743a4-011d-4be8-b442-f91671a4e317"
      },
      "execution_count": 67,
      "outputs": [
        {
          "output_type": "stream",
          "name": "stdout",
          "text": [
            "              precision    recall  f1-score   support\n",
            "\n",
            "           0       0.97      0.91      0.94        43\n",
            "           1       0.95      0.99      0.97        71\n",
            "\n",
            "    accuracy                           0.96       114\n",
            "   macro avg       0.96      0.95      0.95       114\n",
            "weighted avg       0.96      0.96      0.96       114\n",
            "\n"
          ]
        }
      ]
    },
    {
      "cell_type": "code",
      "source": [
        "# 13. Write a Python program to train a Logistic Regression model on imbalanced data and apply class weights to improve model performance\n",
        "imbalanced_model = LogisticRegression(class_weight='balanced', max_iter=10000)\n",
        "imbalanced_model.fit(X_train, y_train)\n",
        "y_pred_imbalanced = imbalanced_model.predict(X_test)\n",
        "print(f\"Imbalanced Data Accuracy: {accuracy_score(y_test, y_pred_imbalanced):.2f}\")"
      ],
      "metadata": {
        "colab": {
          "base_uri": "https://localhost:8080/"
        },
        "id": "xwgrz-i4n3rr",
        "outputId": "25eb0ce3-091c-4e61-99d3-0022b0ab7830"
      },
      "execution_count": 68,
      "outputs": [
        {
          "output_type": "stream",
          "name": "stdout",
          "text": [
            "Imbalanced Data Accuracy: 0.97\n"
          ]
        }
      ]
    },
    {
      "cell_type": "code",
      "source": [
        "# 14. Write a Python program to train Logistic Regression on the Titanic dataset, handle missing values, and evaluate performance\n",
        "# Load Titanic dataset\n",
        "url = \"https://raw.githubusercontent.com/datasciencedojo/datasets/master/titanic.csv\"\n",
        "df_titanic = pd.read_csv(url)\n",
        "\n",
        "# Handle missing values\n",
        "df_titanic.dropna(subset=['Age', 'Fare', 'Embarked'], inplace=True)\n",
        "df_titanic['Sex'] = df_titanic['Sex'].map({'male': 0, 'female': 1})\n",
        "df_titanic['Embarked'] = df_titanic['Embarked'].map({'S': 0, 'C': 1, 'Q': 2})\n",
        "\n",
        "X_titanic = df_titanic[['Pclass', 'Sex', 'Age', 'SibSp', 'Parch', 'Fare', 'Embarked']]\n",
        "y_titanic = df_titanic['Survived']\n",
        "\n",
        "X_train_titanic, X_test_titanic, y_train_titanic, y_test_titanic = train_test_split(X_titanic, y_titanic, test_size=0.2, random_state=42)\n",
        "\n",
        "titanic_model = LogisticRegression(max_iter=10000)\n",
        "titanic_model.fit(X_train_titanic, y_train_titanic)\n",
        "y_pred_titanic = titanic_model.predict(X_test_titanic)\n",
        "print(f\"Titanic Dataset Accuracy: {accuracy_score(y_test_titanic, y_pred_titanic):.2f}\")"
      ],
      "metadata": {
        "colab": {
          "base_uri": "https://localhost:8080/"
        },
        "id": "_4n4I-jjn54F",
        "outputId": "4556c94a-402c-46f4-8167-52e8cb84deec"
      },
      "execution_count": 70,
      "outputs": [
        {
          "output_type": "stream",
          "name": "stdout",
          "text": [
            "Titanic Dataset Accuracy: 0.80\n"
          ]
        }
      ]
    },
    {
      "cell_type": "code",
      "source": [
        "# 15. Write a Python program to apply feature scaling (Standardization) before training a Logistic Regression model. Evaluate its accuracy and compare results with and without scaling\n",
        "scaler = StandardScaler()\n",
        "X_scaled = scaler.fit_transform(X)\n",
        "X_train_scaled, X_test_scaled, y_train_scaled, y_test_scaled = train_test_split(X_scaled, y, test_size=0.2, random_state=42)\n",
        "\n",
        "model_scaled = LogisticRegression(max_iter=10000)\n",
        "model_scaled.fit(X_train_scaled, y_train_scaled)\n",
        "y_pred_scaled = model_scaled.predict(X_test_scaled)\n",
        "print(f\"Scaled Data Accuracy: {accuracy_score(y_test_scaled, y_pred_scaled):.2f}\")\n",
        "print(f\"Raw Data Accuracy: {accuracy_score(y_test, y_pred):.2f}\")"
      ],
      "metadata": {
        "colab": {
          "base_uri": "https://localhost:8080/"
        },
        "id": "MXN5-aKEn7oC",
        "outputId": "e491425d-c003-4e45-98d6-e0d59ae9595a"
      },
      "execution_count": 72,
      "outputs": [
        {
          "output_type": "stream",
          "name": "stdout",
          "text": [
            "Scaled Data Accuracy: 0.97\n",
            "Raw Data Accuracy: 0.96\n"
          ]
        }
      ]
    },
    {
      "cell_type": "code",
      "source": [
        "# 16. Write a Python program to train Logistic Regression and evaluate its performance using ROC-AUC score\n",
        "roc_auc = roc_auc_score(y_test, model.predict_proba(X_test)[:, 1])\n",
        "print(f\"ROC-AUC Score: {roc_auc:.2f}\")"
      ],
      "metadata": {
        "colab": {
          "base_uri": "https://localhost:8080/"
        },
        "id": "Xl_6oSwgoEmX",
        "outputId": "4bc39be0-8ecc-4ad7-ef80-ae787234eb9d"
      },
      "execution_count": 73,
      "outputs": [
        {
          "output_type": "stream",
          "name": "stdout",
          "text": [
            "ROC-AUC Score: 1.00\n"
          ]
        }
      ]
    },
    {
      "cell_type": "code",
      "source": [
        "# 17. Write a Python program to train Logistic Regression using a custom learning rate (C=0.5) and evaluate accuracy\n",
        "custom_lr_model = LogisticRegression(C=0.5, max_iter=10000)\n",
        "custom_lr_model.fit(X_train, y_train)\n",
        "y_pred_custom_lr = custom_lr_model.predict(X_test)\n",
        "print(f\"Custom Learning Rate Accuracy: {accuracy_score(y_test, y_pred_custom_lr):.2f}\")"
      ],
      "metadata": {
        "colab": {
          "base_uri": "https://localhost:8080/"
        },
        "id": "0wKDrVygoKC3",
        "outputId": "89060eb7-7c74-45f8-a366-7436aed04474"
      },
      "execution_count": 74,
      "outputs": [
        {
          "output_type": "stream",
          "name": "stdout",
          "text": [
            "Custom Learning Rate Accuracy: 0.96\n"
          ]
        }
      ]
    },
    {
      "cell_type": "code",
      "source": [
        "# 18. Write a Python program to train Logistic Regression and identify important features based on model coefficients\n",
        "print(\"Important Features (Coefficients):\", model.coef_)"
      ],
      "metadata": {
        "colab": {
          "base_uri": "https://localhost:8080/"
        },
        "id": "o3CiC-9OoL0c",
        "outputId": "054f8821-6dbb-4db7-cb40-439c32da13ba"
      },
      "execution_count": 75,
      "outputs": [
        {
          "output_type": "stream",
          "name": "stdout",
          "text": [
            "Important Features (Coefficients): [[ 0.98060078  0.22681812 -0.36807616  0.02627772 -0.1521029  -0.23288815\n",
            "  -0.51821369 -0.27135831 -0.22223997 -0.0370472  -0.09364186  1.40092214\n",
            "  -0.16140779 -0.08952574 -0.021555    0.04162094 -0.04789659 -0.03125384\n",
            "  -0.03432778  0.01071906  0.09718192 -0.51589261 -0.01691194 -0.01652987\n",
            "  -0.30021135 -0.77298739 -1.41292275 -0.49327465 -0.72966298 -0.10215442]]\n"
          ]
        }
      ]
    },
    {
      "cell_type": "code",
      "source": [
        "# 19. Write a Python program to train Logistic Regression and evaluate its performance using Cohen’s Kappa Score\n",
        "from sklearn.metrics import cohen_kappa_score\n",
        "kappa = cohen_kappa_score(y_test, y_pred)\n",
        "print(f\"Cohen's Kappa Score: {kappa:.2f}\")"
      ],
      "metadata": {
        "colab": {
          "base_uri": "https://localhost:8080/"
        },
        "id": "bv1kp5ZWoNoX",
        "outputId": "d6629c06-ed7c-4a17-f279-cd248452f4fe"
      },
      "execution_count": 76,
      "outputs": [
        {
          "output_type": "stream",
          "name": "stdout",
          "text": [
            "Cohen's Kappa Score: 0.91\n"
          ]
        }
      ]
    },
    {
      "cell_type": "code",
      "source": [
        "# 20. Write a Python program to train Logistic Regression and visualize the Precision-Recall Curve for binary classification\n",
        "precision, recall, _ = precision_recall_curve(y_test, model.predict_proba(X_test)[:, 1])\n",
        "disp = PrecisionRecallDisplay(precision=precision, recall=recall)\n",
        "disp.plot()\n",
        "plt.show()"
      ],
      "metadata": {
        "colab": {
          "base_uri": "https://localhost:8080/",
          "height": 451
        },
        "id": "NwBZCAndoPfb",
        "outputId": "449b89e2-afab-430f-9668-6f5f10faa321"
      },
      "execution_count": 77,
      "outputs": [
        {
          "output_type": "display_data",
          "data": {
            "text/plain": [
              "<Figure size 640x480 with 1 Axes>"
            ],
            "image/png": "[encoded data removed]"
          },
          "metadata": {}
        }
      ]
    },
    {
      "cell_type": "code",
      "source": [
        "# 21. Write a Python program to train Logistic Regression with different solvers (liblinear, saga, lbfgs) and compare their accuracy\n",
        "solvers = ['liblinear', 'saga', 'lbfgs']\n",
        "for solver in solvers:\n",
        "    solver_model = LogisticRegression(solver=solver, max_iter=10000)\n",
        "    solver_model.fit(X_train, y_train)\n",
        "    y_pred_solver = solver_model.predict(X_test)\n",
        "    print(f\"Solver: {solver}, Accuracy: {accuracy_score(y_test, y_pred_solver):.2f}\")"
      ],
      "metadata": {
        "colab": {
          "base_uri": "https://localhost:8080/"
        },
        "id": "iPB0Z-TVoRcb",
        "outputId": "cf5b9ef2-0877-4b9a-919a-b1910e6cb0f1"
      },
      "execution_count": 78,
      "outputs": [
        {
          "output_type": "stream",
          "name": "stdout",
          "text": [
            "Solver: liblinear, Accuracy: 0.96\n",
            "Solver: saga, Accuracy: 0.97\n",
            "Solver: lbfgs, Accuracy: 0.96\n"
          ]
        }
      ]
    },
    {
      "cell_type": "code",
      "source": [
        "# 22. Write a Python program to train Logistic Regression and evaluate its performance using Matthews Correlation Coefficient (MCC)\n",
        "from sklearn.metrics import matthews_corrcoef\n",
        "mcc = matthews_corrcoef(y_test, y_pred)\n",
        "print(f\"Matthews Correlation Coefficient: {mcc:.2f}\")"
      ],
      "metadata": {
        "colab": {
          "base_uri": "https://localhost:8080/"
        },
        "id": "PvZtW8HBoTRV",
        "outputId": "c4e240bd-5e52-496f-86f7-893b70c4dbbd"
      },
      "execution_count": 79,
      "outputs": [
        {
          "output_type": "stream",
          "name": "stdout",
          "text": [
            "Matthews Correlation Coefficient: 0.91\n"
          ]
        }
      ]
    },
    {
      "cell_type": "code",
      "source": [
        "# 23. Write a Python program to train Logistic Regression on both raw and standardized data. Compare their accuracy to see the impact of feature scaling\n",
        "raw_model = LogisticRegression(max_iter=10000)\n",
        "raw_model.fit(X_train, y_train)\n",
        "y_pred_raw = raw_model.predict(X_test)\n",
        "print(f\"Raw Data Accuracy: {accuracy_score(y_test, y_pred_raw):.2f}\")\n",
        "print(f\"Scaled Data Accuracy: {accuracy_score(y_test_scaled, y_pred_scaled):.2f}\")"
      ],
      "metadata": {
        "colab": {
          "base_uri": "https://localhost:8080/"
        },
        "id": "E02Z0CdtoVLt",
        "outputId": "fc1d57ae-b619-40b7-99fe-f2f11e5f440d"
      },
      "execution_count": 80,
      "outputs": [
        {
          "output_type": "stream",
          "name": "stdout",
          "text": [
            "Raw Data Accuracy: 0.96\n",
            "Scaled Data Accuracy: 0.97\n"
          ]
        }
      ]
    },
    {
      "cell_type": "code",
      "source": [
        "# 24. Write a Python program to train Logistic Regression and find the optimal C (regularization strength) using cross-validation\n",
        "\n",
        "from sklearn.model_selection import train_test_split, GridSearchCV\n",
        "from sklearn.linear_model import LogisticRegression\n",
        "from sklearn.multiclass import OneVsRestClassifier\n",
        "from sklearn.metrics import accuracy_score\n",
        "from sklearn.datasets import load_breast_cancer\n",
        "import warnings\n",
        "from sklearn.exceptions import ConvergenceWarning\n",
        "\n",
        "warnings.filterwarnings(\"ignore\", category=FutureWarning)\n",
        "warnings.filterwarnings(\"ignore\", category=ConvergenceWarning)\n",
        "\n",
        "data = load_breast_cancer()\n",
        "X, y = data.data, data.target\n",
        "X_train, X_test, y_train, y_test = train_test_split(X, y, test_size=0.2, random_state=42)\n",
        "\n",
        "param_grid_c = {'C': [0.01, 0.1, 1, 10, 100]}\n",
        "grid_search_c = GridSearchCV(LogisticRegression(max_iter=10000), param_grid_c, cv=5)\n",
        "grid_search_c.fit(X_train, y_train)\n",
        "print(f\"Optimal C: {grid_search_c.best_params_['C']}\")\n",
        "print(f\"Optimal C Accuracy: {grid_search_c.best_score_:.2f}\")"
      ],
      "metadata": {
        "colab": {
          "base_uri": "https://localhost:8080/"
        },
        "id": "mz49AMX6oXRm",
        "outputId": "4feadb76-0913-419f-af3d-4be0fd7579ef"
      },
      "execution_count": 100,
      "outputs": [
        {
          "output_type": "stream",
          "name": "stdout",
          "text": [
            "Optimal C: 100\n",
            "Optimal C Accuracy: 0.97\n"
          ]
        }
      ]
    },
    {
      "cell_type": "code",
      "source": [
        "# 25. Write a Python program to train Logistic Regression, save the trained model using joblib, and load it again to make predictions\n",
        "joblib.dump(model, 'logistic_regression_model.joblib')\n",
        "loaded_model = joblib.load('logistic_regression_model.joblib')\n",
        "print(f\"Loaded Model Accuracy: {accuracy_score(y_test, loaded_model.predict(X_test)):.2f}\")"
      ],
      "metadata": {
        "colab": {
          "base_uri": "https://localhost:8080/"
        },
        "id": "i62M1FjqoZOz",
        "outputId": "c84e2cd0-8130-4969-82f1-f4dc21b8d2b9"
      },
      "execution_count": 99,
      "outputs": [
        {
          "output_type": "stream",
          "name": "stdout",
          "text": [
            "Loaded Model Accuracy: 0.96\n"
          ]
        }
      ]
    }
  ]
}