{
  "nbformat": 4,
  "nbformat_minor": 0,
  "metadata": {
    "colab": {
      "provenance": []
    },
    "kernelspec": {
      "name": "python3",
      "display_name": "Python 3"
    },
    "language_info": {
      "name": "python"
    }
  },
  "cells": [
    {
      "cell_type": "markdown",
      "source": [
        "#1. Explain the different types of data (qualitative and quantitative) and provide examples of each. Discuss nominal, ordinal, interval, and ratio scales.\n",
        "\n",
        "  -> **Qualitative Data (Categorical):** Describes characteristics or qualities, not numerical.\n",
        "\n",
        "  **Types:**\n",
        "\n",
        "  1. Nominal: Categories without order. (e.g., Gender: Male, Female; Colors: Red, Blue).\n",
        "\n",
        "  2. Ordinal: Categories with an order but no measurable difference. (e.g., Rankings: Poor, Good, Excellent).\n",
        "\n",
        "-> **Quantitative Data (Numerical):** Represents measurable quantities.\n",
        "\n",
        "**Types:**\n",
        "\n",
        "1. Interval: Numeric data without a true zero. (e.g., Temperature in Celsius: 0°C does not mean \"no heat\").\n",
        "\n",
        "2. Ratio: Numeric data with a true zero. (e.g., Height: 0 cm means \"no height\")."
      ],
      "metadata": {
        "id": "uI-Fzmh7cYhF"
      }
    },
    {
      "cell_type": "markdown",
      "source": [
        "#2.  What are the measures of central tendency, and when should you use each? Discuss the mean, median, and mode with examples and situations where each is appropriate.\n",
        "\n",
        "-> **Mean (Average):** Add all values and divide by the count.\n",
        "\n",
        "    Use: For evenly distributed data (no outliers).\n",
        "\n",
        "    Example: Average age of students in a class.\n",
        "\n",
        "-> **Median (Middle Value):** The middle value when data is sorted.\n",
        "\n",
        "    Use: For skewed data with outliers.\n",
        "\n",
        "    Example: Median house price (ignores extremely high or low values).\n",
        "\n",
        "\n",
        "-> **Mode (Most Frequent):** The value that occurs most often.\n",
        "\n",
        "    Use: For categorical or repeating data.\n",
        "\n",
        "    Example: Most common shoe size sold in a store.\n"
      ],
      "metadata": {
        "id": "3tv9c-SFdAUi"
      }
    },
    {
      "cell_type": "markdown",
      "source": [
        "#3. Explain the concept of dispersion. How do variance and standard deviation measure the spread of data?\n",
        "\n",
        "-> **Concept:** Measures how data is spread out from the center (mean).\n",
        "1. Low dispersion: Values are close to the mean.\n",
        "2. High dispersion: Values are spread far apart.\n",
        "\n",
        "-> **Variance:** The average of squared differences from the mean.\n",
        "    \n",
        "    Larger variance = more spread.\n",
        "\n",
        "-> **Standard Deviation:** Square root of variance.\n",
        "\n",
        "\n",
        "Represents average distance from the mean in the same unit as the data.\n",
        "Example: Test scores of 60, 70, 80 (low SD) vs. 40, 70, 100 (high SD)."
      ],
      "metadata": {
        "id": "g2wpKEcrdY_X"
      }
    },
    {
      "cell_type": "markdown",
      "source": [
        "#4. What is a box plot, and what can it tell you about the distribution of data?\n",
        "\n",
        "**Definition:** A graphical tool to summarize data distribution.\n",
        "\n",
        "**Displays:**\n",
        "\n",
        "    Median (line inside the box).\n",
        "    Quartiles (box edges).\n",
        "    Outliers (dots outside the whiskers).\n",
        "\n",
        "**Use:** Identify spread, skewness, and outliers in data.\n",
        "\n",
        "**Example:** Compare salaries in different departments.\n",
        "\n"
      ],
      "metadata": {
        "id": "Qb9TSgXldkru"
      }
    },
    {
      "cell_type": "markdown",
      "source": [
        "#5. Discuss the role of random sampling in making inferences about populations.\n",
        "\n",
        "Ensures every individual in a population has an equal chance of being selected.\n",
        "\n",
        "**Purpose:** Create unbiased samples to draw conclusions about the whole population.\n",
        "\n",
        "**Example:** Surveying 100 randomly chosen voters from a list of 10,000.\n"
      ],
      "metadata": {
        "id": "sEXs-pcCdv12"
      }
    },
    {
      "cell_type": "markdown",
      "source": [
        "#6. Explain the concept of skewness and its types. How does skewness affect the interpretation of data?\n",
        "\n",
        "**Definition:** Measures asymmetry of data distribution.\n",
        "\n",
        "**Types:**\n",
        "    \n",
        "    Positive Skew: Tail on the right; most values are low. (e.g., Income distribution where few people earn very high salaries).\n",
        "    Negative Skew: Tail on the left; most values are high. (e.g., Exam scores where most students score high).\n",
        "\n",
        "**Effect:** Skewed data affects the mean (pulled towards the tail).\n"
      ],
      "metadata": {
        "id": "xHeThrQmd1H3"
      }
    },
    {
      "cell_type": "markdown",
      "source": [
        "#7. What is the interquartile range (IQR), and how is it used to detect outliers?\n",
        "\n",
        "**Definition:** Measures the middle 50% of data:\n",
        "\n",
        "    IQR = Q3 - Q1\n",
        "\n",
        "**Q1:** 25th percentile, Q3: 75th percentile.\n",
        "\n",
        "**Use:** Detect outliers.\n",
        "\n",
        "    Outlier if:\n",
        "    Value<Q1−1.5×IQR\n",
        "    Value>Q3+1.5×IQR\n",
        "\n",
        "**Example:**\n",
        "\n",
        "For exam scores: Q1 = 50, Q3 = 80, IQR = 30. Scores below 5 or above 125 are outliers."
      ],
      "metadata": {
        "id": "80x9M1XwgwtQ"
      }
    },
    {
      "cell_type": "markdown",
      "source": [
        "# 8. Discuss the conditions under which the binomial distribution is used.\n",
        "\n",
        "**Conditions:**\n",
        "1. Fixed number of trials.\n",
        "2. Two outcomes (success or failure).\n",
        "3. Constant probability of success.\n",
        "\n",
        "**Example: **\n",
        "\n",
        "Tossing a coin 10 times to count heads.\n"
      ],
      "metadata": {
        "id": "LmWiFXZ5hvkK"
      }
    },
    {
      "cell_type": "markdown",
      "source": [
        "#9. Explain the properties of the normal distribution and the empirical rule (68-95-99.7 rule).\n",
        "\n",
        "**Normal Distribution:** A symmetric, bell-shaped curve.\n",
        "\n",
        "    Mean = Median = Mode.\n",
        "**Empirical Rule:**\n",
        "\n",
        "    68% of data lies within 1 standard deviation (SD).\n",
        "    95% within 2 SDs.\n",
        "    99.7% within 3 SDs.\n",
        "\n",
        "**Example:**\n",
        "\n",
        "Heights of adults follow a normal distribution."
      ],
      "metadata": {
        "id": "YHrg1zYyiBPA"
      }
    },
    {
      "cell_type": "markdown",
      "source": [
        "#10. Provide a real-life example of a Poisson process and calculate the probability for a specific event.\n",
        "\n",
        "**Definition:** Measures the number of events in a fixed time or space.\n",
        "\n",
        "**Example:**\n",
        "\n",
        "Number of calls received at a call center per hour.\n",
        "\n",
        "If the average is 5 calls/hour (λ=5), calculate the probability of exactly 3 calls (k=3):\n",
        "\n",
        "![Screenshot 2024-12-26 204914.png](data:image/png;base64,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)"
      ],
      "metadata": {
        "id": "9CSTsd91iTy3"
      }
    },
    {
      "cell_type": "markdown",
      "source": [
        "#11. Explain what a random variable is and differentiate between discrete and continuous random variables.\n",
        "\n",
        "-> **Discrete:** Countable values. (e.g., Number of cars in a parking lot).\n",
        "\n",
        "-> **Continuous:** Infinite values in a range. (e.g., Weight of apples)."
      ],
      "metadata": {
        "id": "W3Ai9BmqjeLC"
      }
    },
    {
      "cell_type": "markdown",
      "source": [
        "#12. Provide an example dataset, calculate both covariance and correlation, and interpret the results.\n",
        "\n",
        "-> **Dataset:**\n",
        "    \n",
        "    X=[2,4,6,8],Y=[1,3,7,9].\n",
        "\n",
        "-> **Covariance:**\n",
        "\n",
        "![Screenshot 2024-12-26 205223.png](data:image/png;base64,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)\n",
        "\n",
        "Measures the direction of the relationship. Positive = values move together.\n",
        "\n",
        "-> **Correlation:**\n",
        "\n",
        "![Screenshot 2024-12-26 205401.png](data:image/png;base64,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)\n",
        "\n",
        "Measures the strength and direction (ranges from -1 to 1).\n",
        "\n",
        "-> **Interpretation:** High positive correlation (e.g., as X increases, Y increases).\n"
      ],
      "metadata": {
        "id": "mz6lP5mejmlb"
      }
    }
  ]
}