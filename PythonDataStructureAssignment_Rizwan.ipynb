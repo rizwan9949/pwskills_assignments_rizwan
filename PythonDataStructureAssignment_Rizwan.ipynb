{
  "nbformat": 4,
  "nbformat_minor": 0,
  "metadata": {
    "colab": {
      "provenance": []
    },
    "kernelspec": {
      "name": "python3",
      "display_name": "Python 3"
    },
    "language_info": {
      "name": "python"
    }
  },
  "cells": [
    {
      "cell_type": "markdown",
      "source": [
        "#1. Discuss String Slicing and Provide Examples\n",
        "String slicing in Python lets us access specific parts of a string by using start, end, and an optional step. The syntax is string[start:end:step]. Here’s what each part means:\n",
        "\n",
        "-> start: The position to begin the slice (inclusive).\n",
        "\n",
        "-> end: The position to stop the slice (exclusive, not included).\n",
        "\n",
        "-> step: The interval between each character (default is 1, meaning   every character).\n",
        "\n",
        "Example:"
      ],
      "metadata": {
        "id": "Xa0ADdS3N4cu"
      }
    },
    {
      "cell_type": "code",
      "source": [
        "text = \"Hello, World!\"\n",
        "print(text[0:5])       # Output: \"Hello\" - takes characters from index 0 to 4\n",
        "print(text[7:])        # Output: \"World!\" - starts from index 7 to the end\n",
        "print(text[::2])       # Output: \"Hlo ol!\" - every second character\n",
        "print(text[::-1])      # Output: \"!dlroW ,olleH\" - reverses the string"
      ],
      "metadata": {
        "id": "4DWzzOXTOjDm"
      },
      "execution_count": null,
      "outputs": []
    },
    {
      "cell_type": "markdown",
      "source": [
        "In this example:\n",
        "\n",
        "-> text[0:5] gives \"Hello\", taking characters from index 0 to 4.\n",
        "\n",
        "-> text[7:] starts at index 7 and goes until the end, giving \"World!\".\n",
        "\n",
        "-> text[::2] selects every other character, resulting in \"Hlo ol!\".\n",
        "\n",
        "-> text[::-1] reverses the string by using a step of -1."
      ],
      "metadata": {
        "id": "XvhgUCvVPdbY"
      }
    },
    {
      "cell_type": "markdown",
      "source": [
        "#2. Explain the Key Features of Lists in Python\n",
        "A list in Python is a flexible, ordered collection that can hold various data types, such as numbers, strings, and even other lists. Lists are useful because they allow us to store and manipulate a collection of items in a single variable.\n",
        "\n",
        "Key Features of Lists:\n",
        "\n",
        "-> Ordered: Lists maintain the order in which items are added.\n",
        "\n",
        "-> Mutable: Lists allow us to change items after creation.\n",
        "\n",
        "-> Allow Duplicates: Lists can contain duplicate items.\n",
        "\n",
        "-> Indexed: Each item is accessible by its position (index), starting from 0.\n",
        "\n",
        "Example:\n",
        "\n"
      ],
      "metadata": {
        "id": "2pr7snTePvYU"
      }
    },
    {
      "cell_type": "code",
      "source": [
        "my_list = [1, 2, 3, \"hello\"]\n",
        "print(my_list[0])      # Output: 1 - accessing first item\n",
        "my_list[1] = \"world\"   # Changing second item\n",
        "print(my_list)         # Output: [1, \"world\", 3, \"hello\"]\n",
        "my_list.append(4)      # Adding a new item at the end\n",
        "print(my_list)         # Output: [1, \"world\", 3, \"hello\", 4]"
      ],
      "metadata": {
        "id": "AzC3LnWAQPB_"
      },
      "execution_count": null,
      "outputs": []
    },
    {
      "cell_type": "markdown",
      "source": [
        "Lists are helpful when we need to store a sequence of items that may change over time, like a list of tasks or numbers."
      ],
      "metadata": {
        "id": "b6FyIQAPQQvs"
      }
    },
    {
      "cell_type": "markdown",
      "source": [
        "#3. Describe How to Access, Modify, and Delete Elements in a List with Examples\n",
        "In lists, we can access, modify, and delete items using various methods.\n",
        "\n",
        "**Accessing Elements:** Use an index in square brackets to retrieve a specific item."
      ],
      "metadata": {
        "id": "cVnA4hsQQT8r"
      }
    },
    {
      "cell_type": "code",
      "source": [
        "my_list = [1, 2, 3]\n",
        "print(my_list[1])      # Output: 2 - retrieves the item at index 1"
      ],
      "metadata": {
        "id": "iKsyc7NTQfaC"
      },
      "execution_count": null,
      "outputs": []
    },
    {
      "cell_type": "markdown",
      "source": [
        "**Modifying Elements:** Assign a new value to an item by referring to its index."
      ],
      "metadata": {
        "id": "DhnFwzRuQgdW"
      }
    },
    {
      "cell_type": "code",
      "source": [
        "my_list[1] = 4\n",
        "print(my_list)         # Output: [1, 4, 3] - modifies the item at index 1"
      ],
      "metadata": {
        "id": "aXeFPBu4RDsK"
      },
      "execution_count": null,
      "outputs": []
    },
    {
      "cell_type": "markdown",
      "source": [
        "**Deleting Elements:** Use del, remove(), or pop() to delete items."
      ],
      "metadata": {
        "id": "mksd-VRoREWv"
      }
    },
    {
      "cell_type": "code",
      "source": [
        "del my_list[1]         # Deletes item at index 1\n",
        "print(my_list)         # Output: [1, 3]\n",
        "my_list.remove(3)      # Removes the first occurrence of 3\n",
        "print(my_list)         # Output: [1]"
      ],
      "metadata": {
        "id": "-rthFQz_RIsf"
      },
      "execution_count": null,
      "outputs": []
    },
    {
      "cell_type": "markdown",
      "source": [
        "Each method has different use cases, such as remove() for specific values and pop() for indexed removal."
      ],
      "metadata": {
        "id": "M5h9v7a-ROs-"
      }
    },
    {
      "cell_type": "markdown",
      "source": [
        "#4. Compare and Contrast Tuples and Lists with Examples\n",
        "Lists and tuples both allow storage of multiple items in a single variable, but they serve different purposes due to key differences.\n",
        "\n",
        "-> Lists: Mutable, meaning items can be changed, added, or removed.\n",
        "\n",
        "-> Tuples: Immutable, meaning items cannot be changed after creation.\n",
        "\n",
        "Example:"
      ],
      "metadata": {
        "id": "3Y5WUtSvRSiC"
      }
    },
    {
      "cell_type": "code",
      "source": [
        "# List example\n",
        "my_list = [1, 2, 3]\n",
        "my_list[1] = 4         # This is allowed\n",
        "print(my_list)         # Output: [1, 4, 3]\n",
        "\n",
        "# Tuple example\n",
        "my_tuple = (1, 2, 3)\n",
        "# my_tuple[1] = 4      # This will raise an error because tuples cannot be modified"
      ],
      "metadata": {
        "id": "KOcg5SN4RfRm"
      },
      "execution_count": null,
      "outputs": []
    },
    {
      "cell_type": "markdown",
      "source": [
        "**Use Cases:**\n",
        "\n",
        "-> Lists are suitable when data may need to change, like a to-do list.\n",
        "\n",
        "-> Tuples are best for fixed data, like coordinates (x, y).\n"
      ],
      "metadata": {
        "id": "0Uv3ageHRk_K"
      }
    },
    {
      "cell_type": "markdown",
      "source": [
        "#5. Describe the Key Features of Sets and Provide Examples of Their Use\n",
        "A set is an unordered, mutable collection in Python that only stores unique items, meaning duplicates are automatically removed. Sets are useful for membership testing and set operations like unions and intersections.\n",
        "\n",
        "Key Features of Sets:\n",
        "\n",
        "-> Unordered: Set items don’t have a specific position.\n",
        "\n",
        "-> Unique Items: No duplicates are allowed.\n",
        "\n",
        "-> Mutable: You can add or remove items.\n",
        "\n",
        "Example:"
      ],
      "metadata": {
        "id": "Shq7gHcwRt82"
      }
    },
    {
      "cell_type": "code",
      "source": [
        "my_set = {1, 2, 3, 3}   # Duplicate 3 is automatically removed\n",
        "print(my_set)           # Output: {1, 2, 3}\n",
        "\n",
        "# Adding and removing items\n",
        "my_set.add(4)\n",
        "print(my_set)           # Output: {1, 2, 3, 4}\n",
        "my_set.remove(2)\n",
        "print(my_set)           # Output: {1, 3, 4}"
      ],
      "metadata": {
        "id": "5uhHnRglR2oT"
      },
      "execution_count": null,
      "outputs": []
    },
    {
      "cell_type": "markdown",
      "source": [
        "Sets are commonly used for tasks where we need to keep only unique items or for quick membership tests."
      ],
      "metadata": {
        "id": "lTsHh66bR-e2"
      }
    },
    {
      "cell_type": "markdown",
      "source": [
        "#6. Discuss the Use Cases of Tuples and Sets in Python Programming\n",
        "Tuples are used when we need a collection that shouldn’t change. They’re ideal for fixed data, like coordinates, or when we want to ensure data integrity.\n",
        "\n",
        "Sets are useful for storing unique values, performing mathematical operations, or checking for membership efficiently.\n",
        "\n",
        "Example:"
      ],
      "metadata": {
        "id": "voD7fJZbR_vW"
      }
    },
    {
      "cell_type": "code",
      "source": [
        "# Tuple for fixed coordinates\n",
        "location = (45.0, 70.5)\n",
        "\n",
        "# Sets for finding common items\n",
        "set1 = {1, 2, 3}\n",
        "set2 = {3, 4, 5}\n",
        "print(set1 & set2)      # Output: {3} - intersection"
      ],
      "metadata": {
        "id": "vhIjseqFSF9t"
      },
      "execution_count": null,
      "outputs": []
    },
    {
      "cell_type": "markdown",
      "source": [
        "#7. Describe How to Add, Modify, and Delete Items in a Dictionary with Examples\n",
        "Dictionaries in Python store data in key: value pairs. Here’s how to add, modify, and delete items.\n",
        "\n",
        "**Adding Items:** Assign a value to a new key."
      ],
      "metadata": {
        "id": "LM46zEbRSIm2"
      }
    },
    {
      "cell_type": "code",
      "source": [
        "my_dict = {\"name\": \"John\"}\n",
        "my_dict[\"age\"] = 25\n",
        "print(my_dict)          # Output: {'name': 'John', 'age': 25}"
      ],
      "metadata": {
        "id": "_mEe9Zr3SMCC"
      },
      "execution_count": null,
      "outputs": []
    },
    {
      "cell_type": "markdown",
      "source": [
        "**Modifying Items:** Update the value of an existing key."
      ],
      "metadata": {
        "id": "oyd2tSGgSQoi"
      }
    },
    {
      "cell_type": "code",
      "source": [
        "my_dict[\"name\"] = \"Jane\"\n",
        "print(my_dict)          # Output: {'name': 'Jane', 'age': 25}"
      ],
      "metadata": {
        "id": "L_hgj6dCSRb9"
      },
      "execution_count": null,
      "outputs": []
    },
    {
      "cell_type": "markdown",
      "source": [
        "**Deleting Items:** Use del to remove a key-value pair."
      ],
      "metadata": {
        "id": "ZlSwCCJ0STW5"
      }
    },
    {
      "cell_type": "code",
      "source": [
        "del my_dict[\"age\"]\n",
        "print(my_dict)          # Output: {'name': 'Jane'}"
      ],
      "metadata": {
        "id": "PtlKgNAcSV1F"
      },
      "execution_count": null,
      "outputs": []
    },
    {
      "cell_type": "markdown",
      "source": [
        "Dictionaries allow for quick access, modifications, and deletion of data using keys."
      ],
      "metadata": {
        "id": "VWgQUXp4Sfk9"
      }
    },
    {
      "cell_type": "markdown",
      "source": [
        "#8. Discuss the Importance of Dictionary Keys Being Immutable and Provide Examples\n",
        "In Python, dictionary keys must be immutable (unchangeable), like strings or tuples, because keys act as unique identifiers for each value in the dictionary. Using mutable keys like lists would make it difficult for Python to reliably access and manage the data in a dictionary.\n",
        "\n",
        "Example:"
      ],
      "metadata": {
        "id": "D-D8bMFLSiwp"
      }
    },
    {
      "cell_type": "code",
      "source": [
        "my_dict = {1: \"one\", (2, 3): \"two and three\"}  # Integer and tuple keys are allowed\n",
        "\n",
        "# Lists cannot be used as keys\n",
        "# my_dict[[1, 2]] = \"invalid\"  # This will raise an error"
      ],
      "metadata": {
        "id": "SYvhzkNDSm2N"
      },
      "execution_count": null,
      "outputs": []
    },
    {
      "cell_type": "markdown",
      "source": [
        "By requiring immutable keys, dictionaries ensure stability, so each key consistently refers to the same value."
      ],
      "metadata": {
        "id": "CEmFBAsUStHk"
      }
    }
  ]
}