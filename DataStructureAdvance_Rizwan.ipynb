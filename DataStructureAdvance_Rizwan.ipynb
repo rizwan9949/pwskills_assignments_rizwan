{
  "nbformat": 4,
  "nbformat_minor": 0,
  "metadata": {
    "colab": {
      "provenance": []
    },
    "kernelspec": {
      "name": "python3",
      "display_name": "Python 3"
    },
    "language_info": {
      "name": "python"
    }
  },
  "cells": [
    {
      "cell_type": "markdown",
      "source": [
        "#1. Write a code to reverse a string"
      ],
      "metadata": {
        "id": "vsK45Q_acjY2"
      }
    },
    {
      "cell_type": "code",
      "source": [
        "my_str = \"Rizwan\"\n",
        "reverse = my_str[::-1] #code to reverse my string\n",
        "print(\"Original:\",my_str) #original\n",
        "print(\"Reverse:\",reverse) #reversed"
      ],
      "metadata": {
        "colab": {
          "base_uri": "https://localhost:8080/"
        },
        "id": "irmKNOnxcmk9",
        "outputId": "d5c89414-f4f5-4a4b-cc56-23450f14e2f7"
      },
      "execution_count": null,
      "outputs": [
        {
          "output_type": "stream",
          "name": "stdout",
          "text": [
            "Original: Rizwan\n",
            "Reverse: nawziR\n"
          ]
        }
      ]
    },
    {
      "cell_type": "markdown",
      "source": [
        "#2. Write a code to count the number of vowels in a string"
      ],
      "metadata": {
        "id": "hNfddkgSdjJt"
      }
    },
    {
      "cell_type": "code",
      "source": [
        "my_str = \"My name is Syed Rizwan\"\n",
        "vowels = \"AEIOUaeiou\"\n",
        "count = 0\n",
        "for char in my_str:\n",
        "  if char in vowels:\n",
        "    count += 1\n",
        "print(\"Number of vowels in string:\",count)"
      ],
      "metadata": {
        "colab": {
          "base_uri": "https://localhost:8080/"
        },
        "id": "GtMCLsGodntF",
        "outputId": "a9e64662-2528-4a13-e28a-b1c34a14e2f8"
      },
      "execution_count": null,
      "outputs": [
        {
          "output_type": "stream",
          "name": "stdout",
          "text": [
            "Number of vowels in string: 6\n"
          ]
        }
      ]
    },
    {
      "cell_type": "markdown",
      "source": [
        "#3. Write a code to check if a given string is a palindrome or not\n",
        "**If string is Palindrome**\n",
        "\n",
        "Example:"
      ],
      "metadata": {
        "id": "KpLaEnE9iqmc"
      }
    },
    {
      "cell_type": "code",
      "source": [
        "my_str = \"level\"\n",
        "if my_str == my_str[::-1]:\n",
        "  print(\"The is a palindrome\")\n",
        "else:\n",
        "  print(\"The is not a palindrome\")"
      ],
      "metadata": {
        "colab": {
          "base_uri": "https://localhost:8080/"
        },
        "id": "r2vhYX2-iy9L",
        "outputId": "6ac2f4b4-51f8-4327-a94f-01c376605a55"
      },
      "execution_count": null,
      "outputs": [
        {
          "output_type": "stream",
          "name": "stdout",
          "text": [
            "The is a palindrome\n"
          ]
        }
      ]
    },
    {
      "cell_type": "markdown",
      "source": [
        "**If string is not a Palindrome**\n",
        "\n",
        "Example:"
      ],
      "metadata": {
        "id": "hJK4ZiRokraS"
      }
    },
    {
      "cell_type": "code",
      "source": [
        "my_str = \"rizwan\"\n",
        "if my_str == my_str[::-1]:\n",
        "  print(\"The is a palindrome\")\n",
        "else:\n",
        "  print(\"The is not a palindrome\")"
      ],
      "metadata": {
        "colab": {
          "base_uri": "https://localhost:8080/"
        },
        "id": "abVSebo_kv37",
        "outputId": "4f90b662-496d-487e-c7a3-6b3a51bf5c01"
      },
      "execution_count": null,
      "outputs": [
        {
          "output_type": "stream",
          "name": "stdout",
          "text": [
            "The is not a palindrome\n"
          ]
        }
      ]
    },
    {
      "cell_type": "markdown",
      "source": [
        "#4. Write a code to check if two given strings are anagrams of each other\n",
        "**If two given strings are anagrams of each other**\n",
        "\n",
        "Example:\n"
      ],
      "metadata": {
        "id": "qQMZTU8nk1nK"
      }
    },
    {
      "cell_type": "code",
      "source": [
        "str1 = \"secure\"\n",
        "str2 = \"rescue\"\n",
        "\n",
        "if sorted(str1) == sorted(str2):\n",
        "  print(\"Two strings are anagrams of each other\")\n",
        "else:\n",
        "  print(\"Two strings are not anagrams of each other\")"
      ],
      "metadata": {
        "colab": {
          "base_uri": "https://localhost:8080/"
        },
        "id": "Fn9ij3_2lZgv",
        "outputId": "055b48ac-3be0-47b7-89b1-aff84d0fbd01"
      },
      "execution_count": null,
      "outputs": [
        {
          "output_type": "stream",
          "name": "stdout",
          "text": [
            "Two strings are anagrams of each other\n"
          ]
        }
      ]
    },
    {
      "cell_type": "markdown",
      "source": [
        "**If two given strings are not anagrams of each other**\n",
        "\n",
        "Example:"
      ],
      "metadata": {
        "id": "8Pwlnnchn924"
      }
    },
    {
      "cell_type": "code",
      "source": [
        "str1 = \"secure\"\n",
        "str2 = \"rizwan\"\n",
        "\n",
        "if sorted(str1) == sorted(str2):\n",
        "  print(\"Two strings are anagrams of each other\")\n",
        "else:\n",
        "  print(\"Two strings are not anagrams of each other\")"
      ],
      "metadata": {
        "colab": {
          "base_uri": "https://localhost:8080/"
        },
        "id": "z-_osKEeoIF4",
        "outputId": "3693c550-4ae3-435d-f6fb-5e7dc3631b84"
      },
      "execution_count": null,
      "outputs": [
        {
          "output_type": "stream",
          "name": "stdout",
          "text": [
            "Two strings are not anagrams of each other\n"
          ]
        }
      ]
    },
    {
      "cell_type": "markdown",
      "source": [
        "#5. Write a code to find all occurrences of a given substring within another string"
      ],
      "metadata": {
        "id": "I-7u-QaqoNUM"
      }
    },
    {
      "cell_type": "code",
      "source": [
        "str1 = \"My name is Rizwan\"\n",
        "str2 = \"My name is Nitish\"\n",
        "str_occur = []\n",
        "\n",
        "# Split each string into a list of words\n",
        "words1 = str1.split()\n",
        "words2 = str2.split()\n",
        "\n",
        "# Loop through each word in str1 and check if it's also in str2\n",
        "for word in words1:\n",
        "    if word in words2 and word not in str_occur:\n",
        "        str_occur.append(word)\n",
        "\n",
        "print(\"Common words:\", str_occur)"
      ],
      "metadata": {
        "id": "nxxduTLdoXyI",
        "colab": {
          "base_uri": "https://localhost:8080/"
        },
        "outputId": "0b478e14-1775-4749-90f8-5f09100737aa"
      },
      "execution_count": 8,
      "outputs": [
        {
          "output_type": "stream",
          "name": "stdout",
          "text": [
            "Common words: ['My', 'name', 'is']\n"
          ]
        }
      ]
    },
    {
      "cell_type": "markdown",
      "source": [
        " # 6. Write a code to perform basic string compression using the counts of repeated characters."
      ],
      "metadata": {
        "id": "gcvM_JOGfdxY"
      }
    },
    {
      "cell_type": "code",
      "source": [
        "input_str = \"Rrriiizzzwwannnn\"\n",
        "compressed_str = \"\"\n",
        "count = 1\n",
        "\n",
        "# Iterate through the string to count repeated characters\n",
        "for i in range(1, len(input_str)):\n",
        "    if input_str[i] == input_str[i - 1]:\n",
        "        count += 1\n",
        "    else:\n",
        "        compressed_str += input_str[i - 1] + str(count)\n",
        "        count = 1  # Reset count for the new character\n",
        "\n",
        "# Add the last character and its count\n",
        "compressed_str += input_str[-1] + str(count)\n",
        "\n",
        "print(\"Compressed string:\", compressed_str)"
      ],
      "metadata": {
        "colab": {
          "base_uri": "https://localhost:8080/"
        },
        "id": "5P2pKJOLfuF_",
        "outputId": "0421ffde-ec98-4edb-9671-01ae010b0683"
      },
      "execution_count": 10,
      "outputs": [
        {
          "output_type": "stream",
          "name": "stdout",
          "text": [
            "Compressed string: R1r2i3z3w2a1n4\n"
          ]
        }
      ]
    },
    {
      "cell_type": "markdown",
      "source": [
        " # 7. Write a code to determine if a string has all unique characters"
      ],
      "metadata": {
        "id": "a1wxwvDFhU0A"
      }
    },
    {
      "cell_type": "code",
      "source": [
        "my_str = \"ABCACBCBADDDA\"\n",
        "\n",
        "# Check if the length of the set is the same as the length of the string\n",
        "if len(set(my_str)) == len(my_str):\n",
        "    print(\"All characters in the string are unique.\")\n",
        "else:\n",
        "    print(\"The string has duplicate characters.\")"
      ],
      "metadata": {
        "colab": {
          "base_uri": "https://localhost:8080/"
        },
        "id": "YqhacKyChXAb",
        "outputId": "80859ee7-626f-46c0-eba6-eebde36d8c2f"
      },
      "execution_count": 15,
      "outputs": [
        {
          "output_type": "stream",
          "name": "stdout",
          "text": [
            "The string has duplicate characters.\n"
          ]
        }
      ]
    },
    {
      "cell_type": "markdown",
      "source": [
        "# 8. Write a code to convert a given string to uppercase or lowercase\n",
        "**Converting into uppercase**\n",
        "\n",
        "Example:"
      ],
      "metadata": {
        "id": "KAx3rxYoieaL"
      }
    },
    {
      "cell_type": "code",
      "source": [
        "my_str = \"Rizwan\"\n",
        "uppercase_str = my_str.upper()\n",
        "print(\"Uppercase:\",uppercase_str)"
      ],
      "metadata": {
        "colab": {
          "base_uri": "https://localhost:8080/"
        },
        "id": "YoNEn7RVikPK",
        "outputId": "3ce73caa-82ca-46db-9cee-73e3b28be165"
      },
      "execution_count": 35,
      "outputs": [
        {
          "output_type": "stream",
          "name": "stdout",
          "text": [
            "Uppercase: RIZWAN\n"
          ]
        }
      ]
    },
    {
      "cell_type": "markdown",
      "source": [
        "**Converting into lowercase**\n",
        "\n",
        "Example:"
      ],
      "metadata": {
        "id": "7zY-5UUijKZJ"
      }
    },
    {
      "cell_type": "code",
      "source": [
        "my_str = \"RIZWAN\"\n",
        "uppercase_str = my_str.lower()\n",
        "print(\"Lowercase:\",uppercase_str)"
      ],
      "metadata": {
        "colab": {
          "base_uri": "https://localhost:8080/"
        },
        "id": "NlOTDOrnjRoY",
        "outputId": "95c75150-a231-4104-fa48-36de893bd2ee"
      },
      "execution_count": 34,
      "outputs": [
        {
          "output_type": "stream",
          "name": "stdout",
          "text": [
            "Lowercase: rizwan\n"
          ]
        }
      ]
    },
    {
      "cell_type": "markdown",
      "source": [
        "# 9. Write a code to count the number of words in a string"
      ],
      "metadata": {
        "id": "DWeLOKFYjXff"
      }
    },
    {
      "cell_type": "code",
      "source": [
        "my_str = \"My name is Rizwan\"\n",
        "split_string = my_str.split(\" \")\n",
        "word_count = len(split_string)  # Directly get the count of words\n",
        "\n",
        "print(\"Number of words:\", word_count)\n",
        "\n",
        "#OR\n",
        "\n",
        "my_str = \"My name is Rizwan\"\n",
        "split_string = my_str.split(\" \")\n",
        "word_count = 0\n",
        "for char in split_string:\n",
        "  len(split_string)\n",
        "  word_count += 1\n",
        "print(\"Number of words:\",word_count)"
      ],
      "metadata": {
        "colab": {
          "base_uri": "https://localhost:8080/"
        },
        "id": "xdaQUfA7jjxD",
        "outputId": "24a5299a-dc00-4bf1-bf97-9e8d5a538b0b"
      },
      "execution_count": 25,
      "outputs": [
        {
          "output_type": "stream",
          "name": "stdout",
          "text": [
            "Number of words: 4\n",
            "Number of words: 4\n"
          ]
        }
      ]
    },
    {
      "cell_type": "markdown",
      "source": [
        "# 10. Write a code to concatenate two strings without using the + operator"
      ],
      "metadata": {
        "id": "9H2N6_yGp9b5"
      }
    },
    {
      "cell_type": "code",
      "source": [
        "str1 = \"Syed\"\n",
        "str2 = \"Rizwan\"\n",
        "result = \" \".join([str1,str2])\n",
        "print(\"Concatenated string:\",result)"
      ],
      "metadata": {
        "colab": {
          "base_uri": "https://localhost:8080/"
        },
        "id": "gJJCIvQTqErp",
        "outputId": "911fd7e4-3fa0-4eb8-dc32-e87ec6cf430e"
      },
      "execution_count": 37,
      "outputs": [
        {
          "output_type": "stream",
          "name": "stdout",
          "text": [
            "Concatenated string: Syed Rizwan\n"
          ]
        }
      ]
    },
    {
      "cell_type": "markdown",
      "source": [
        "# 11. Write a code to remove all occurrences of a specific element from a list"
      ],
      "metadata": {
        "id": "a5_J2z33rhla"
      }
    },
    {
      "cell_type": "code",
      "source": [
        "my_list = [1,2,3,\"Rizwan\",4,3,3,3,3]\n",
        "\n",
        "## Remove all occurrences of 3\n",
        "while 3 in my_list:\n",
        "  my_list.remove(3)\n",
        "print(\"Updated list:\",my_list)"
      ],
      "metadata": {
        "colab": {
          "base_uri": "https://localhost:8080/"
        },
        "id": "gv6SrL05roPA",
        "outputId": "95e81caa-6dc6-42fd-8421-ab4ba53abd74"
      },
      "execution_count": 44,
      "outputs": [
        {
          "output_type": "stream",
          "name": "stdout",
          "text": [
            "Updated list: [1, 2, 'Rizwan', 4]\n"
          ]
        }
      ]
    },
    {
      "cell_type": "markdown",
      "source": [
        "# 12. Implement a code to find the second largest number in a given list of integers"
      ],
      "metadata": {
        "id": "98S2D5t3tEyz"
      }
    },
    {
      "cell_type": "code",
      "source": [
        "my_list = [10,40,20,25,22,15,26,12]\n",
        "sorted_list = sorted(set(my_list))\n",
        "second_largest = sorted_list[-2]\n",
        "\n",
        "print(second_largest)"
      ],
      "metadata": {
        "colab": {
          "base_uri": "https://localhost:8080/"
        },
        "id": "R76B1vEvtK4y",
        "outputId": "c3922188-8f92-4e1c-c1ce-f675a3b048d5"
      },
      "execution_count": 48,
      "outputs": [
        {
          "output_type": "stream",
          "name": "stdout",
          "text": [
            "26\n"
          ]
        }
      ]
    },
    {
      "cell_type": "markdown",
      "source": [
        " # 13. Create a code to count the occurrences of each element in a list and return a dictionary with elements as keys and their counts as values"
      ],
      "metadata": {
        "id": "Mobxl9gXuu-C"
      }
    },
    {
      "cell_type": "code",
      "source": [
        "my_list = [\"Rizwan\", \"Rizwan\", \"Syed\", \"Syed\", \"Syed\", \"Hello\"]\n",
        "count_dict = {}\n",
        "\n",
        "# Loop through each element in the list\n",
        "for item in my_list:\n",
        "    if item in count_dict:\n",
        "        count_dict[item] += 1  # Increment count if the item is already in the dictionary\n",
        "    else:\n",
        "        count_dict[item] = 1   # Initialize count if the item is not in the dictionary\n",
        "\n",
        "print(\"Occurrences dictionary:\", count_dict)"
      ],
      "metadata": {
        "colab": {
          "base_uri": "https://localhost:8080/"
        },
        "id": "FIIMmVJzvKbI",
        "outputId": "51fc2075-96a1-4803-8e25-83bb269bfd03"
      },
      "execution_count": 50,
      "outputs": [
        {
          "output_type": "stream",
          "name": "stdout",
          "text": [
            "Occurrences dictionary: {'Rizwan': 2, 'Syed': 3, 'Hello': 1}\n"
          ]
        }
      ]
    },
    {
      "cell_type": "markdown",
      "source": [
        "# 14. Write a code to reverse a list in-place without using any built-in reverse functions"
      ],
      "metadata": {
        "id": "6a6la6FvMcsa"
      }
    },
    {
      "cell_type": "code",
      "source": [
        "my_list = [1, 2, 3, 4, \"Rizwan\"]\n",
        "\n",
        "# Swap elements from the start and end, moving towards the center\n",
        "for i in range(len(my_list) // 2):\n",
        "    my_list[i], my_list[-i - 1] = my_list[-i - 1], my_list[i]\n",
        "\n",
        "print(\"Reversed list:\", my_list)"
      ],
      "metadata": {
        "colab": {
          "base_uri": "https://localhost:8080/"
        },
        "id": "pTKhmYyEMgXP",
        "outputId": "784cd79c-6fb5-4265-cf3b-80bdc6966044"
      },
      "execution_count": 5,
      "outputs": [
        {
          "output_type": "stream",
          "name": "stdout",
          "text": [
            "Reversed list: ['Rizwan', 4, 3, 2, 1]\n"
          ]
        }
      ]
    },
    {
      "cell_type": "markdown",
      "source": [
        "# 15. Implement a code to find and remove duplicates from a list while preserving the original order of elements"
      ],
      "metadata": {
        "id": "FT97D49FOPoD"
      }
    },
    {
      "cell_type": "code",
      "source": [
        "my_list = [1, 1, 2, 2, 2, 3, 3, 5, 5, 5, \"Rizwan\", \"Rizwan\"]\n",
        "unique_list = []\n",
        "seen = set()\n",
        "\n",
        "for item in my_list:\n",
        "    if item not in seen:\n",
        "        unique_list.append(item)  # Add item to the result list if it hasn't been seen\n",
        "        seen.add(item)  # Mark the item as seen\n",
        "\n",
        "print(\"List with duplicates removed:\", unique_list)"
      ],
      "metadata": {
        "colab": {
          "base_uri": "https://localhost:8080/"
        },
        "id": "B6oYHpICOVUa",
        "outputId": "58cb6083-8b58-4471-964f-69c9f4a042d3"
      },
      "execution_count": 7,
      "outputs": [
        {
          "output_type": "stream",
          "name": "stdout",
          "text": [
            "List with duplicates removed: [1, 2, 3, 5, 'Rizwan']\n"
          ]
        }
      ]
    },
    {
      "cell_type": "markdown",
      "source": [
        "# 16. Create a code to check if a given list is sorted (either in ascending or descending order) or not"
      ],
      "metadata": {
        "id": "v1Ja7LZbPJ1u"
      }
    },
    {
      "cell_type": "code",
      "source": [
        "my_list = [1, 2, 3, 4, 5]\n",
        "\n",
        "# Check for ascending or descending order\n",
        "if my_list == sorted(my_list):\n",
        "    print(\"The list is sorted in ascending order.\")\n",
        "elif my_list == sorted(my_list, reverse=True):\n",
        "    print(\"The list is sorted in descending order.\")\n",
        "else:\n",
        "    print(\"The list is not sorted.\")"
      ],
      "metadata": {
        "colab": {
          "base_uri": "https://localhost:8080/"
        },
        "id": "7hJ5r6nzPQuy",
        "outputId": "b0905fd5-08b5-4d6d-f5cd-e7937fbc45f9"
      },
      "execution_count": 8,
      "outputs": [
        {
          "output_type": "stream",
          "name": "stdout",
          "text": [
            "The list is sorted in ascending order.\n"
          ]
        }
      ]
    },
    {
      "cell_type": "markdown",
      "source": [
        " # 17. Write a code to merge two sorted lists into a single sorted list"
      ],
      "metadata": {
        "id": "pBTNmcoeWAcp"
      }
    },
    {
      "cell_type": "code",
      "source": [
        "list1 = [1, 3, 5, 7]\n",
        "list2 = [2, 4, 6, 8]\n",
        "\n",
        "merged_list = sorted(list1 + list2)\n",
        "print(\"Merged sorted list:\", merged_list)"
      ],
      "metadata": {
        "colab": {
          "base_uri": "https://localhost:8080/"
        },
        "id": "ZdVx98YiWhfX",
        "outputId": "83b92498-9c8d-4620-b35d-2f1ce56ac23c"
      },
      "execution_count": 9,
      "outputs": [
        {
          "output_type": "stream",
          "name": "stdout",
          "text": [
            "Merged sorted list: [1, 2, 3, 4, 5, 6, 7, 8]\n"
          ]
        }
      ]
    },
    {
      "cell_type": "markdown",
      "source": [
        "# 18. Implement a code to find the intersection of two given lists"
      ],
      "metadata": {
        "id": "8cL_h-RkWlrP"
      }
    },
    {
      "cell_type": "code",
      "source": [
        "list1 = [1, 2, 3, 4]\n",
        "list2 = [3, 4, 5, 6]\n",
        "\n",
        "intersection = [item for item in list1 if item in list2]\n",
        "print(\"Intersection:\", intersection)"
      ],
      "metadata": {
        "colab": {
          "base_uri": "https://localhost:8080/"
        },
        "id": "Y_HrgLx_Wsa7",
        "outputId": "011b3880-2f28-43cb-a5ea-aa68d29d9a47"
      },
      "execution_count": 13,
      "outputs": [
        {
          "output_type": "stream",
          "name": "stdout",
          "text": [
            "Intersection: [3, 4]\n"
          ]
        }
      ]
    },
    {
      "cell_type": "markdown",
      "source": [
        "# 19. Create a code to find the union of two lists without duplicates"
      ],
      "metadata": {
        "id": "i9M3G07QXQR_"
      }
    },
    {
      "cell_type": "code",
      "source": [
        "list1 = [1, 2, 3, 4]\n",
        "list2 = [3, 4, 5, 6]\n",
        "\n",
        "union = list(set(list1 + list2))\n",
        "print(\"Union without duplicates:\", union)"
      ],
      "metadata": {
        "colab": {
          "base_uri": "https://localhost:8080/"
        },
        "id": "CBdnIhxIXU6r",
        "outputId": "1ce4dd60-dc2c-4434-c592-c2c18c6bc280"
      },
      "execution_count": 14,
      "outputs": [
        {
          "output_type": "stream",
          "name": "stdout",
          "text": [
            "Union without duplicates: [1, 2, 3, 4, 5, 6]\n"
          ]
        }
      ]
    },
    {
      "cell_type": "markdown",
      "source": [
        "# 20. Write a code to shuffle a given list randomly without using any built-in shuffle functions"
      ],
      "metadata": {
        "id": "5Fgc5rJDXZHv"
      }
    },
    {
      "cell_type": "code",
      "source": [
        "my_list = [1, 2, 3, 4, 5]\n",
        "\n",
        "# Simple random shuffle without built-in functions\n",
        "for i in range(len(my_list) - 1, 0, -1):\n",
        "    # Generate a random index by calculating it in a basic way\n",
        "    swap_index = (i * 3 + 1) % len(my_list)  # This is a basic form of randomness\n",
        "    # Swap elements at the current index and the random index\n",
        "    my_list[i], my_list[swap_index] = my_list[swap_index], my_list[i]\n",
        "\n",
        "print(\"Shuffled list:\", my_list)"
      ],
      "metadata": {
        "colab": {
          "base_uri": "https://localhost:8080/"
        },
        "id": "c8UOHYUhXetf",
        "outputId": "7b038d27-73a1-49d9-dbe2-acb19eb0fa7f"
      },
      "execution_count": 48,
      "outputs": [
        {
          "output_type": "stream",
          "name": "stdout",
          "text": [
            "Shuffled list: [5, 4, 3, 1, 2]\n"
          ]
        }
      ]
    },
    {
      "cell_type": "markdown",
      "source": [
        "# 21. Write a code that takes two tuples as input and returns a new tuple containing elements that are common to both input tuples"
      ],
      "metadata": {
        "id": "KIsGtSYqXuTn"
      }
    },
    {
      "cell_type": "code",
      "source": [
        "tuple1 = (1, 2, 3, 4)\n",
        "tuple2 = (3, 4, 5, 6)\n",
        "\n",
        "common_elements = tuple(set(tuple1) & set(tuple2))\n",
        "print(\"Common elements:\", common_elements)"
      ],
      "metadata": {
        "colab": {
          "base_uri": "https://localhost:8080/"
        },
        "id": "73m2ClfZXyTb",
        "outputId": "6d0a7ddf-7fc8-476e-8ca0-272efde92280"
      },
      "execution_count": 16,
      "outputs": [
        {
          "output_type": "stream",
          "name": "stdout",
          "text": [
            "Common elements: (3, 4)\n"
          ]
        }
      ]
    },
    {
      "cell_type": "markdown",
      "source": [
        "# 22. Create a code that prompts the user to enter two sets of integers separated by commas. Then, print the intersection of these two sets"
      ],
      "metadata": {
        "id": "xWHaolLTX3ZO"
      }
    },
    {
      "cell_type": "code",
      "source": [
        "set1 = set(map(int, input(\"Enter integers for set 1 separated by commas: \").split(',')))\n",
        "set2 = set(map(int, input(\"Enter integers for set 2 separated by commas: \").split(',')))\n",
        "\n",
        "intersection = set1 & set2\n",
        "print(\"Intersection:\", intersection)"
      ],
      "metadata": {
        "colab": {
          "base_uri": "https://localhost:8080/"
        },
        "id": "-JsS6LuFX_Ah",
        "outputId": "427a33e5-dd91-431c-d38d-e7664ebb72d0"
      },
      "execution_count": 17,
      "outputs": [
        {
          "output_type": "stream",
          "name": "stdout",
          "text": [
            "Enter integers for set 1 separated by commas: 2,3,4,5,6\n",
            "Enter integers for set 2 separated by commas: 1,2,3,5,7,8\n",
            "Intersection: {2, 3, 5}\n"
          ]
        }
      ]
    },
    {
      "cell_type": "markdown",
      "source": [
        "# 23. Write a code to concatenate two tuples. The function should take two tuples as input and return a new tuple containing elements from both input tuples."
      ],
      "metadata": {
        "id": "Lub3p-NQYMIy"
      }
    },
    {
      "cell_type": "code",
      "source": [
        "tuple1 = (1, 2, 3)\n",
        "tuple2 = (4, 5, 6)\n",
        "\n",
        "concatenated_tuple = tuple1 + tuple2\n",
        "print(\"Concatenated tuple:\", concatenated_tuple)"
      ],
      "metadata": {
        "colab": {
          "base_uri": "https://localhost:8080/"
        },
        "id": "wScPce6NYToD",
        "outputId": "0abaadad-638f-4047-cb7e-c5a599028fa2"
      },
      "execution_count": 18,
      "outputs": [
        {
          "output_type": "stream",
          "name": "stdout",
          "text": [
            "Concatenated tuple: (1, 2, 3, 4, 5, 6)\n"
          ]
        }
      ]
    },
    {
      "cell_type": "markdown",
      "source": [
        "# 24. Develop a code that prompts the user to input two sets of strings. Then, print the elements that are present in the first set but not in the second set"
      ],
      "metadata": {
        "id": "QcAeZJnaYak6"
      }
    },
    {
      "cell_type": "code",
      "source": [
        "set1 = set(input(\"Enter strings for set 1 separated by spaces: \").split())\n",
        "set2 = set(input(\"Enter strings for set 2 separated by spaces: \").split())\n",
        "\n",
        "difference = set1 - set2\n",
        "print(\"Elements in set 1 but not in set 2:\", difference)"
      ],
      "metadata": {
        "colab": {
          "base_uri": "https://localhost:8080/"
        },
        "id": "vRDapy6mYhlW",
        "outputId": "c7048f58-d3ae-4567-a840-3b0d40106ed9"
      },
      "execution_count": 19,
      "outputs": [
        {
          "output_type": "stream",
          "name": "stdout",
          "text": [
            "Enter strings for set 1 separated by spaces: My name is Rizwan\n",
            "Enter strings for set 2 separated by spaces: My name is Nitish\n",
            "Elements in set 1 but not in set 2: {'Rizwan'}\n"
          ]
        }
      ]
    },
    {
      "cell_type": "markdown",
      "source": [
        "# 25. Create a code that takes a tuple and two integers as input. The function should return a new tuple containing elements from the original tuple within the specified range of indices"
      ],
      "metadata": {
        "id": "W4ZL_1Z7YwGW"
      }
    },
    {
      "cell_type": "code",
      "source": [
        "tuple1 = (1, 2, 3, 4, 5, 6, 7, 8)\n",
        "start = 2  # Start index\n",
        "end = 5    # End index\n",
        "\n",
        "sub_tuple = tuple1[start:end+1]\n",
        "print(\"Elements within range:\", sub_tuple)"
      ],
      "metadata": {
        "colab": {
          "base_uri": "https://localhost:8080/"
        },
        "id": "I0xzQy9eY3tS",
        "outputId": "e47a3c93-83a7-40ac-80f2-8839e52e2763"
      },
      "execution_count": 20,
      "outputs": [
        {
          "output_type": "stream",
          "name": "stdout",
          "text": [
            "Elements within range: (3, 4, 5, 6)\n"
          ]
        }
      ]
    },
    {
      "cell_type": "markdown",
      "source": [
        "# 26. Write a code that prompts the user to input two sets of characters. Then, print the union of these two sets"
      ],
      "metadata": {
        "id": "9G6In4RsZGxV"
      }
    },
    {
      "cell_type": "code",
      "source": [
        "set1 = set(input(\"Enter characters for set 1 separated by spaces: \").split())\n",
        "set2 = set(input(\"Enter characters for set 2 separated by spaces: \").split())\n",
        "\n",
        "union_set = set1 | set2\n",
        "print(\"Union of sets:\", union_set)"
      ],
      "metadata": {
        "colab": {
          "base_uri": "https://localhost:8080/"
        },
        "id": "_L0eNUuXZKSH",
        "outputId": "1986f139-c19a-483d-b2c5-348f563db180"
      },
      "execution_count": 22,
      "outputs": [
        {
          "output_type": "stream",
          "name": "stdout",
          "text": [
            "Enter characters for set 1 separated by spaces: Syed\n",
            "Enter characters for set 2 separated by spaces: Rizwan\n",
            "Union of sets: {'Rizwan', 'Syed'}\n"
          ]
        }
      ]
    },
    {
      "cell_type": "markdown",
      "source": [
        "# 27. Develop a code that takes a tuple of integers as input. The function should return the maximum and minimum values from the tuple using tuple unpacking"
      ],
      "metadata": {
        "id": "tH8WpLy9ZdHt"
      }
    },
    {
      "cell_type": "code",
      "source": [
        "tuple1 = (5, 10, 1, 3, 7)\n",
        "\n",
        "max_value, min_value = max(tuple1), min(tuple1)\n",
        "print(\"Max:\", max_value, \"Min:\", min_value)"
      ],
      "metadata": {
        "colab": {
          "base_uri": "https://localhost:8080/"
        },
        "id": "4huZjThiZjdq",
        "outputId": "ed8b5e59-a09b-4964-d967-fcd721872c76"
      },
      "execution_count": 23,
      "outputs": [
        {
          "output_type": "stream",
          "name": "stdout",
          "text": [
            "Max: 10 Min: 1\n"
          ]
        }
      ]
    },
    {
      "cell_type": "markdown",
      "source": [
        "# 28. Create a code that defines two sets of integers. Then, print the union, intersection, and difference of these two sets"
      ],
      "metadata": {
        "id": "cf-LWbdJZqcx"
      }
    },
    {
      "cell_type": "code",
      "source": [
        "set1 = {1, 2, 3, 4}\n",
        "set2 = {3, 4, 5, 6}\n",
        "\n",
        "print(\"Union:\", set1 | set2)\n",
        "print(\"Intersection:\", set1 & set2)\n",
        "print(\"Difference:\", set1 - set2)"
      ],
      "metadata": {
        "colab": {
          "base_uri": "https://localhost:8080/"
        },
        "id": "-WedUQbSZxxo",
        "outputId": "82f3448d-3777-47cb-a868-73b4e0ec9bf7"
      },
      "execution_count": 24,
      "outputs": [
        {
          "output_type": "stream",
          "name": "stdout",
          "text": [
            "Union: {1, 2, 3, 4, 5, 6}\n",
            "Intersection: {3, 4}\n",
            "Difference: {1, 2}\n"
          ]
        }
      ]
    },
    {
      "cell_type": "markdown",
      "source": [
        "# 29. Write a code that takes a tuple and an element as input. The function should return the count of occurrences of the given element in the tuple"
      ],
      "metadata": {
        "id": "NbhudLY7Z2Wx"
      }
    },
    {
      "cell_type": "code",
      "source": [
        "tuple1 = (1, 2, 3, 1, 1, 4, 5)\n",
        "element = 1\n",
        "\n",
        "count = tuple1.count(element)\n",
        "print(f\"Occurrences of {element}:\", count)"
      ],
      "metadata": {
        "colab": {
          "base_uri": "https://localhost:8080/"
        },
        "id": "YiqZsz0PZ9iJ",
        "outputId": "6d29711a-fa88-4454-ed5f-0101799ad7af"
      },
      "execution_count": 25,
      "outputs": [
        {
          "output_type": "stream",
          "name": "stdout",
          "text": [
            "Occurrences of 1: 3\n"
          ]
        }
      ]
    },
    {
      "cell_type": "markdown",
      "source": [
        "# 30. Develop a code that prompts the user to input two sets of strings. Then, print the symmetric difference of these two sets"
      ],
      "metadata": {
        "id": "zqtvfkdPaBcB"
      }
    },
    {
      "cell_type": "code",
      "source": [
        "set1 = set(input(\"Enter strings for set 1 separated by spaces: \").split())\n",
        "set2 = set(input(\"Enter strings for set 2 separated by spaces: \").split())\n",
        "\n",
        "sym_diff = set1 ^ set2\n",
        "print(\"Symmetric difference:\", sym_diff)"
      ],
      "metadata": {
        "colab": {
          "base_uri": "https://localhost:8080/"
        },
        "id": "uh7wn8tOaGoF",
        "outputId": "5e8f3463-4f2a-4905-c16e-bb7a89887f3f"
      },
      "execution_count": 26,
      "outputs": [
        {
          "output_type": "stream",
          "name": "stdout",
          "text": [
            "Enter strings for set 1 separated by spaces: 1 2 3 4 5 6\n",
            "Enter strings for set 2 separated by spaces: 7 8 1 2 3 4 5\n",
            "Symmetric difference: {'7', '6', '8'}\n"
          ]
        }
      ]
    },
    {
      "cell_type": "markdown",
      "source": [
        "# 31. Write a code that takes a list of words as input and returns a dictionary where the keys are unique words and the values are the frequencies of those words in the input list"
      ],
      "metadata": {
        "id": "WVXzdFd8aXsg"
      }
    },
    {
      "cell_type": "code",
      "source": [
        "words = [\"apple\", \"banana\", \"apple\", \"orange\", \"banana\", \"apple\"]\n",
        "word_count = {}\n",
        "\n",
        "for word in words:\n",
        "    word_count[word] = word_count.get(word, 0) + 1\n",
        "\n",
        "print(\"Word frequencies:\", word_count)"
      ],
      "metadata": {
        "colab": {
          "base_uri": "https://localhost:8080/"
        },
        "id": "Bw60zzNkae0x",
        "outputId": "14351987-858f-46b1-850e-921e6940e3a6"
      },
      "execution_count": 27,
      "outputs": [
        {
          "output_type": "stream",
          "name": "stdout",
          "text": [
            "Word frequencies: {'apple': 3, 'banana': 2, 'orange': 1}\n"
          ]
        }
      ]
    },
    {
      "cell_type": "markdown",
      "source": [
        "# 32. Write a code that takes two dictionaries as input and merges them into a single dictionary. If there are common keys, the values should be added together\n"
      ],
      "metadata": {
        "id": "K3EDmiG3akkA"
      }
    },
    {
      "cell_type": "code",
      "source": [
        "dict1 = {'a': 1, 'b': 2}\n",
        "dict2 = {'b': 3, 'c': 4}\n",
        "\n",
        "merged_dict = dict1.copy()\n",
        "for key, value in dict2.items():\n",
        "    merged_dict[key] = merged_dict.get(key, 0) + value\n",
        "\n",
        "print(\"Merged dictionary:\", merged_dict)"
      ],
      "metadata": {
        "colab": {
          "base_uri": "https://localhost:8080/"
        },
        "id": "omcrqOy8apvs",
        "outputId": "e22de617-e3bd-4ce5-d262-f06a100cb6d4"
      },
      "execution_count": 28,
      "outputs": [
        {
          "output_type": "stream",
          "name": "stdout",
          "text": [
            "Merged dictionary: {'a': 1, 'b': 5, 'c': 4}\n"
          ]
        }
      ]
    },
    {
      "cell_type": "markdown",
      "source": [
        "# 33. Write a code to access a value in a nested dictionary. The function should take the dictionary and a list of keys as input, and return the corresponding value. If any of the keys do not exist in the dictionary, the function should return None"
      ],
      "metadata": {
        "id": "maGBgogAavh8"
      }
    },
    {
      "cell_type": "code",
      "source": [
        "# Example usage\n",
        "nested_dict = {'a': {'b': {'c': 42}}}\n",
        "keys = ['a', 'b', 'c']\n",
        "\n",
        "value = nested_dict\n",
        "for key in keys:\n",
        "    value = value.get(key, None)\n",
        "    if value is None:\n",
        "        break\n",
        "\n",
        "print(\"Value:\", value)\n",
        "\n",
        "# Example with a non-existent key\n",
        "\n",
        "nested_dict = {'a': {'b': {'c': 42}}}\n",
        "keys = ['a', 'x', 'c']\n",
        "\n",
        "value = nested_dict\n",
        "for key in keys:\n",
        "    value = value.get(key, None)\n",
        "    if value is None:\n",
        "        break\n",
        "\n",
        "print(\"non-existent key value:\", value)"
      ],
      "metadata": {
        "colab": {
          "base_uri": "https://localhost:8080/"
        },
        "id": "QxQmNtyPbJrl",
        "outputId": "77bf165b-8891-4c93-eced-dee9c09cf1c4"
      },
      "execution_count": 40,
      "outputs": [
        {
          "output_type": "stream",
          "name": "stdout",
          "text": [
            "Value: 42\n",
            "non-existent key value: None\n"
          ]
        }
      ]
    },
    {
      "cell_type": "markdown",
      "source": [
        "# 34. Write a code that takes a dictionary as input and returns a sorted version of it based on the values. You can choose whether to sort in ascending or descending order"
      ],
      "metadata": {
        "id": "_VUB7k9DbU98"
      }
    },
    {
      "cell_type": "code",
      "source": [
        "my_dict = {'a': 3, 'b': 1, 'c': 2}\n",
        "sorted_dict = dict(sorted(my_dict.items(), key=lambda item: item[1]))\n",
        "\n",
        "print(\"Sorted dictionary:\", sorted_dict)"
      ],
      "metadata": {
        "colab": {
          "base_uri": "https://localhost:8080/"
        },
        "id": "RswZVBPpbbxn",
        "outputId": "48c7bb84-f50b-4e7c-c732-62eb713f26d3"
      },
      "execution_count": 49,
      "outputs": [
        {
          "output_type": "stream",
          "name": "stdout",
          "text": [
            "Sorted dictionary: {'b': 1, 'c': 2, 'a': 3}\n"
          ]
        }
      ]
    },
    {
      "cell_type": "markdown",
      "source": [
        "# 35. Write a code that inverts a dictionary, swapping keys and values. Ensure that the inverted dictionary correctly handles cases where multiple keys have the same value by storing the keys as a list in the inverted dictionary."
      ],
      "metadata": {
        "id": "puWCCHmwbiAE"
      }
    },
    {
      "cell_type": "code",
      "source": [
        "my_dict = {'a': 1, 'b': 2, 'c': 1}\n",
        "inverted_dict = {}\n",
        "\n",
        "for key, value in my_dict.items():\n",
        "    inverted_dict.setdefault(value, []).append(key)\n",
        "\n",
        "print(\"Inverted dictionary:\", inverted_dict)"
      ],
      "metadata": {
        "colab": {
          "base_uri": "https://localhost:8080/"
        },
        "id": "2nuZ-CFubl5v",
        "outputId": "8dad0674-072e-40a5-9e2e-f3d9ea27eee2"
      },
      "execution_count": 31,
      "outputs": [
        {
          "output_type": "stream",
          "name": "stdout",
          "text": [
            "Inverted dictionary: {1: ['a', 'c'], 2: ['b']}\n"
          ]
        }
      ]
    }
  ]
}